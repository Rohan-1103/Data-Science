{
  "nbformat": 4,
  "nbformat_minor": 0,
  "metadata": {
    "colab": {
      "provenance": [],
      "include_colab_link": true
    },
    "kernelspec": {
      "name": "python3",
      "display_name": "Python 3"
    },
    "language_info": {
      "name": "python"
    }
  },
  "cells": [
    {
      "cell_type": "markdown",
      "metadata": {
        "id": "view-in-github",
        "colab_type": "text"
      },
      "source": [
        "<a href=\"https://colab.research.google.com/github/Rohan-1103/Data-Science/blob/main/session11_exception_handling.ipynb\" target=\"_parent\"><img src=\"https://colab.research.google.com/assets/colab-badge.svg\" alt=\"Open In Colab\"/></a>"
      ]
    },
    {
      "cell_type": "markdown",
      "source": [
        "There are 2 stages where error may happen in a program\n",
        "\n",
        "- During compilation -> Syntax Error\n",
        "- During execution -> Exceptions"
      ],
      "metadata": {
        "id": "xh7vgT_4-gdB"
      }
    },
    {
      "cell_type": "markdown",
      "source": [
        "### Syntax Error\n",
        "\n",
        "- Something in the program is not written according to the program grammar.\n",
        "- Error is raised by the interpreter/compiler\n",
        "- You can solve it by rectifying the program\n"
      ],
      "metadata": {
        "id": "U9R2vn5c-2RE"
      }
    },
    {
      "cell_type": "code",
      "source": [
        "# Examples of syntax error\n",
        "# print 'hello world'"
      ],
      "metadata": {
        "id": "sgsgNEc--1ux"
      },
      "execution_count": 1,
      "outputs": []
    },
    {
      "cell_type": "markdown",
      "source": [
        "### Other examples of syntax error\n",
        "\n",
        "- Leaving symbols like colon,brackets\n",
        "- Misspelling a keyword\n",
        "- Incorrect indentation\n",
        "- empty if/else/loops/class/functions"
      ],
      "metadata": {
        "id": "502wvB8BGO0K"
      }
    },
    {
      "cell_type": "code",
      "source": [
        "a = 5\n",
        "# if a==3\n",
        "#   print('hello')"
      ],
      "metadata": {
        "id": "gd_SjrGDGTcU"
      },
      "execution_count": 2,
      "outputs": []
    },
    {
      "cell_type": "code",
      "source": [
        "a = 5\n",
        "# iff a==3:\n",
        "#   print('hello')"
      ],
      "metadata": {
        "id": "eq0Y-v_MGTmR"
      },
      "execution_count": 3,
      "outputs": []
    },
    {
      "cell_type": "code",
      "source": [
        "a = 5\n",
        "if a==3:\n",
        "# print('hello')\n",
        "  pass"
      ],
      "metadata": {
        "id": "Llm9KioiGTwe"
      },
      "execution_count": 4,
      "outputs": []
    },
    {
      "cell_type": "code",
      "source": [
        "# IndexError\n",
        "# The IndexError is thrown when trying to access an item at an invalid index.\n",
        "L = [1,2,3]\n",
        "# L[100]"
      ],
      "metadata": {
        "id": "KZQFu9zdEuFC"
      },
      "execution_count": 5,
      "outputs": []
    },
    {
      "cell_type": "code",
      "source": [
        "# ModuleNotFoundError\n",
        "# The ModuleNotFoundError is thrown when a module could not be found.\n",
        "# import mathi\n",
        "# mathi.floor(5.3)"
      ],
      "metadata": {
        "id": "FfoXlpAGE1rW"
      },
      "execution_count": 7,
      "outputs": []
    },
    {
      "cell_type": "code",
      "source": [
        "# KeyError\n",
        "# The KeyError is thrown when a key is not found\n",
        "\n",
        "d = {'name':'nitish'}\n",
        "# d['age']"
      ],
      "metadata": {
        "id": "IP2CycVwE66e"
      },
      "execution_count": 8,
      "outputs": []
    },
    {
      "cell_type": "code",
      "source": [
        "# TypeError\n",
        "# The TypeError is thrown when an operation or function is applied to an object of an inappropriate type.\n",
        "# 1 + 'a'"
      ],
      "metadata": {
        "id": "meGU1o_VE-Y5"
      },
      "execution_count": 9,
      "outputs": []
    },
    {
      "cell_type": "code",
      "source": [
        "# ValueError\n",
        "# The ValueError is thrown when a function's argument is of an inappropriate type.\n",
        "# int('a')"
      ],
      "metadata": {
        "id": "ZE_r2WsaFF6f"
      },
      "execution_count": 11,
      "outputs": []
    },
    {
      "cell_type": "code",
      "source": [
        "# NameError\n",
        "# The NameError is thrown when an object could not be found.\n",
        "# print(k)"
      ],
      "metadata": {
        "id": "yr7eRF2xFPo7"
      },
      "execution_count": 12,
      "outputs": []
    },
    {
      "cell_type": "code",
      "source": [
        "# AttributeError\n",
        "L = [1,2,3]\n",
        "# L.upper()\n",
        "\n",
        "# Stacktrace -> Error message"
      ],
      "metadata": {
        "id": "VHVKtWwWFUhK"
      },
      "execution_count": 14,
      "outputs": []
    },
    {
      "cell_type": "markdown",
      "source": [
        "### Exceptions\n",
        "\n",
        "If things go wrong during the execution of the program(runtime). It generally happens when something unforeseen has happened.\n",
        "\n",
        "- Exceptions are raised by python runtime\n",
        "- You have to takle is on the fly\n",
        "\n",
        "#### **Examples**\n",
        "\n",
        "- Memory overflow\n",
        "- Divide by 0 -> logical error\n",
        "- Database error"
      ],
      "metadata": {
        "id": "l6JrgCrHA2Tq"
      }
    },
    {
      "cell_type": "code",
      "source": [
        "# Why is it important to handle exceptions\n",
        "# how to handle exceptions\n",
        "# -> Try -> What can cause error\n",
        "# -> except -> What to show when error occurs"
      ],
      "metadata": {
        "id": "rfzG2r9DAfDf"
      },
      "execution_count": 16,
      "outputs": []
    },
    {
      "cell_type": "code",
      "source": [
        "# let's create a file\n",
        "with open('sample.txt','w') as f:\n",
        "  f.write('hello world')"
      ],
      "metadata": {
        "id": "S_VIvkx9Hnxb"
      },
      "execution_count": 17,
      "outputs": []
    },
    {
      "cell_type": "code",
      "source": [
        "# try catch demo\n",
        "try:\n",
        "  with open('sample1.txt','r') as f:\n",
        "    print(f.read())\n",
        "except:\n",
        "  print('sorry file not found')"
      ],
      "metadata": {
        "colab": {
          "base_uri": "https://localhost:8080/"
        },
        "id": "9WItdkURHtvM",
        "outputId": "46f88bf6-77e1-4ca9-8e67-dc89a81b1a72"
      },
      "execution_count": 18,
      "outputs": [
        {
          "output_type": "stream",
          "name": "stdout",
          "text": [
            "sorry file not found\n"
          ]
        }
      ]
    },
    {
      "cell_type": "code",
      "source": [
        "# catching specific exception\n",
        "try:\n",
        "  m=5\n",
        "  # f = open('sample1.txt','r')\n",
        "  f = open('sample.txt','r')\n",
        "  print(f.read())\n",
        "  print(m)\n",
        "  # print(5/0)\n",
        "  print(5/2)\n",
        "  L = [1,2,3]\n",
        "  L[100]\n",
        "\n",
        "except FileNotFoundError:\n",
        "  print('file not found')\n",
        "except NameError:\n",
        "  print('variable not defined')\n",
        "except ZeroDivisionError:\n",
        "  print(\"can't divide by 0\")\n",
        "# Good practice (should be after all the specific exceptions)\n",
        "except Exception as e:\n",
        "  print(e.with_traceback)"
      ],
      "metadata": {
        "colab": {
          "base_uri": "https://localhost:8080/"
        },
        "id": "px7mJhmvH0pd",
        "outputId": "6fc726e8-b83a-4477-901c-a4f39029f836"
      },
      "execution_count": 20,
      "outputs": [
        {
          "output_type": "stream",
          "name": "stdout",
          "text": [
            "hello world\n",
            "5\n",
            "2.5\n",
            "<built-in method with_traceback of IndexError object at 0x7da9516d6800>\n"
          ]
        }
      ]
    },
    {
      "cell_type": "code",
      "source": [
        "# else\n",
        "try:\n",
        "  # f = open('sample1.txt','r')\n",
        "  f = open('sample.txt','r')\n",
        "except FileNotFoundError:\n",
        "  print('file nai mili')\n",
        "except Exception:\n",
        "  print('kuch to lafda hai')\n",
        "# After the success of try -> No exception\n",
        "else:         # -> Code with no chance of exception\n",
        "  print(f.read())"
      ],
      "metadata": {
        "colab": {
          "base_uri": "https://localhost:8080/"
        },
        "id": "nn-_EK1TKvno",
        "outputId": "de30b1b9-4d1e-43e0-bb65-64823a6f62b5"
      },
      "execution_count": 22,
      "outputs": [
        {
          "output_type": "stream",
          "name": "stdout",
          "text": [
            "hello world\n"
          ]
        }
      ]
    },
    {
      "cell_type": "code",
      "source": [
        "# finally -> Will execute anyhow -> to check execution occurred\n",
        "# else\n",
        "try:\n",
        "  # f = open('sample1.txt','r')\n",
        "  f = open('sample.txt','r')\n",
        "except FileNotFoundError:\n",
        "  print('file nai mili')\n",
        "except Exception:\n",
        "  print('kuch to lafda hai')\n",
        "else:\n",
        "  print(f.read())\n",
        "finally:\n",
        "  print('ye to print hoga hi')"
      ],
      "metadata": {
        "colab": {
          "base_uri": "https://localhost:8080/"
        },
        "id": "VKzyyGTUKwm5",
        "outputId": "221cb7ff-08d7-4f6f-8851-198f96f6aa06"
      },
      "execution_count": 25,
      "outputs": [
        {
          "output_type": "stream",
          "name": "stdout",
          "text": [
            "hello world\n",
            "ye to print hoga hi\n"
          ]
        }
      ]
    },
    {
      "cell_type": "code",
      "source": [
        "# raise Exception\n",
        "# In Python programming, exceptions are raised when errors occur at runtime.\n",
        "# We can also manually raise exceptions using the raise keyword.\n",
        "\n",
        "# We can optionally pass values to the exception to clarify why that exception was raised"
      ],
      "metadata": {
        "id": "weTHAgttKxaJ"
      },
      "execution_count": 26,
      "outputs": []
    },
    {
      "cell_type": "code",
      "source": [
        "# raise ZeroDivisionError('aise hi try kar raha hu')\n",
        "# raise ModuleNotFoundError('aise hi try kar raha hu')\n",
        "\n",
        "\n",
        "# Java\n",
        "# try -> try\n",
        "# except -> catch\n",
        "# raise -> throw"
      ],
      "metadata": {
        "id": "IH51eIy5K9Yc"
      },
      "execution_count": 28,
      "outputs": []
    },
    {
      "cell_type": "code",
      "source": [
        "class Bank:\n",
        "\n",
        "  def __init__(self,balance):\n",
        "    self.balance = balance\n",
        "\n",
        "  def withdraw(self,amount):\n",
        "    if amount < 0:\n",
        "      raise Exception('amount cannot be -ve')\n",
        "    if self.balance < amount:\n",
        "      raise Exception('paise nai hai tere paas')\n",
        "    self.balance = self.balance - amount\n",
        "\n",
        "obj = Bank(10000)\n",
        "try:\n",
        "  # obj.withdraw(15000)\n",
        "  obj.withdraw(-1000)\n",
        "  # obj.withdraw(1000)\n",
        "except Exception as e:\n",
        "  print(e)\n",
        "else:\n",
        "  print(obj.balance)"
      ],
      "metadata": {
        "colab": {
          "base_uri": "https://localhost:8080/"
        },
        "id": "0qLD1KYj_LPm",
        "outputId": "191e117a-156d-4184-b13b-b92890c6e6b2"
      },
      "execution_count": 30,
      "outputs": [
        {
          "output_type": "stream",
          "name": "stdout",
          "text": [
            "amount cannot be -ve\n"
          ]
        }
      ]
    },
    {
      "cell_type": "markdown",
      "source": [
        "![image.png](data:image/png;base64,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)"
      ],
      "metadata": {
        "id": "XpsxsR8DJoKw"
      }
    },
    {
      "cell_type": "markdown",
      "source": [
        "### creating custom exceptions: Application based exceptions"
      ],
      "metadata": {
        "id": "jYm--v8RKZL3"
      }
    },
    {
      "cell_type": "code",
      "source": [
        "class MyException(Exception):\n",
        "  def __init__(self,message):\n",
        "    print(message)\n",
        "\n",
        "class Bank:\n",
        "\n",
        "  def __init__(self,balance):\n",
        "    self.balance = balance\n",
        "\n",
        "  def withdraw(self,amount):\n",
        "    if amount < 0:\n",
        "      raise MyException('amount cannot be -ve')\n",
        "    if self.balance < amount:\n",
        "      raise MyException('paise nai hai tere paas')\n",
        "    self.balance = self.balance - amount\n",
        "\n",
        "obj = Bank(10000)\n",
        "try:\n",
        "  # obj.withdraw(-5000)\n",
        "  obj.withdraw(15000)\n",
        "  # obj.withdraw(5000)\n",
        "except MyException as e:\n",
        "  pass\n",
        "else:\n",
        "  print(obj.balance)"
      ],
      "metadata": {
        "colab": {
          "base_uri": "https://localhost:8080/"
        },
        "id": "DLzBsX5eBSNs",
        "outputId": "dc2b5e76-4605-4631-f7ec-e87196e88d82"
      },
      "execution_count": 36,
      "outputs": [
        {
          "output_type": "stream",
          "name": "stdout",
          "text": [
            "paise nai hai tere paas\n"
          ]
        }
      ]
    },
    {
      "cell_type": "code",
      "source": [
        "# simple example"
      ],
      "metadata": {
        "id": "E9f2B-J_cNJF"
      },
      "execution_count": 32,
      "outputs": []
    },
    {
      "cell_type": "code",
      "source": [
        "class SecurityError(Exception):\n",
        "  def __init__(self,message):\n",
        "    print(message)\n",
        "\n",
        "  def logout(self):\n",
        "    print('logout')\n",
        "\n",
        "class Google:\n",
        "  def __init__(self,name,email,password,device):\n",
        "    self.name = name\n",
        "    self.email = email\n",
        "    self.password = password\n",
        "    self.device = device\n",
        "\n",
        "  def login(self,email,password,device):\n",
        "    if device != self.device:\n",
        "      raise SecurityError('bhai teri to lag gayi')\n",
        "    if email == self.email and password == self.password:\n",
        "      print('welcome')\n",
        "    else:\n",
        "      print('login error')\n",
        "\n",
        "\n",
        "obj = Google('nitish','nitish@gmail.com','1234','android')\n",
        "\n",
        "try:\n",
        "  # obj.login('nitish@gmail.com','1234','windows')\n",
        "  obj.login('nitish@gmail.com','1234','android')\n",
        "except SecurityError as e:\n",
        "  e.logout()\n",
        "else:\n",
        "  print(obj.name)\n",
        "finally:\n",
        "  print('database connection closed')"
      ],
      "metadata": {
        "colab": {
          "base_uri": "https://localhost:8080/"
        },
        "id": "YMIbhy3acWX4",
        "outputId": "d8a2bfda-1982-474e-a935-6be1ce26456e"
      },
      "execution_count": 37,
      "outputs": [
        {
          "output_type": "stream",
          "name": "stdout",
          "text": [
            "welcome\n",
            "nitish\n",
            "database connection closed\n"
          ]
        }
      ]
    }
  ]
}