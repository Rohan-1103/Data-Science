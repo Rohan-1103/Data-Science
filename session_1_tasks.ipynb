{
  "nbformat": 4,
  "nbformat_minor": 0,
  "metadata": {
    "colab": {
      "provenance": [],
      "include_colab_link": true
    },
    "kernelspec": {
      "name": "python3",
      "display_name": "Python 3"
    },
    "language_info": {
      "name": "python"
    }
  },
  "cells": [
    {
      "cell_type": "markdown",
      "metadata": {
        "id": "view-in-github",
        "colab_type": "text"
      },
      "source": [
        "<a href=\"https://colab.research.google.com/github/Rohan-1103/Data-Science/blob/main/session_1_tasks.ipynb\" target=\"_parent\"><img src=\"https://colab.research.google.com/assets/colab-badge.svg\" alt=\"Open In Colab\"/></a>"
      ]
    },
    {
      "cell_type": "markdown",
      "source": [
        "# Task : Session 1\n",
        "Solve these questions own your own and try to test yourself what you have learned in the session.\n",
        "\n",
        "Happy Learning!"
      ],
      "metadata": {
        "id": "A05OG15VqOPF"
      }
    },
    {
      "cell_type": "markdown",
      "source": [
        "### Q1 :- Print the given strings as per stated format.\n",
        "\n",
        "**Given strings**:\n",
        "```\n",
        "\"Data\" \"Science\" \"Mentorship\" \"Program\"\n",
        "\"By\" \"CampusX\"\n",
        "```\n",
        "**Output**:\n",
        "```\n",
        "Data-Science-Mentorship-Program-started-By-CampusX\n",
        "```\n",
        "\n",
        "Concept- [Seperator and End]"
      ],
      "metadata": {
        "id": "2doIXf8bqe9_"
      }
    },
    {
      "cell_type": "code",
      "source": [
        "print(\"Data\", \"Science\", \"Mentorship\", \"Program\", end = \"-started-\",  sep=\"-\")\n",
        "print(\"By\", \"CampusX\", sep=\"-\")"
      ],
      "metadata": {
        "id": "-em6d3KErDtp",
        "outputId": "5c82b7b7-f55c-43b9-c28e-b6ac93ccd3f9",
        "colab": {
          "base_uri": "https://localhost:8080/"
        }
      },
      "execution_count": null,
      "outputs": [
        {
          "output_type": "stream",
          "name": "stdout",
          "text": [
            "Data-Science-Mentorship-Program-started-By-CampusX\n"
          ]
        }
      ]
    },
    {
      "cell_type": "markdown",
      "source": [
        "### Q2:- Write a program that will convert celsius value to fahrenheit."
      ],
      "metadata": {
        "id": "1KUpN7ZTrC3_"
      }
    },
    {
      "cell_type": "code",
      "source": [
        "celsius = int(input(\"Enter temperature in celsius: \"))\n",
        "print(celsius, \" degree celsius is: \", (celsius * (9/5) + 32),\" Fahrenheit\")"
      ],
      "metadata": {
        "id": "yxKYhYQiqWfj",
        "outputId": "6a9b8aa9-048d-438b-8103-f2e0e89b43f4",
        "colab": {
          "base_uri": "https://localhost:8080/"
        }
      },
      "execution_count": null,
      "outputs": [
        {
          "output_type": "stream",
          "name": "stdout",
          "text": [
            "Enter temperature in celsius: 22\n",
            "22  degree celsius is:  71.6  Fahrenheit\n"
          ]
        }
      ]
    },
    {
      "cell_type": "markdown",
      "source": [
        "### Q3:- Take 2 numbers as input from the user.Write a program to swap the numbers without using any special python syntax."
      ],
      "metadata": {
        "id": "RLrOBBJurLB2"
      }
    },
    {
      "cell_type": "code",
      "source": [
        "num1 = int(input(\"Enter number 1: \"))\n",
        "num2 = int(input(\"Enter number 2: \"))\n",
        "print(\"Before swap num1 = \", num1, \" num2 = \", num2)\n",
        "a = num2\n",
        "num2 = num1\n",
        "num1 = a\n",
        "print(\"After swap num1 = \", num1, \" num2 = \", num2)"
      ],
      "metadata": {
        "id": "yPn7if0TrJ4F",
        "outputId": "0135f3b1-91b5-4f37-d173-fc73e11c70ef",
        "colab": {
          "base_uri": "https://localhost:8080/"
        }
      },
      "execution_count": null,
      "outputs": [
        {
          "output_type": "stream",
          "name": "stdout",
          "text": [
            "Enter number 1: 11\n",
            "Enter number 2: 31\n",
            "Before swap num1 =  11  num2 =  31\n",
            "After swap num1 =  31  num2 =  11\n"
          ]
        }
      ]
    },
    {
      "cell_type": "markdown",
      "source": [
        "### Q4:- Write a program to find the euclidean distance between two coordinates.Take both the coordinates from the user as input."
      ],
      "metadata": {
        "id": "waLCP1bjr7ML"
      }
    },
    {
      "cell_type": "code",
      "source": [
        "print(\"Enter coordinates for first value: \")\n",
        "x1 = int(input())\n",
        "y1 = int(input())\n",
        "print(\"Enter coordinates for second value: \")\n",
        "x2 = int(input())\n",
        "y2 = int(input())\n",
        "# print(\"Euclidean distance between two points is: \", x2 - x1, y2 - y1)\n",
        "# print(\"Euclidean distance between two points is: \", (((x2**2 - x1**2) + (y2**2 - y1**2))**0.5))\n",
        "print(\"Euclidean distance between two points is: \", (((x2 - x1)**2) + ((y2 - y1)**2))**0.5)"
      ],
      "metadata": {
        "id": "Pl1Sv-xnrxnH",
        "outputId": "31685c23-371c-45d5-e858-adc9bc2a986a",
        "colab": {
          "base_uri": "https://localhost:8080/"
        }
      },
      "execution_count": null,
      "outputs": [
        {
          "output_type": "stream",
          "name": "stdout",
          "text": [
            "Enter coordinates for first value: \n",
            "11\n",
            "3\n",
            "Enter coordinates for second value: \n",
            "31\n",
            "12\n",
            "Euclidean distance between two points is:  31.22498999199199\n",
            "Euclidean distance between two points is:  21.93171219946131\n"
          ]
        }
      ]
    },
    {
      "cell_type": "markdown",
      "source": [
        "### Q5:- Write a program to find the simple interest when the value of principle,rate of interest and time period is provided by the user.\n"
      ],
      "metadata": {
        "id": "VLrhg-FRsHjR"
      }
    },
    {
      "cell_type": "code",
      "source": [
        "principle = int(input(\"enter the amount: \"))\n",
        "rate_of_interest = float(input(\"enter the interest rate: \"))\n",
        "time = float(input(\"enter the time period in years: \"))\n",
        "si = (principle * rate_of_interest * time)/100\n",
        "print(\"Simple interest is: \", si)"
      ],
      "metadata": {
        "id": "s40DlReZsTmY",
        "outputId": "d2c0fdc4-3ba9-4e63-e1fb-fc129730817a",
        "colab": {
          "base_uri": "https://localhost:8080/"
        }
      },
      "execution_count": null,
      "outputs": [
        {
          "output_type": "stream",
          "name": "stdout",
          "text": [
            "enter the amount: 4650000\n",
            "enter the interest rate: 7.8\n",
            "enter the time period in years: 15\n",
            "Simple interest is:  5440500.0\n"
          ]
        }
      ]
    },
    {
      "cell_type": "markdown",
      "source": [
        "### Q6:- Write a program that will tell the number of dogs and chicken are there when the user will provide the value of total heads and legs.\n",
        "\n",
        "For example:\n",
        "Input:\n",
        "heads -> 4\n",
        "legs -> 12\n",
        "<br>\n",
        "Output:\n",
        "dogs -> 2\n",
        "chicken -> 2\n",
        "\n",
        "\n",
        "\n"
      ],
      "metadata": {
        "id": "LMy0BTUktYKa"
      }
    },
    {
      "cell_type": "code",
      "source": [
        "# Heads and legs problem\n",
        "\n",
        "# Taking inputs\n",
        "heads = int(input(\"Enter total number of heads: \"))\n",
        "legs = int(input(\"Enter total number of legs: \"))\n",
        "\n",
        "# dogs = d, chickens = c\n",
        "# Equations:\n",
        "# c + d = heads\n",
        "# 2c + 4d = legs\n",
        "\n",
        "# Solving\n",
        "dogs = (legs - 2 * heads) // 2\n",
        "chickens = heads - dogs\n",
        "\n",
        "if dogs < 0 or chickens < 0 or (2 * chickens + 4 * dogs != legs):\n",
        "    print(\"No valid solution\")\n",
        "else:\n",
        "    print(f\"Dogs -> {dogs}, Chickens -> {chickens}\")"
      ],
      "metadata": {
        "id": "XSBvJoA4tXaG",
        "outputId": "5364f919-70a8-474d-acfc-b770e5e304f8",
        "colab": {
          "base_uri": "https://localhost:8080/"
        }
      },
      "execution_count": null,
      "outputs": [
        {
          "output_type": "stream",
          "name": "stdout",
          "text": [
            "Enter total number of heads: 8\n",
            "Enter total number of legs: 32\n",
            "Dogs -> 8, Chickens -> 0\n"
          ]
        }
      ]
    },
    {
      "cell_type": "markdown",
      "source": [
        "### Q7:- Write a program to find the sum of squares of first n natural numbers where n will be provided by the user."
      ],
      "metadata": {
        "id": "gJ7C5kZYt4BP"
      }
    },
    {
      "cell_type": "code",
      "source": [
        "n = int(input(\"Enter number till u want sum of squares: \"))\n",
        "i = 1\n",
        "sq_sm = 0\n",
        "while(i <= n):\n",
        "  sq_sm = sq_sm + i * i\n",
        "  i+=1\n",
        "print(\"Sum of square of numbers till \", n, \" is: \", sq_sm)"
      ],
      "metadata": {
        "id": "_tHsmEHzt2nX",
        "outputId": "5c5fb9fe-d621-4b00-9065-dba5eec2735b",
        "colab": {
          "base_uri": "https://localhost:8080/"
        }
      },
      "execution_count": null,
      "outputs": [
        {
          "output_type": "stream",
          "name": "stdout",
          "text": [
            "Enter number till u want sum of squares: 5\n",
            "Sum of square of numbers till  5  is:  55\n"
          ]
        }
      ]
    },
    {
      "cell_type": "markdown",
      "source": [
        "### Q8:- Given the first 2 terms of an Arithmetic Series.Find the Nth term of the series. Assume all inputs are provided by the user."
      ],
      "metadata": {
        "id": "FHrMM7g-yG1h"
      }
    },
    {
      "cell_type": "code",
      "source": [
        "# t1 = int(input(\"Enter 1st term of arithmetic series: \"))\n",
        "# t2 = int(input(\"Enter 2nd term of arithmetic series: \"))\n",
        "# n = int(input(\"Enter which term of series you want to find: \"))\n",
        "# diff = t2 - t1\n",
        "# i = 3\n",
        "# result = 1\n",
        "# while(i < n):\n",
        "#   result = result + (t2 + diff)\n",
        "#   i+=1\n",
        "# print(\"Nth term value is: \", result)\n",
        "t1 = int(input(\"Enter 1st term of arithmetic series: \"))\n",
        "t2 = int(input(\"Enter 2nd term of arithmetic series: \"))\n",
        "n = int(input(\"Enter which term of series you want to find: \"))\n",
        "\n",
        "diff = t2 - t1\n",
        "nth_term = t1 + (n - 1) * diff\n",
        "\n",
        "print(\"Nth term value is:\", nth_term)"
      ],
      "metadata": {
        "id": "go4_kmZmyVSx",
        "outputId": "221465b1-593c-4705-e36e-d7972b9b762a",
        "colab": {
          "base_uri": "https://localhost:8080/"
        }
      },
      "execution_count": null,
      "outputs": [
        {
          "output_type": "stream",
          "name": "stdout",
          "text": [
            "Enter 1st term of arithmetic series: 2\n",
            "Enter 2nd term of arithmetic series: 5\n",
            "Enter which term of series you want to find: 4\n",
            "Nth term value is: 11\n"
          ]
        }
      ]
    },
    {
      "cell_type": "markdown",
      "source": [
        "### Q9:- Given 2 fractions, find the sum of those 2 fractions.Take the numerator and denominator values of the fractions from the user.\n"
      ],
      "metadata": {
        "id": "QgyRX_es1oum"
      }
    },
    {
      "cell_type": "code",
      "source": [
        "n1 = float(input(\"Enter the numerator of 1st fraction: \"))\n",
        "d1 = float(input(\"Enter the denominator of 1st fraction: \"))\n",
        "n2 = float(input(\"Enter the numerator of 2nd fraction: \"))\n",
        "d2 = float(input(\"Enter the denominator of 2nd fraction: \"))\n",
        "f1 = n1/d1\n",
        "f2 = n2/d2\n",
        "sum = f1 + f2\n",
        "print(\"Sum of the 2 fractions is: \", sum)"
      ],
      "metadata": {
        "id": "X05xqFS1yW16",
        "outputId": "cd386cbe-948f-4129-c682-d335261d2604",
        "colab": {
          "base_uri": "https://localhost:8080/"
        }
      },
      "execution_count": null,
      "outputs": [
        {
          "output_type": "stream",
          "name": "stdout",
          "text": [
            "Enter the numerator of 1st fraction: 11\n",
            "Enter the denominator of 1st fraction: 3\n",
            "Enter the numerator of 2nd fraction: 31\n",
            "Enter the denominator of 2nd fraction: 12\n",
            "Sum of the 2 fractions is:  6.25\n"
          ]
        }
      ]
    },
    {
      "cell_type": "markdown",
      "source": [
        "### Q10:- Given the height, width and breadth of a milk tank, you have to find out how many glasses of milk can be obtained? Assume all the inputs are provided by the user.\n",
        "\n",
        "\n",
        "\n",
        "Input:<br>\n",
        "Dimensions of the milk tank<br>\n",
        "H = 20cm, L = 20cm, B = 20cm\n",
        "<br><br>\n",
        "Dimensions of the glass<br>\n",
        "h = 3cm, r = 1cm"
      ],
      "metadata": {
        "id": "eaql38ln13u7"
      }
    },
    {
      "cell_type": "code",
      "source": [
        "Th = float(input(\"Enter height of the milk tank: \"))\n",
        "Tl = float(input(\"Enter length of the milk tank: \"))\n",
        "Tb = float(input(\"Enter breadth of the milk tank: \"))\n",
        "\n",
        "gh = float(input(\"Enter height of the glass: \"))\n",
        "gr = float(input(\"Enter radius of the glass: \"))\n",
        "\n",
        "t_vol = Tl * Tb * Th\n",
        "g_vol = 3.14 * (gr ** 2) * gh\n",
        "\n",
        "print(\"Vol. of tanker: \", t_vol)\n",
        "print(\"Vol. of glass: \", g_vol)\n",
        "\n",
        "print(\"We can  obtain \", t_vol/g_vol, \" glasses of milk.\")"
      ],
      "metadata": {
        "id": "FePZqno74eWv",
        "outputId": "25139ca7-f9f1-4468-e366-852ca7c24a98",
        "colab": {
          "base_uri": "https://localhost:8080/"
        }
      },
      "execution_count": 5,
      "outputs": [
        {
          "output_type": "stream",
          "name": "stdout",
          "text": [
            "Enter height of the milk tank: 11\n",
            "Enter length of the milk tank: 31\n",
            "Enter breadth of the milk tank: 3\n",
            "Enter height of the glass: 4\n",
            "Enter radius of the glass: 2\n",
            "Vol. of tanker:  1023.0\n",
            "Vol. of glass:  50.24\n",
            "We can  obtain  20.362261146496813  glasses of milk.\n"
          ]
        }
      ]
    },
    {
      "cell_type": "code",
      "source": [],
      "metadata": {
        "id": "FuHv8oaZwreF"
      },
      "execution_count": null,
      "outputs": []
    }
  ]
}