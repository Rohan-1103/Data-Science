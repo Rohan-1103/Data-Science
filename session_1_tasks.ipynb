{
  "nbformat": 4,
  "nbformat_minor": 0,
  "metadata": {
    "colab": {
      "provenance": [],
      "include_colab_link": true
    },
    "kernelspec": {
      "name": "python3",
      "display_name": "Python 3"
    },
    "language_info": {
      "name": "python"
    }
  },
  "cells": [
    {
      "cell_type": "markdown",
      "metadata": {
        "id": "view-in-github",
        "colab_type": "text"
      },
      "source": [
        "<a href=\"https://colab.research.google.com/github/Rohan-1103/Data-Science/blob/main/session_1_tasks.ipynb\" target=\"_parent\"><img src=\"https://colab.research.google.com/assets/colab-badge.svg\" alt=\"Open In Colab\"/></a>"
      ]
    },
    {
      "cell_type": "markdown",
      "source": [
        "# Task : Session 1\n",
        "Solve these questions own your own and try to test yourself what you have learned in the session.\n",
        "\n",
        "Happy Learning!"
      ],
      "metadata": {
        "id": "A05OG15VqOPF"
      }
    },
    {
      "cell_type": "markdown",
      "source": [
        "### Q1 :- Print the given strings as per stated format.\n",
        "\n",
        "**Given strings**:\n",
        "```\n",
        "\"Data\" \"Science\" \"Mentorship\" \"Program\"\n",
        "\"By\" \"CampusX\"\n",
        "```\n",
        "**Output**:\n",
        "```\n",
        "Data-Science-Mentorship-Program-started-By-CampusX\n",
        "```\n",
        "\n",
        "Concept- [Seperator and End]"
      ],
      "metadata": {
        "id": "2doIXf8bqe9_"
      }
    },
    {
      "cell_type": "code",
      "source": [
        "print(\"Data\", \"Science\", \"Mentorship\", \"Program\", end = \"-started-\",  sep=\"-\")\n",
        "print(\"By\", \"CampusX\", sep=\"-\")"
      ],
      "metadata": {
        "id": "-em6d3KErDtp",
        "outputId": "07f54036-1d8e-4f73-d502-90e11acd0d2a",
        "colab": {
          "base_uri": "https://localhost:8080/"
        }
      },
      "execution_count": 1,
      "outputs": [
        {
          "output_type": "stream",
          "name": "stdout",
          "text": [
            "Data-Science-Mentorship-Program-started-By-CampusX\n"
          ]
        }
      ]
    },
    {
      "cell_type": "markdown",
      "source": [
        "### Q2:- Write a program that will convert celsius value to fahrenheit.\n",
        "- Formula: Fehrenheit = Celcius * (9/5) + 32"
      ],
      "metadata": {
        "id": "1KUpN7ZTrC3_"
      }
    },
    {
      "cell_type": "code",
      "source": [
        "celsius = int(input(\"Enter temperature in celsius: \"))\n",
        "print(celsius, \" degree celsius is: \", (celsius * (9/5) + 32),\" Fahrenheit\")"
      ],
      "metadata": {
        "id": "yxKYhYQiqWfj",
        "outputId": "f8ae2a0e-190b-474b-a3df-7f549e115f80",
        "colab": {
          "base_uri": "https://localhost:8080/"
        }
      },
      "execution_count": 2,
      "outputs": [
        {
          "output_type": "stream",
          "name": "stdout",
          "text": [
            "Enter temperature in celsius: 55\n",
            "55  degree celsius is:  131.0  Fahrenheit\n"
          ]
        }
      ]
    },
    {
      "cell_type": "markdown",
      "source": [
        "### Q3:- Take 2 numbers as input from the user.Write a program to swap the numbers without using any special python syntax.\n",
        "Concept - [Temporary variable]"
      ],
      "metadata": {
        "id": "RLrOBBJurLB2"
      }
    },
    {
      "cell_type": "code",
      "source": [
        "num1 = int(input(\"Enter number 1: \"))\n",
        "num2 = int(input(\"Enter number 2: \"))\n",
        "print(\"Before swap num1 = \", num1, \" num2 = \", num2)\n",
        "a = num2\n",
        "num2 = num1\n",
        "num1 = a\n",
        "print(\"After swap num1 = \", num1, \" num2 = \", num2)"
      ],
      "metadata": {
        "id": "yPn7if0TrJ4F",
        "outputId": "a99b17d8-f9dc-4d44-fcd5-419971364723",
        "colab": {
          "base_uri": "https://localhost:8080/"
        }
      },
      "execution_count": 3,
      "outputs": [
        {
          "output_type": "stream",
          "name": "stdout",
          "text": [
            "Enter number 1: 11\n",
            "Enter number 2: 31\n",
            "Before swap num1 =  11  num2 =  31\n",
            "After swap num1 =  31  num2 =  11\n"
          ]
        }
      ]
    },
    {
      "cell_type": "markdown",
      "source": [
        "### Q4:- Write a program to find the euclidean distance between two coordinates.Take both the coordinates from the user as input.\n",
        "- Formula: d =√[(x2 – x1)^2 + (y2 – y1)^2]"
      ],
      "metadata": {
        "id": "waLCP1bjr7ML"
      }
    },
    {
      "cell_type": "code",
      "source": [
        "print(\"Enter coordinates for first value: \")\n",
        "x1 = int(input())\n",
        "y1 = int(input())\n",
        "print(\"Enter coordinates for second value: \")\n",
        "x2 = int(input())\n",
        "y2 = int(input())\n",
        "# print(\"Euclidean distance between two points is: \", x2 - x1, y2 - y1)\n",
        "# print(\"Euclidean distance between two points is: \", (((x2**2 - x1**2) + (y2**2 - y1**2))**0.5))\n",
        "print(\"Euclidean distance between two points is: \", (((x2 - x1)**2) + ((y2 - y1)**2))**0.5)"
      ],
      "metadata": {
        "id": "Pl1Sv-xnrxnH",
        "outputId": "5d487af6-3c24-48bd-9f1a-7baec1ef0970",
        "colab": {
          "base_uri": "https://localhost:8080/"
        }
      },
      "execution_count": 4,
      "outputs": [
        {
          "output_type": "stream",
          "name": "stdout",
          "text": [
            "Enter coordinates for first value: \n",
            "11\n",
            "31\n",
            "Enter coordinates for second value: \n",
            "12\n",
            "3\n",
            "Euclidean distance between two points is:  28.0178514522438\n"
          ]
        }
      ]
    },
    {
      "cell_type": "markdown",
      "source": [
        "### Q5:- Write a program to find the simple interest when the value of principle,rate of interest and time period is provided by the user.\n",
        "- Formula: (principle * interest rate * time) / 100"
      ],
      "metadata": {
        "id": "VLrhg-FRsHjR"
      }
    },
    {
      "cell_type": "code",
      "source": [
        "principle = int(input(\"enter the amount: \"))\n",
        "rate_of_interest = float(input(\"enter the interest rate: \"))\n",
        "time = float(input(\"enter the time period in years: \"))\n",
        "si = (principle * rate_of_interest * time)/100\n",
        "print(\"Simple interest is: \", si)"
      ],
      "metadata": {
        "id": "s40DlReZsTmY",
        "outputId": "aa54138a-75bc-4dd4-d8b1-88e8a1dfbbbf",
        "colab": {
          "base_uri": "https://localhost:8080/"
        }
      },
      "execution_count": 5,
      "outputs": [
        {
          "output_type": "stream",
          "name": "stdout",
          "text": [
            "enter the amount: 23000000\n",
            "enter the interest rate: 2\n",
            "enter the time period in years: 3\n",
            "Simple interest is:  1380000.0\n"
          ]
        }
      ]
    },
    {
      "cell_type": "markdown",
      "source": [
        "### Q6:- Write a program that will tell the number of dogs and chicken are there when the user will provide the value of total heads and legs.\n",
        "\n",
        "For example:\n",
        "Input:\n",
        "heads -> 4\n",
        "legs -> 12\n",
        "<br>\n",
        "Output:\n",
        "dogs -> 2\n",
        "chicken -> 2\n",
        "\n",
        "Concept = [Simultaneous Equation]\n",
        "\n"
      ],
      "metadata": {
        "id": "LMy0BTUktYKa"
      }
    },
    {
      "cell_type": "code",
      "source": [
        "# Heads and legs problem\n",
        "\n",
        "# Taking inputs\n",
        "heads = int(input(\"Enter total number of heads: \"))\n",
        "legs = int(input(\"Enter total number of legs: \"))\n",
        "\n",
        "# dogs = d, chickens = c\n",
        "# Equations:\n",
        "# c + d = heads\n",
        "# 2c + 4d = legs\n",
        "\n",
        "# Solving\n",
        "dogs = (legs - 2 * heads) // 2\n",
        "chickens = heads - dogs\n",
        "\n",
        "if dogs < 0 or chickens < 0 or (2 * chickens + 4 * dogs != legs):\n",
        "    print(\"No valid solution\")\n",
        "else:\n",
        "    print(f\"Dogs -> {dogs}, Chickens -> {chickens}\")"
      ],
      "metadata": {
        "id": "XSBvJoA4tXaG",
        "outputId": "b9ab1057-b752-47ab-baa7-1dd6b8852fc2",
        "colab": {
          "base_uri": "https://localhost:8080/"
        }
      },
      "execution_count": 6,
      "outputs": [
        {
          "output_type": "stream",
          "name": "stdout",
          "text": [
            "Enter total number of heads: 31\n",
            "Enter total number of legs: 125\n",
            "No valid solution\n"
          ]
        }
      ]
    },
    {
      "cell_type": "markdown",
      "source": [
        "### Q7:- Write a program to find the sum of squares of first n natural numbers where n will be provided by the user."
      ],
      "metadata": {
        "id": "gJ7C5kZYt4BP"
      }
    },
    {
      "cell_type": "code",
      "source": [
        "n = int(input(\"Enter number till u want sum of squares: \"))\n",
        "i = 1\n",
        "sq_sm = 0\n",
        "while(i <= n):\n",
        "  sq_sm = sq_sm + i * i\n",
        "  i+=1\n",
        "print(\"Sum of square of numbers till \", n, \" is: \", sq_sm)"
      ],
      "metadata": {
        "id": "_tHsmEHzt2nX",
        "outputId": "69557c5e-9d35-4574-b87e-0b1ade2fa0ff",
        "colab": {
          "base_uri": "https://localhost:8080/"
        }
      },
      "execution_count": 7,
      "outputs": [
        {
          "output_type": "stream",
          "name": "stdout",
          "text": [
            "Enter number till u want sum of squares: 10\n",
            "Sum of square of numbers till  10  is:  385\n"
          ]
        }
      ]
    },
    {
      "cell_type": "markdown",
      "source": [
        "### Q8:- Given the first 2 terms of an Arithmetic Series.Find the Nth term of the series. Assume all inputs are provided by the user.\n",
        "Formula: nth_term = t1 + (n - 1) * diff"
      ],
      "metadata": {
        "id": "FHrMM7g-yG1h"
      }
    },
    {
      "cell_type": "code",
      "source": [
        "# t1 = int(input(\"Enter 1st term of arithmetic series: \"))\n",
        "# t2 = int(input(\"Enter 2nd term of arithmetic series: \"))\n",
        "# n = int(input(\"Enter which term of series you want to find: \"))\n",
        "# diff = t2 - t1\n",
        "# i = 3\n",
        "# result = 1\n",
        "# while(i < n):\n",
        "#   result = result + (t2 + diff)\n",
        "#   i+=1\n",
        "# print(\"Nth term value is: \", result)\n",
        "t1 = int(input(\"Enter 1st term of arithmetic series: \"))\n",
        "t2 = int(input(\"Enter 2nd term of arithmetic series: \"))\n",
        "n = int(input(\"Enter which term of series you want to find: \"))\n",
        "\n",
        "diff = t2 - t1\n",
        "nth_term = t1 + (n - 1) * diff\n",
        "\n",
        "print(\"Nth term value is:\", nth_term)"
      ],
      "metadata": {
        "id": "go4_kmZmyVSx",
        "outputId": "addac2ec-6ead-4013-b11c-29f65ef4e089",
        "colab": {
          "base_uri": "https://localhost:8080/"
        }
      },
      "execution_count": 8,
      "outputs": [
        {
          "output_type": "stream",
          "name": "stdout",
          "text": [
            "Enter 1st term of arithmetic series: 7\n",
            "Enter 2nd term of arithmetic series: 11\n",
            "Enter which term of series you want to find: 10\n",
            "Nth term value is: 43\n"
          ]
        }
      ]
    },
    {
      "cell_type": "markdown",
      "source": [
        "### Q9:- Given 2 fractions, find the sum of those 2 fractions.Take the numerator and denominator values of the fractions from the user."
      ],
      "metadata": {
        "id": "QgyRX_es1oum"
      }
    },
    {
      "cell_type": "code",
      "source": [
        "n1 = float(input(\"Enter the numerator of 1st fraction: \"))\n",
        "d1 = float(input(\"Enter the denominator of 1st fraction: \"))\n",
        "n2 = float(input(\"Enter the numerator of 2nd fraction: \"))\n",
        "d2 = float(input(\"Enter the denominator of 2nd fraction: \"))\n",
        "f1 = n1/d1\n",
        "f2 = n2/d2\n",
        "sum = f1 + f2\n",
        "print(\"Sum of the 2 fractions is: \", sum)"
      ],
      "metadata": {
        "id": "X05xqFS1yW16",
        "outputId": "f4f4f738-3a3c-44b8-e8e1-c32ac271951f",
        "colab": {
          "base_uri": "https://localhost:8080/"
        }
      },
      "execution_count": 9,
      "outputs": [
        {
          "output_type": "stream",
          "name": "stdout",
          "text": [
            "Enter the numerator of 1st fraction: 12.2\n",
            "Enter the denominator of 1st fraction: 31.12\n",
            "Enter the numerator of 2nd fraction: 11.3\n",
            "Enter the denominator of 2nd fraction: 25.1\n",
            "Sum of the 2 fractions is:  0.8422300515162998\n"
          ]
        }
      ]
    },
    {
      "cell_type": "markdown",
      "source": [
        "### Q10:- Given the height, width and breadth of a milk tank, you have to find out how many glasses of milk can be obtained? Assume all the inputs are provided by the user.\n",
        "\n",
        "Input:<br>\n",
        "Dimensions of the milk tank<br>\n",
        "H = 20cm, L = 20cm, B = 20cm\n",
        "<br><br>\n",
        "Dimensions of the glass<br>\n",
        "h = 3cm, r = 1cm"
      ],
      "metadata": {
        "id": "eaql38ln13u7"
      }
    },
    {
      "cell_type": "code",
      "source": [
        "Th = float(input(\"Enter height of the milk tank: \"))\n",
        "Tl = float(input(\"Enter length of the milk tank: \"))\n",
        "Tb = float(input(\"Enter breadth of the milk tank: \"))\n",
        "\n",
        "gh = float(input(\"Enter height of the glass: \"))\n",
        "gr = float(input(\"Enter radius of the glass: \"))\n",
        "\n",
        "t_vol = Tl * Tb * Th\n",
        "g_vol = 3.14 * (gr ** 2) * gh\n",
        "\n",
        "print(\"Vol. of tanker: \", t_vol)\n",
        "print(\"Vol. of glass: \", g_vol)\n",
        "\n",
        "print(\"We can  obtain \", t_vol/g_vol, \" glasses of milk.\")"
      ],
      "metadata": {
        "id": "FePZqno74eWv",
        "outputId": "7f9b688f-4fda-405b-8d68-64324dcb5f19",
        "colab": {
          "base_uri": "https://localhost:8080/"
        }
      },
      "execution_count": 10,
      "outputs": [
        {
          "output_type": "stream",
          "name": "stdout",
          "text": [
            "Enter height of the milk tank: 11\n",
            "Enter length of the milk tank: 12\n",
            "Enter breadth of the milk tank: 3\n",
            "Enter height of the glass: 31\n",
            "Enter radius of the glass: 12\n",
            "Vol. of tanker:  396.0\n",
            "Vol. of glass:  14016.960000000001\n",
            "We can  obtain  0.028251489623998354  glasses of milk.\n"
          ]
        }
      ]
    },
    {
      "cell_type": "code",
      "source": [],
      "metadata": {
        "id": "FuHv8oaZwreF"
      },
      "execution_count": null,
      "outputs": []
    }
  ]
}