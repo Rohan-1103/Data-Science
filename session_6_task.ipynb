{
  "nbformat": 4,
  "nbformat_minor": 0,
  "metadata": {
    "colab": {
      "provenance": [],
      "include_colab_link": true
    },
    "kernelspec": {
      "name": "python3",
      "display_name": "Python 3"
    },
    "language_info": {
      "name": "python"
    }
  },
  "cells": [
    {
      "cell_type": "markdown",
      "metadata": {
        "id": "view-in-github",
        "colab_type": "text"
      },
      "source": [
        "<a href=\"https://colab.research.google.com/github/Rohan-1103/Data-Science/blob/main/session_6_task.ipynb\" target=\"_parent\"><img src=\"https://colab.research.google.com/assets/colab-badge.svg\" alt=\"Open In Colab\"/></a>"
      ]
    },
    {
      "cell_type": "markdown",
      "source": [
        "### **`Problem-1:`** Write a Python function that takes a list and returns a new list with unique elements of the first list.\n",
        "\n",
        "**Exercise 1:**\n",
        "\n",
        "Input:\n",
        "\n",
        "```bash\n",
        "[1,2,3,3,3,3,4,5]\n",
        "```\n",
        "\n",
        "Output:\n",
        "\n",
        "```bash\n",
        "[1, 2, 3, 4, 5]\n",
        "```"
      ],
      "metadata": {
        "id": "h6dDSW5XGZFi"
      }
    },
    {
      "cell_type": "code",
      "source": [
        "def remove_dups(lis):\n",
        "  return [i for i in set(lis)]\n",
        "\n",
        "list1 = [1,2,3,3,3,3,4,5]\n",
        "print(remove_dups(list1))"
      ],
      "metadata": {
        "id": "R5pq1C9LGe1y",
        "outputId": "e03f328a-f74a-4190-a7a5-8e5d134b79b7",
        "colab": {
          "base_uri": "https://localhost:8080/"
        }
      },
      "execution_count": 1,
      "outputs": [
        {
          "output_type": "stream",
          "name": "stdout",
          "text": [
            "[1, 2, 3, 4, 5]\n"
          ]
        }
      ]
    },
    {
      "cell_type": "markdown",
      "source": [
        "### **`Problem-2:`** Write a Python function that accepts a hyphen-separated sequence of words as parameter and returns the words in a hyphen-separated sequence after sorting them alphabetically.\n",
        "\n",
        "**Example 1:**\n",
        "\n",
        "Input:\n",
        "```bash\n",
        "green-red-yellow-black-white\n",
        "```\n",
        "\n",
        "Output:\n",
        "```bash\n",
        "black-green-red-white-yellow\n",
        "```"
      ],
      "metadata": {
        "id": "UxQ_VoyJGwHj"
      }
    },
    {
      "cell_type": "code",
      "source": [
        "def sort(seq):\n",
        "  word = seq.split(\"-\")\n",
        "  sorting = sorted(word)\n",
        "  string = \"-\".join(sorting)\n",
        "  return print(string)\n",
        "\n",
        "sens = \"green-red-yellow-black-white\"\n",
        "sort(sens)"
      ],
      "metadata": {
        "id": "AAts2m5zGwiQ",
        "outputId": "6fcf8174-2d0d-46e9-b78a-9d237e14a419",
        "colab": {
          "base_uri": "https://localhost:8080/"
        }
      },
      "execution_count": 2,
      "outputs": [
        {
          "output_type": "stream",
          "name": "stdout",
          "text": [
            "black-green-red-white-yellow\n"
          ]
        }
      ]
    },
    {
      "cell_type": "markdown",
      "source": [
        "### **`Problem 3:`** Write a Python function that accepts a string and calculate the number of upper case letters and lower case letters.\n",
        "\n",
        "```\n",
        "Sample String : 'CampusX is an Online Mentorship Program fOr EnginEering studentS.'\n",
        "Expected Output :\n",
        "No. of Upper case characters :  9\n",
        "No. of Lower case Characters :  47\n",
        "```"
      ],
      "metadata": {
        "id": "IRGH62S7Gx_n"
      }
    },
    {
      "cell_type": "code",
      "source": [
        "def countCase(strng):\n",
        "  ucount = 0\n",
        "  lcount = 0\n",
        "  for i in strng:\n",
        "    if i.isupper():\n",
        "      ucount += 1\n",
        "    elif i.islower():\n",
        "      lcount += 1\n",
        "  print(\"No. of Uppercase characters : \", ucount)\n",
        "  print(\"No. of Lowercase characters : \", lcount)\n",
        "\n",
        "sample = 'CampusX is an Online Mentorship Program fOr EnginEering studentS.'\n",
        "countCase(sample)"
      ],
      "metadata": {
        "id": "OaUrD8vVG5o8",
        "outputId": "dd6c9911-e70a-480f-cec4-63f3a0a487ab",
        "colab": {
          "base_uri": "https://localhost:8080/"
        }
      },
      "execution_count": 7,
      "outputs": [
        {
          "output_type": "stream",
          "name": "stdout",
          "text": [
            "No. of Uppercase characters :  9\n",
            "No. of Lowercase characters :  47\n"
          ]
        }
      ]
    },
    {
      "cell_type": "markdown",
      "source": [
        "### **`Problem 4:`** Write a Python program to print the even numbers from a given list.\n",
        "```\n",
        "Sample List : [1, 2, 3, 4, 5, 6, 7, 8, 9]\n",
        "Expected Result : [2, 4, 6, 8]\n",
        "```"
      ],
      "metadata": {
        "id": "V1BFFdYQG7Sn"
      }
    },
    {
      "cell_type": "code",
      "source": [
        "def sort_list(ls):\n",
        "  return [i for i in ls if i % 2 == 0]"
      ],
      "metadata": {
        "id": "wTo3v8MzwgfF"
      },
      "execution_count": 8,
      "outputs": []
    },
    {
      "cell_type": "code",
      "source": [
        "sample = [1, 2, 3, 4, 5, 6, 7, 8, 9]\n",
        "# [i for i in sample if i % 2 == 0]\n",
        "sort_list(sample)"
      ],
      "metadata": {
        "id": "VvAReLoDG_Z3",
        "outputId": "634e89af-477c-4f97-9775-0b6374e00fad",
        "colab": {
          "base_uri": "https://localhost:8080/"
        }
      },
      "execution_count": 9,
      "outputs": [
        {
          "output_type": "execute_result",
          "data": {
            "text/plain": [
              "[2, 4, 6, 8]"
            ]
          },
          "metadata": {},
          "execution_count": 9
        }
      ]
    },
    {
      "cell_type": "markdown",
      "source": [
        "### **`Problem 5:`** Write a Python function to check whether a number is perfect or not.\n",
        "\n",
        "A Perfect number is a number that is half the sum of all of its positive divisors (including itself).\n",
        "\n",
        "Example :\n",
        "\n",
        "```\n",
        "The first perfect number is 6, because 1, 2, and 3 are its proper positive divisors, and 1 + 2 + 3 = 6.\n",
        "Equivalently, the number 6 is equal to half the sum of all its positive divisors: ( 1 + 2 + 3 + 6 ) / 2 = 6.\n",
        "\n",
        "The next perfect number is 28 = 1 + 2 + 4 + 7 + 14. This is followed by the perfect numbers 496 and 8128.\n",
        "```\n"
      ],
      "metadata": {
        "id": "qrK39Gn-HHb4"
      }
    },
    {
      "cell_type": "code",
      "source": [
        "def perfect_num(num):\n",
        "  sum1 = 0\n",
        "  for i in range(1, num):\n",
        "    # if i % num == 0:\n",
        "    if num % i == 0:\n",
        "      sum1 += i\n",
        "  if sum1 == num:\n",
        "    print(num, \" is a perfect number.\")\n",
        "  else:\n",
        "    print(num, \" is not a perfect number.\")\n",
        "\n",
        "num = int(input(\"Enter number to check if it is perfect or not: \"))\n",
        "perfect_num(num)"
      ],
      "metadata": {
        "id": "P-OI7H78HICs",
        "outputId": "12b14419-bf3b-4c3f-c3b4-61ea426ba52f",
        "colab": {
          "base_uri": "https://localhost:8080/"
        }
      },
      "execution_count": 10,
      "outputs": [
        {
          "output_type": "stream",
          "name": "stdout",
          "text": [
            "Enter number to check if it is perfect or not: 6\n",
            "6  is a perfect number.\n"
          ]
        }
      ]
    },
    {
      "cell_type": "markdown",
      "source": [
        "### **`Problem-6:`** Write a Python function to concatenate any no of dictionaries to create a new one.\n",
        "\n",
        "```\n",
        "Sample Dictionary :\n",
        "dic1={1:10, 2:20}\n",
        "dic2={3:30, 4:40}\n",
        "dic3={5:50,6:60}\n",
        "Expected Result : {1: 10, 2: 20, 3: 30, 4: 40, 5: 50, 6: 60}\n",
        "```"
      ],
      "metadata": {
        "id": "oZdpcG77HO-6"
      }
    },
    {
      "cell_type": "code",
      "source": [
        "# def concate_dict(**kwargs):\n",
        "#   return {i:j for i, j in kwargs.items()}\n",
        "\n",
        "# dic1={1:10, 2:20}\n",
        "# dic2={3:30, 4:40}\n",
        "# dic3={5:50,6:60}\n",
        "\n",
        "# print(concate_dict(dic1, dic2, dic3))"
      ],
      "metadata": {
        "id": "LQgfAY4ZHPhj"
      },
      "execution_count": 11,
      "outputs": []
    },
    {
      "cell_type": "code",
      "source": [
        "def concate_dict(*dicts):\n",
        "    result = {}\n",
        "    for d in dicts:\n",
        "        result.update(d)\n",
        "    return result\n",
        "\n",
        "dic1 = {1: 10, 2: 20}\n",
        "dic2 = {3: 30, 4: 40}\n",
        "dic3 = {5: 50, 6: 60}\n",
        "\n",
        "print(concate_dict(dic1, dic2, dic3))"
      ],
      "metadata": {
        "id": "DHx6OPUn6xVl",
        "outputId": "9aa44a66-8cc5-4944-d2ef-f4bd1ca09adf",
        "colab": {
          "base_uri": "https://localhost:8080/"
        }
      },
      "execution_count": 12,
      "outputs": [
        {
          "output_type": "stream",
          "name": "stdout",
          "text": [
            "{1: 10, 2: 20, 3: 30, 4: 40, 5: 50, 6: 60}\n"
          ]
        }
      ]
    },
    {
      "cell_type": "markdown",
      "source": [
        "`Problem-7` Write a python function that accepts a string as input and returns the word with most occurence.\n",
        "\n",
        "```\n",
        "Input:\n",
        "hello how are you i am fine thank you\n",
        "```\n",
        "\n",
        "```\n",
        "Output\n",
        "you -> 2\n",
        "```"
      ],
      "metadata": {
        "id": "jQ6SzbCkHRd0"
      }
    },
    {
      "cell_type": "code",
      "source": [
        "def most_occr(strin):\n",
        "  freq = {}\n",
        "  word = strin.split(\" \")\n",
        "\n",
        "  for w in word:\n",
        "    if w in freq:\n",
        "      freq[w] += 1\n",
        "    else:\n",
        "      freq[w] = 1\n",
        "\n",
        "  for key, value in sorted(freq.items(), reverse=True):\n",
        "    print(key, \"->\", value)\n",
        "    break\n",
        "\n",
        "haal_chaal = \"hello how are you i am fine thank you\"\n",
        "most_occr(haal_chaal)"
      ],
      "metadata": {
        "id": "Lh04JHLzIW7Z",
        "outputId": "64204c27-f95a-43e9-ba95-822c202551c4",
        "colab": {
          "base_uri": "https://localhost:8080/"
        }
      },
      "execution_count": 13,
      "outputs": [
        {
          "output_type": "stream",
          "name": "stdout",
          "text": [
            "you -> 2\n"
          ]
        }
      ]
    },
    {
      "cell_type": "markdown",
      "source": [
        "`Problem-8` Write a python function that receives a list of integers and prints out a histogram of bin size 10\n",
        "\n",
        "```\n",
        "Input:\n",
        "[13,42,15,37,22,39,41,50]\n",
        "```\n",
        "\n",
        "```\n",
        "Output:\n",
        "{11-20:2,21-30:1,31-40:2,41-50:3}\n",
        "```"
      ],
      "metadata": {
        "id": "1r8SpVntI-IW"
      }
    },
    {
      "cell_type": "code",
      "source": [
        "def histo(int_list):\n",
        "  # specific values\n",
        "  histogram = {}\n",
        "  sorted_list = sorted(int_list);\n",
        "\n",
        "  for i in sorted_list:\n",
        "    if i in histogram:\n",
        "      histogram[range(i, i+10)] += 1\n",
        "    else:\n",
        "      histogram[range(i, i+10)] = 0\n",
        "  return histogram\n",
        "\n",
        "num_list = [13,42,15,37,22,39,41,50]\n",
        "print(histo(num_list))"
      ],
      "metadata": {
        "id": "7W0J8rUjJovg",
        "outputId": "ba351050-2e16-4042-e4b6-f3668fe72ee9",
        "colab": {
          "base_uri": "https://localhost:8080/"
        }
      },
      "execution_count": 14,
      "outputs": [
        {
          "output_type": "stream",
          "name": "stdout",
          "text": [
            "{range(13, 23): 0, range(15, 25): 0, range(22, 32): 0, range(37, 47): 0, range(39, 49): 0, range(41, 51): 0, range(42, 52): 0, range(50, 60): 0}\n"
          ]
        }
      ]
    },
    {
      "cell_type": "code",
      "source": [
        "def histo(int_list):\n",
        "    histogram = {}\n",
        "\n",
        "    for num in int_list:\n",
        "        lower = ((num - 1) // 10) * 10 + 1  # e.g., 13 -> 11\n",
        "        upper = lower + 9                   # e.g., 11 -> 20\n",
        "        bin_label = f\"{lower}-{upper}\"\n",
        "\n",
        "        histogram[bin_label] = histogram.get(bin_label, 0) + 1\n",
        "    return histogram\n",
        "\n",
        "num_list = [13, 42, 15, 37, 22, 39, 41, 50]\n",
        "histo(num_list)"
      ],
      "metadata": {
        "id": "gQGzbFH_DJhf",
        "outputId": "7fd9f3fd-9651-467d-c7ae-d4b3027fcc28",
        "colab": {
          "base_uri": "https://localhost:8080/"
        }
      },
      "execution_count": 16,
      "outputs": [
        {
          "output_type": "execute_result",
          "data": {
            "text/plain": [
              "{'11-20': 2, '41-50': 3, '31-40': 2, '21-30': 1}"
            ]
          },
          "metadata": {},
          "execution_count": 16
        }
      ]
    },
    {
      "cell_type": "markdown",
      "source": [
        "`Problem-9` Write a python function that accepts a list of 2D co-ordinates and a query point, and then finds the the co-ordinate which is closest in terms of distance from the query point.\n",
        "\n",
        "```\n",
        "List of Coordinates\n",
        "[(1,1),(2,2),(3,3),(4,4)]\n",
        "Query Point\n",
        "(0,0)\n",
        "```\n",
        "\n",
        "```\n",
        "Output\n",
        "Nearest to (0,0) is (1,1)\n",
        "```"
      ],
      "metadata": {
        "id": "1P2-rbgXKE53"
      }
    },
    {
      "cell_type": "code",
      "source": [
        "import math\n",
        "\n",
        "def nearest_point(coords, query):\n",
        "    # Initialize with first point's data\n",
        "    nearest = coords[0]\n",
        "    min_dist = math.dist(coords[0], query)\n",
        "\n",
        "    # Loop through all coordinates\n",
        "    for point in coords[1:]:\n",
        "        dist = math.dist(point, query)\n",
        "        if dist < min_dist:\n",
        "            min_dist = dist\n",
        "            nearest = point\n",
        "\n",
        "    print(f\"Nearest to {query} is {nearest}\")\n",
        "\n",
        "list_tup = [(7,7),(4,4),(1,1),(5,5)]\n",
        "query_point = (2, 2)\n",
        "nearest_point(list_tup, query_point)"
      ],
      "metadata": {
        "id": "zjn7vSTIJ81G",
        "outputId": "367ed568-232c-47fd-e99a-a1fa429fb28d",
        "colab": {
          "base_uri": "https://localhost:8080/"
        }
      },
      "execution_count": 17,
      "outputs": [
        {
          "output_type": "stream",
          "name": "stdout",
          "text": [
            "Nearest to (2, 2) is (1, 1)\n"
          ]
        }
      ]
    },
    {
      "cell_type": "markdown",
      "source": [
        "`Problem-10`:Write a python program that receives a list of strings and performs bag of word operation on those strings\n",
        "\n",
        "https://en.wikipedia.org/wiki/Bag-of-words_model"
      ],
      "metadata": {
        "id": "i-B6igmyK9hB"
      }
    },
    {
      "cell_type": "code",
      "source": [
        "# def BoG(LoS):\n",
        "#     bag = {}\n",
        "\n",
        "#     for items in LoS:\n",
        "#         words = items.split(\" \")\n",
        "#         for word in words:\n",
        "#             if word in bag:\n",
        "#                 bag[word] += 1\n",
        "#             else:\n",
        "#                 bag[word] = 1\n",
        "#     return bag\n",
        "\n",
        "def BoG(LoS):\n",
        "    bag = {}\n",
        "    for items in LoS:\n",
        "        for word in items.split():\n",
        "            bag[word] = bag.get(word, 0) + 1\n",
        "    return bag\n",
        "\n",
        "list_of_strings = [\"My name is Rohan Goswami\", \"My E-main id is rohangoswami1134@gmail.com\", \"My Linkedin id is 'https://www.linkedin.com/in/rohan-goswami-039755249/'\"]\n",
        "print(BoG(list_of_strings))"
      ],
      "metadata": {
        "id": "N2l1_AWULT-z",
        "outputId": "c85b4e89-ae30-4a4c-ab47-167a2e05d9ba",
        "colab": {
          "base_uri": "https://localhost:8080/"
        }
      },
      "execution_count": 18,
      "outputs": [
        {
          "output_type": "stream",
          "name": "stdout",
          "text": [
            "{'My': 3, 'name': 1, 'is': 3, 'Rohan': 1, 'Goswami': 1, 'E-main': 1, 'id': 2, 'rohangoswami1134@gmail.com': 1, 'Linkedin': 1, \"'https://www.linkedin.com/in/rohan-goswami-039755249/'\": 1}\n"
          ]
        }
      ]
    },
    {
      "cell_type": "markdown",
      "source": [
        "###`Problem 11:` Write a Python program to add three given lists using Python map and lambda."
      ],
      "metadata": {
        "id": "dHTRKb-DqMLw"
      }
    },
    {
      "cell_type": "code",
      "source": [
        "result = list(map(lambda a, b, c: a + b + c, [11, 11, 15, 31], [3, 3, 3, 12], [25, 1, 24, 19]))\n",
        "print(result)"
      ],
      "metadata": {
        "id": "NfJdzyNZqNW-",
        "outputId": "1c176367-cd66-4602-ee3d-1ce6dd917411",
        "colab": {
          "base_uri": "https://localhost:8080/"
        }
      },
      "execution_count": 19,
      "outputs": [
        {
          "output_type": "stream",
          "name": "stdout",
          "text": [
            "[39, 15, 42, 62]\n"
          ]
        }
      ]
    },
    {
      "cell_type": "markdown",
      "source": [
        "###`Problem-12:`Write a Python program to create a list containing the power of said number in bases raised to the corresponding number in the index using Python map.\n",
        "`Input:`\n",
        "```\n",
        "list1 = [1,2,3,4,5,6]\n",
        "```\n",
        "`Output:`\n",
        "```\n",
        "[1,2,9,64,625,-]\n",
        "```\n"
      ],
      "metadata": {
        "id": "MgHP7mbUqO8l"
      }
    },
    {
      "cell_type": "code",
      "source": [
        "# list(map(lambda x:x**x, [1, 2, 3, 4, 5, 6]))\n",
        "\n",
        "# If you wanted the base as list value and exponent as its index,\n",
        "# the code would be different:\n",
        "list1 = [1,2,3,4,5,6]\n",
        "\n",
        "result = list(map(lambda x, i: x**i, list1, range(len(list1))))\n",
        "print(result)"
      ],
      "metadata": {
        "id": "gG3Dc6N3qbvN",
        "outputId": "f58d76c9-d702-4943-a310-0100168ccc56",
        "colab": {
          "base_uri": "https://localhost:8080/"
        }
      },
      "execution_count": 20,
      "outputs": [
        {
          "output_type": "stream",
          "name": "stdout",
          "text": [
            "[1, 2, 9, 64, 625, 7776]\n"
          ]
        }
      ]
    },
    {
      "cell_type": "markdown",
      "source": [
        "###`Problem-13` Using filter() and list() functions and .lower() method filter all the vowels in a given string.\n",
        "\n"
      ],
      "metadata": {
        "id": "G26SYq6vqdLN"
      }
    },
    {
      "cell_type": "code",
      "source": [
        "string = \"Using filter(), list() functions and.lower() method filter all the vowels in a given string.\"\n",
        "result = list(filter(lambda ch: ch.lower() in ['a', 'e', 'i', 'o', 'u'], string))\n",
        "print(result)"
      ],
      "metadata": {
        "id": "zurga3DIqmEx",
        "outputId": "15d40945-47a3-4144-9980-269f32e933ba",
        "colab": {
          "base_uri": "https://localhost:8080/"
        }
      },
      "execution_count": 21,
      "outputs": [
        {
          "output_type": "stream",
          "name": "stdout",
          "text": [
            "['U', 'i', 'i', 'e', 'i', 'u', 'i', 'o', 'a', 'o', 'e', 'e', 'o', 'i', 'e', 'a', 'e', 'o', 'e', 'i', 'a', 'i', 'e', 'i']\n"
          ]
        }
      ]
    },
    {
      "cell_type": "markdown",
      "source": [
        "`Problem-14`: Use reduce to convert a 2D list to 1D"
      ],
      "metadata": {
        "id": "uQrsunZSqoYu"
      }
    },
    {
      "cell_type": "code",
      "source": [
        "def reduce_list(d_list):\n",
        "  return [j for item in d_list for j in item]\n",
        "\n",
        "listlist = [[11, 3], [31, 12]]\n",
        "print(reduce_list(listlist))"
      ],
      "metadata": {
        "id": "E1YUwnfgqnka",
        "outputId": "ee91c6a2-9513-43fc-dd8a-39471624a7aa",
        "colab": {
          "base_uri": "https://localhost:8080/"
        }
      },
      "execution_count": 22,
      "outputs": [
        {
          "output_type": "stream",
          "name": "stdout",
          "text": [
            "[11, 3, 31, 12]\n"
          ]
        }
      ]
    },
    {
      "cell_type": "markdown",
      "source": [
        "`Problem 15`- A dictionary contains following information about 5 employees:\n",
        "- First name\n",
        "- Last name\n",
        "- Age\n",
        "- Grade(Skilled,Semi-skilled,Highly skilled)<br>\n",
        "Write a program using map/filter/reduce to a list of employees(first name + last name) who are highly skilled"
      ],
      "metadata": {
        "id": "8-DLQEawt-_t"
      }
    },
    {
      "cell_type": "code",
      "source": [
        "# Write code here\n",
        "employees = [\n",
        "    {\n",
        "        'fname':'Nitish',\n",
        "        'lname':'Singh',\n",
        "        'age' : 33,\n",
        "        'grade':'skilled'\n",
        "    },\n",
        "    {\n",
        "        'fname':'Ankit',\n",
        "        'lname':'Verma',\n",
        "        'age' : 34,\n",
        "        'grade':'semi-skilled'\n",
        "    },\n",
        "    {\n",
        "        'fname':'Neha',\n",
        "        'lname':'Singh',\n",
        "        'age' : 35,\n",
        "        'grade':'highly-skilled'\n",
        "    },\n",
        "    {\n",
        "        'fname':'Anurag',\n",
        "        'lname':'Kumar',\n",
        "        'age' : 30,\n",
        "        'grade':'skilled'\n",
        "    },\n",
        "    {\n",
        "        'fname':'Abhinav',\n",
        "        'lname':'Sharma',\n",
        "        'age' : 37,\n",
        "        'grade':'highly-skilled'\n",
        "    }\n",
        "\n",
        "]"
      ],
      "metadata": {
        "id": "OLvptttLs6OU"
      },
      "execution_count": 23,
      "outputs": []
    },
    {
      "cell_type": "code",
      "source": [
        "list(map(lambda x:x['fname'] + ' ' + x['lname'],list(filter(lambda x:True if x['grade'] == 'highly-skilled' else False,employees))))"
      ],
      "metadata": {
        "id": "vLX0FAQkui3y",
        "colab": {
          "base_uri": "https://localhost:8080/"
        },
        "outputId": "2b372c77-fcbb-491f-e040-8c385f1d9382"
      },
      "execution_count": 24,
      "outputs": [
        {
          "output_type": "execute_result",
          "data": {
            "text/plain": [
              "['Neha Singh', 'Abhinav Sharma']"
            ]
          },
          "metadata": {},
          "execution_count": 24
        }
      ]
    },
    {
      "cell_type": "code",
      "source": [],
      "metadata": {
        "id": "ldMjGfkgAMr9"
      },
      "execution_count": null,
      "outputs": []
    }
  ]
}