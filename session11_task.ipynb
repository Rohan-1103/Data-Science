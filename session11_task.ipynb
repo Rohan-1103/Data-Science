{
  "nbformat": 4,
  "nbformat_minor": 0,
  "metadata": {
    "colab": {
      "provenance": [],
      "include_colab_link": true
    },
    "kernelspec": {
      "name": "python3",
      "display_name": "Python 3"
    },
    "language_info": {
      "name": "python"
    }
  },
  "cells": [
    {
      "cell_type": "markdown",
      "metadata": {
        "id": "view-in-github",
        "colab_type": "text"
      },
      "source": [
        "<a href=\"https://colab.research.google.com/github/Rohan-1103/Data-Science/blob/main/session11_task.ipynb\" target=\"_parent\"><img src=\"https://colab.research.google.com/assets/colab-badge.svg\" alt=\"Open In Colab\"/></a>"
      ]
    },
    {
      "cell_type": "markdown",
      "source": [
        "## Exception Handling"
      ],
      "metadata": {
        "id": "ajVfqio_GinI"
      }
    },
    {
      "cell_type": "markdown",
      "source": [
        "###`Q-1`: You are given a function definition. There might be several issues on execution of this function. You are asked to do exception handling for diffrent errors that this function goes in to `without altering this function`. And print error text.\n",
        "\n"
      ],
      "metadata": {
        "id": "0qnQkJtnGozz"
      }
    },
    {
      "cell_type": "markdown",
      "source": [
        "Function parameters `l -> list, s -> could be anything`\n",
        "\n",
        "```\n",
        "def function(l: list, s, **args):\n",
        "    last_element = l[-1]\n",
        "    \n",
        "    l[int(s)]=10\n",
        "    any_element = l[int(s)+10]\n",
        "    l[s]=10\n",
        "    \n",
        "    res = sum(l)\n",
        "    \n",
        "    p = args['p']\n",
        "    # print(p)\n",
        "    return res/last_element * p + any_element\n",
        "\n",
        "```\n",
        "Check for different function calls:-\n",
        "\n",
        "```\n",
        "function([1,2,1], 12)\n",
        "function([1,2,1]*9, '1-2')\n",
        "function([1,'2',1]*9, 12)\n",
        "function([1,'2',1]*9, 12)\n",
        "function([1,2,0]*9, 12  )\n",
        "function([1,2,1]*9, 12, p=None)\n",
        "function([1,2,0]*9, 12, p=10)\n",
        "```"
      ],
      "metadata": {
        "id": "2no_EB2fGyGq"
      }
    },
    {
      "cell_type": "code",
      "source": [
        "def function(l: list, s, **args):\n",
        "  last_element = l[-1]\n",
        "  l[int(s)]=10\n",
        "  any_element = l[int(s)+10]\n",
        "  l[s]=10\n",
        "  res = sum(l)\n",
        "  p = args['p']\n",
        "  # print(p)\n",
        "  return res/last_element * p + any_element\n",
        "\n",
        "try:\n",
        "  function([1,2,1], 12)\n",
        "  function([1,2,1]*9, '1-2')\n",
        "  function([1,'2',1]*9, 12)\n",
        "  function([1,2,0]*9, 12)\n",
        "  function([1,2,1]*9, 12, p=None)\n",
        "  function([1,2,0]*9, 12, p=10)\n",
        "except IndexError:\n",
        "  print(\"Invalid index.\")\n",
        "except ValueError:\n",
        "  print(\"Inapproriate data.\")\n",
        "except NameError:\n",
        "  print(\"Object couldn't be found.\")\n",
        "except AttributeError:\n",
        "  print(\"Invalid method for the given object.\")\n",
        "except Exception as e:\n",
        "  print(e)\n",
        "finally:\n",
        "  print(\"Done with checking every exception.\")"
      ],
      "metadata": {
        "id": "VoaL4_9eGjFU",
        "outputId": "e9058d7b-b24f-415f-e6c3-7b35620e08f9",
        "colab": {
          "base_uri": "https://localhost:8080/"
        }
      },
      "execution_count": null,
      "outputs": [
        {
          "output_type": "stream",
          "name": "stdout",
          "text": [
            "Invalid index.\n",
            "Done with checking every exception.\n"
          ]
        }
      ]
    },
    {
      "cell_type": "markdown",
      "source": [
        "###`Q-2:` You are given a code snippet. There might be several issues on execution of this code. You are asked to do exception handling for diffrent errors, condition is what ever happens we need to execute last line printing correct result of `sum of elements`.\n",
        "\n",
        "List have elemnts as any no of  `key-pair dict with key as list index and value as any integer`, `integers` and `numeric-strings`. There is always only one element in the dict.\n",
        "\n",
        "\n",
        "```\n",
        "l = [{0:2},2,3,4,'5', {5:10}]\n",
        "# For calculating sum of above list\n",
        "s=0\n",
        "for i in range(len(l)):\n",
        "    #You can Edit code from here\n",
        "    s += l[i].get(i)\n",
        "    s += l[i]\n",
        "    s += int(l[i])\n",
        "\n",
        "\n",
        "print(s)\n",
        "```"
      ],
      "metadata": {
        "id": "HuLMy2fVG9sL"
      }
    },
    {
      "cell_type": "code",
      "source": [
        "l = [{0:2}, 2, 3, 4, '5', {5:10}]\n",
        "s = 0\n",
        "\n",
        "for i in range(len(l)):\n",
        "    try:\n",
        "        # Case 1: If it's a dictionary with index as key\n",
        "        if isinstance(l[i], dict):\n",
        "            try:\n",
        "                s += l[i].get(i, 0)   # get value safely\n",
        "            except (AttributeError, KeyError, TypeError) as e:\n",
        "                print(f\"Dict handling error at index {i}: {e}\")\n",
        "\n",
        "        # Case 2: If it's integer directly\n",
        "        elif isinstance(l[i], int):\n",
        "            try:\n",
        "                s += l[i]\n",
        "            except (TypeError, ValueError) as e:\n",
        "                print(f\"Integer handling error at index {i}: {e}\")\n",
        "\n",
        "        # Case 3: If it's string number\n",
        "        elif isinstance(l[i], str):\n",
        "            try:\n",
        "                s += int(l[i])\n",
        "            except (ValueError, TypeError) as e:\n",
        "                print(f\"String conversion error at index {i}: {e}\")\n",
        "\n",
        "        # Case 4: Unexpected types\n",
        "        else:\n",
        "            print(f\"Unhandled type at index {i}: {type(l[i])}\")\n",
        "\n",
        "    except Exception as e:\n",
        "        print(f\"General error at index {i}: {e}\")\n",
        "\n",
        "print(\"Correct Sum =\", s)"
      ],
      "metadata": {
        "id": "pEP8JU0qHAf8",
        "outputId": "a966b19a-7a83-49a9-a01e-431c4ca7c6d8",
        "colab": {
          "base_uri": "https://localhost:8080/"
        }
      },
      "execution_count": null,
      "outputs": [
        {
          "output_type": "stream",
          "name": "stdout",
          "text": [
            "Correct Sum = 26\n"
          ]
        }
      ]
    },
    {
      "cell_type": "markdown",
      "source": [
        "### `Q-3:`: File Handling with Exception handling\n",
        "\n",
        "Write a program that opens a text file and write data to it as \"Hello, Good Morning!!!\". Handle exceptions that can be generated during the I/O operations. Do not show the success message on the main exception handling block (write inside the else block)."
      ],
      "metadata": {
        "id": "ohE2fDTXHIan"
      }
    },
    {
      "cell_type": "code",
      "source": [
        "from io import UnsupportedOperation\n",
        "try:\n",
        "  with open(\"Greeting.txt\", \"w\") as fw:\n",
        "    fw.write(\"Hello, Good Morning!!!\")\n",
        "except NameError:\n",
        "  print(\"Object couldn't be found.\")\n",
        "except FileExistsError:\n",
        "  print(\"File Already exists.\")\n",
        "except PermissionError:\n",
        "  print(\"Access denied.\")\n",
        "except FileNotFoundError:\n",
        "  print(\"File not found.\")\n",
        "except IsADirectoryError:\n",
        "  print(\"Not a valid file, perhaps is a Directory.\")\n",
        "except UnsupportedOperation:\n",
        "  print(\"Operation is not supported for access type.\")\n",
        "except TypeError:\n",
        "  print(\"Invalid operation of object.\")\n",
        "except Exception as e:\n",
        "  print(e)\n",
        "else:\n",
        "  print(\"Data written successfully to Greeting.txt\")"
      ],
      "metadata": {
        "id": "iOeiWrcIHPlY",
        "outputId": "f1dcc022-114a-4361-c7c3-bea88e02409e",
        "colab": {
          "base_uri": "https://localhost:8080/"
        }
      },
      "execution_count": null,
      "outputs": [
        {
          "output_type": "stream",
          "name": "stdout",
          "text": [
            "Data written successfully to Greeting.txt\n"
          ]
        }
      ]
    },
    {
      "cell_type": "markdown",
      "source": [
        "### `Q-4`: Number game program.\n",
        "\n",
        "Write a number game program. Ask the user to enter a number. If the number is greater than number to be guessed, raise a **ValueTooLarge** exception. If the value is smaller the number to be guessed the, raise a **ValueTooSmall** exception and prompt the user to enter again. Quit the program only when the user enters the correct number. Also raise **GuessError** if user guess a number less than 1."
      ],
      "metadata": {
        "id": "ru8g8-_bHTUf"
      }
    },
    {
      "cell_type": "code",
      "source": [
        "num_to_guess = 33\n",
        "\n",
        "class ValueTooLarge(Exception):\n",
        "  def __init__(self, message):\n",
        "    print(message)\n",
        "    self.guess = int(input(\"Try again, Maybe with a smaller number: \"))\n",
        "\n",
        "class ValueTooSmall(Exception):\n",
        "  def __init__(self, message):\n",
        "    print(message)\n",
        "    # print(\"Your guess is smaller than the number.\")\n",
        "    self.guess = int(input(\"Try again, Maybe with a larger number: \"))\n",
        "\n",
        "class GuessError(Exception):\n",
        "  def __init(self, message):\n",
        "    print(message)\n",
        "    print(\"Bro number is larger than 1.\")\n",
        "    self.guess = int(input(\"Try again, Maybe with a larger number: \"))\n",
        "\n",
        "class Guess_game:\n",
        "  def __init__(self):\n",
        "    self.guess = int(input(\"Enter your guess.\"))\n",
        "\n",
        "  def check_guess(self):\n",
        "    if self.guess > num_to_guess:\n",
        "      raise ValueTooLarge(\"Your guess is larger than the number.\")\n",
        "      # guess = int(input(\"Try again, Maybe with a smaller number: \"))\n",
        "    elif self.guess < num_to_guess:\n",
        "      raise ValueTooSmall(\"Your guess is smaller than the number.\")\n",
        "      # guess = int(input(\"Try again, Maybe with a smaller number: \"))\n",
        "    elif self.guess < 1:\n",
        "      raise GuessError\n",
        "      # guess = int(input(\"Try again, Maybe with a smaller number: \"))\n",
        "    else:\n",
        "      print(\"Your guess is correct. Woohooo!!\")\n",
        "\n",
        "game1 = Guess_game()\n",
        "# game1.check_guess()"
      ],
      "metadata": {
        "id": "QftlN5LJHZSX",
        "outputId": "346b426c-2768-4654-c5e9-f0b366b35d60",
        "colab": {
          "base_uri": "https://localhost:8080/"
        }
      },
      "execution_count": null,
      "outputs": [
        {
          "name": "stdout",
          "output_type": "stream",
          "text": [
            "Enter your guess.33\n"
          ]
        }
      ]
    },
    {
      "cell_type": "code",
      "source": [
        "import random\n",
        "num_to_guess = random.randint(1, 100)\n",
        "# Custom exceptions\n",
        "class ValueTooLarge(Exception):\n",
        "    pass\n",
        "\n",
        "class ValueTooSmall(Exception):\n",
        "    pass\n",
        "\n",
        "class GuessError(Exception):\n",
        "    pass\n",
        "\n",
        "\n",
        "class GuessGame:\n",
        "    def __init__(self):\n",
        "        self.num_to_guess = num_to_guess\n",
        "\n",
        "    def play(self):\n",
        "        while True:\n",
        "            try:\n",
        "                guess = int(input(\"Enter your guess: \"))\n",
        "                if guess < 1:\n",
        "                    raise GuessError(\"Number must be greater than 0!\")\n",
        "                elif guess > self.num_to_guess:\n",
        "                    raise ValueTooLarge(\"Your guess is larger than the number.\")\n",
        "                elif guess < self.num_to_guess:\n",
        "                    raise ValueTooSmall(\"Your guess is smaller than the number.\")\n",
        "                else:\n",
        "                    print(\"🎉 Your guess is correct. Woohooo!!\")\n",
        "                    break   # exit loop\n",
        "\n",
        "            except ValueTooLarge as e:\n",
        "                print(e)\n",
        "            except ValueTooSmall as e:\n",
        "                print(e)\n",
        "            except GuessError as e:\n",
        "                print(e)\n",
        "            except ValueError:\n",
        "                print(\"Invalid input. Please enter a number.\")\n",
        "\n",
        "\n",
        "# Run the game\n",
        "game = GuessGame()\n",
        "game.play()"
      ],
      "metadata": {
        "id": "JtTo12dC_C5x",
        "outputId": "d5951674-e8a6-40de-e7e5-b3f8db8989b2",
        "colab": {
          "base_uri": "https://localhost:8080/"
        }
      },
      "execution_count": 1,
      "outputs": [
        {
          "output_type": "stream",
          "name": "stdout",
          "text": [
            "Enter your guess: 66\n",
            "Your guess is larger than the number.\n",
            "Enter your guess: 55\n",
            "Your guess is larger than the number.\n",
            "Enter your guess: 13\n",
            "Your guess is smaller than the number.\n",
            "Enter your guess: 40\n",
            "Your guess is larger than the number.\n",
            "Enter your guess: 31\n",
            "Your guess is larger than the number.\n",
            "Enter your guess: 35\n",
            "Your guess is larger than the number.\n",
            "Enter your guess: 34\n",
            "Your guess is larger than the number.\n",
            "Enter your guess: 33\n",
            "Your guess is larger than the number.\n",
            "Enter your guess: 32\n",
            "Your guess is larger than the number.\n",
            "Enter your guess: 28\n",
            "Your guess is larger than the number.\n",
            "Enter your guess: 12\n",
            "Your guess is smaller than the number.\n",
            "Enter your guess: 15\n",
            "Your guess is smaller than the number.\n",
            "Enter your guess: 16\n",
            "Your guess is smaller than the number.\n",
            "Enter your guess: 17\n",
            "Your guess is smaller than the number.\n",
            "Enter your guess: 18\n",
            "Your guess is smaller than the number.\n",
            "Enter your guess: 19\n",
            "Your guess is smaller than the number.\n",
            "Enter your guess: 20\n",
            "Your guess is smaller than the number.\n",
            "Enter your guess: 21\n",
            "🎉 Your guess is correct. Woohooo!!\n"
          ]
        }
      ]
    },
    {
      "cell_type": "markdown",
      "source": [
        "### `Q-5:` Cast vote\n",
        "\n",
        "Write a program that validate name and age as entered by the user to determine whether the person can cast vote or not. To handle the age, create **InvalidAge** exception and for name, create **InvalidName** exception. The name will be invalid when the string will be empty or name has only one word.\n",
        "\n",
        "Example 1:\n",
        "\n",
        "Input:\n",
        "\n",
        "```bash\n",
        "Enter the name:               goransh singh\n",
        "Enter the age: 25\n",
        "```\n",
        "\n",
        "Output:\n",
        "\n",
        "```bash\n",
        "Goransh Singh  Congratulation !!! You can vote.\n",
        "```"
      ],
      "metadata": {
        "id": "ZsGI_40fHcsd"
      }
    },
    {
      "cell_type": "code",
      "source": [
        "class InvalidAge(Exception):\n",
        "  pass\n",
        "\n",
        "class InvalidName(Exception):\n",
        "  pass\n",
        "\n",
        "class Congrats:\n",
        "  def __init__(self):\n",
        "    self.name = input(\"Enter the name: \")\n",
        "    self.age = int(input(\"Enter the Age: \"))\n",
        "\n",
        "  def valid_congrats(self):\n",
        "    try:\n",
        "      if self.age < 18:\n",
        "        raise InvalidAge(\"You are not old enough to vote.\")\n",
        "      if len(self.name.split()) < 2:\n",
        "        raise InvalidName(\"Please enter a valid name. That atleast has 2 words.\")\n",
        "      else:\n",
        "        print(f\"{self.name.strip()} Congratulation!!! You can vote.\")\n",
        "    except InvalidAge as e:\n",
        "      print(e)\n",
        "    except InvalidName as e:\n",
        "      print(e)\n",
        "\n",
        "p1 = Congrats()\n",
        "p1.valid_congrats()"
      ],
      "metadata": {
        "id": "OHL3UiS4Hi3U",
        "outputId": "c09ef7da-dcfe-40dd-daca-bc8d2b282652",
        "colab": {
          "base_uri": "https://localhost:8080/"
        }
      },
      "execution_count": null,
      "outputs": [
        {
          "output_type": "stream",
          "name": "stdout",
          "text": [
            "Enter the name: Rohan Goswami\n",
            "Enter the Age: 21\n",
            "Rohan Goswami Congratulation!!! You can vote.\n"
          ]
        }
      ]
    },
    {
      "cell_type": "markdown",
      "source": [
        "### `Q-6`: Write a python function which infinitely prints natural numbers in a single line. Raise the **StopIteration** exception after displaying first 20 numnbers to exit from the program."
      ],
      "metadata": {
        "id": "SCvs0QjgHlOG"
      }
    },
    {
      "cell_type": "code",
      "source": [
        "i = 1\n",
        "\n",
        "class MaxIterations(Exception):\n",
        "  def __init__(self):\n",
        "    print(\"Max printing limit reached.\")\n",
        "\n",
        "try:\n",
        "  while True:\n",
        "    print(i, end = \" \")\n",
        "    i+=1\n",
        "    if i > 20:\n",
        "      raise MaxIterations()\n",
        "\n",
        "except MaxIterations as e:\n",
        "  print(e)"
      ],
      "metadata": {
        "id": "Lc5ilNgNHoSx",
        "outputId": "fe8fdce8-571e-491d-8218-c9b464aaeb7c",
        "colab": {
          "base_uri": "https://localhost:8080/"
        }
      },
      "execution_count": null,
      "outputs": [
        {
          "output_type": "stream",
          "name": "stdout",
          "text": [
            "1 2 3 4 5 6 7 8 9 10 11 12 13 14 15 16 17 18 19 20 Max printing limit reached.\n",
            "\n"
          ]
        }
      ]
    },
    {
      "cell_type": "code",
      "source": [],
      "metadata": {
        "id": "Cs6oxZZ24-wt"
      },
      "execution_count": null,
      "outputs": []
    }
  ]
}