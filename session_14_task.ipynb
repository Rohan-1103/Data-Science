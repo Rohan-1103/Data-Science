{
  "nbformat": 4,
  "nbformat_minor": 0,
  "metadata": {
    "colab": {
      "provenance": [],
      "include_colab_link": true
    },
    "kernelspec": {
      "name": "python3",
      "display_name": "Python 3"
    },
    "language_info": {
      "name": "python"
    }
  },
  "cells": [
    {
      "cell_type": "markdown",
      "metadata": {
        "id": "view-in-github",
        "colab_type": "text"
      },
      "source": [
        "<a href=\"https://colab.research.google.com/github/Rohan-1103/Data-Science/blob/main/session_14_task.ipynb\" target=\"_parent\"><img src=\"https://colab.research.google.com/assets/colab-badge.svg\" alt=\"Open In Colab\"/></a>"
      ]
    },
    {
      "cell_type": "markdown",
      "source": [
        "\n",
        "\n",
        "*   np.abs()\n",
        "*   np.argmin()\n",
        "*   array.repeat(n)\n",
        "\n"
      ],
      "metadata": {
        "id": "P_YaPuRHjHRK"
      }
    },
    {
      "cell_type": "markdown",
      "source": [
        "###`Q-1:` Find the nearest element in the array to a given integer.\n",
        "```\n",
        "Ex:-\n",
        "a=23 and array - [10 17 24 31 38 45 52 59].\n",
        "Nearest element is 24\n",
        "```\n",
        "Hint: Read about this function `argmin()`"
      ],
      "metadata": {
        "id": "1uamk9vAix0o"
      }
    },
    {
      "cell_type": "code",
      "source": [
        "import numpy as np"
      ],
      "metadata": {
        "id": "WhO39qGVeUOO"
      },
      "execution_count": 1,
      "outputs": []
    },
    {
      "cell_type": "code",
      "source": [
        "arr = np.array([10, 17, 24, 31, 38, 45, 52, 59])\n",
        "a = 23\n",
        "# Calculate the absolute difference between each element and 'a'\n",
        "diff = np.abs(arr - a)\n",
        "\n",
        "# Find the index of the minimum difference\n",
        "nearest_index = np.argmin(diff)\n",
        "\n",
        "# Get the nearest element using the index\n",
        "nearest_element = arr[nearest_index]\n",
        "print(f\"The nearest element to {a} in the array is: {nearest_element}\")"
      ],
      "metadata": {
        "id": "ddkpbpR6iySZ",
        "colab": {
          "base_uri": "https://localhost:8080/"
        },
        "outputId": "a90c932b-69c4-412b-a928-6ddbc7ea1c20"
      },
      "execution_count": 2,
      "outputs": [
        {
          "output_type": "stream",
          "name": "stdout",
          "text": [
            "The nearest element to 23 in the array is: 24\n"
          ]
        }
      ]
    },
    {
      "cell_type": "markdown",
      "source": [
        "###`Q-2:` Replace multiples of 3 or 5 as 0 in the given array.\n",
        "```\n",
        "arr=[1 2 3 4 5 6 7 9]\n",
        "\n",
        "result-> [1 2 0 4 0 0 7 0]\n",
        "```"
      ],
      "metadata": {
        "id": "Y1QkHyPpizyp"
      }
    },
    {
      "cell_type": "code",
      "source": [
        "arr1 = np.array([1, 2, 3, 4, 5, 6, 7, 9])\n",
        "arr1[(arr1 % 3 == 0) | (arr1 % 5 == 0)] = 0\n",
        "print(arr1)"
      ],
      "metadata": {
        "id": "JjtxMlhWi25l",
        "colab": {
          "base_uri": "https://localhost:8080/"
        },
        "outputId": "3bbee999-9a09-45bc-cc8b-469eace70e62"
      },
      "execution_count": 3,
      "outputs": [
        {
          "output_type": "stream",
          "name": "stdout",
          "text": [
            "[1 2 0 4 0 0 7 0]\n"
          ]
        }
      ]
    },
    {
      "cell_type": "markdown",
      "source": [
        "###`Q-3:` Use Fancy Indexing.\n",
        "1. Double the array elements at  given indexes\n",
        "```\n",
        "arr = np.arrange(10)\n",
        "indexes = [0,3,4,9]\n",
        "```\n",
        "Result -> `[ 0  1  2  6  8  5  6  7  8 18]`\n",
        "\n",
        "2. Using a given array make a different array as in below example\n",
        "```\n",
        "array = [1,2,3]\n",
        "result array -> [1 1 1 2 2 2 3 3 3]\n",
        "```\n",
        "* Internal-repetion should be as length of the array.\n",
        "\n",
        "Hint:\n",
        "```\n",
        "if a is an array\n",
        "a = [2,4]\n",
        "a[[1,1,0,1]] will result in-> [4 4 2 4]\n",
        "```"
      ],
      "metadata": {
        "id": "Pi_dZSwTi4OI"
      }
    },
    {
      "cell_type": "code",
      "source": [
        "arr = np.arange(10)\n",
        "indexes = [0, 3, 4, 9]\n",
        "for i in indexes:\n",
        "  arr[i] *= 2\n",
        "\n",
        "print(arr)"
      ],
      "metadata": {
        "id": "SHYuyuovi66N",
        "colab": {
          "base_uri": "https://localhost:8080/"
        },
        "outputId": "471a3386-e9ae-46f1-b36c-f515188080ea"
      },
      "execution_count": 6,
      "outputs": [
        {
          "output_type": "stream",
          "name": "stdout",
          "text": [
            "[ 0  1  2  6  8  5  6  7  8 18]\n"
          ]
        }
      ]
    },
    {
      "cell_type": "code",
      "source": [
        "array = np.array([1, 2, 3])\n",
        "n = len(array)\n",
        "print(array.repeat(n))"
      ],
      "metadata": {
        "colab": {
          "base_uri": "https://localhost:8080/"
        },
        "id": "X8S9LK0ikzuY",
        "outputId": "50c87bdb-b04c-4fce-bee1-d86c7e191048"
      },
      "execution_count": 19,
      "outputs": [
        {
          "output_type": "stream",
          "name": "stdout",
          "text": [
            "[1 1 1 2 2 2 3 3 3]\n"
          ]
        }
      ]
    },
    {
      "cell_type": "markdown",
      "source": [
        "###`Q-4:` Your are given an array which is havig some nan value. You job is to fill those nan values with most common element in the array.\n",
        "```\n",
        "arr=np.array([[1,2,np.nan],[4,2,6],[np.nan,np.nan,5]])\n",
        "\n",
        "```"
      ],
      "metadata": {
        "id": "UDehG0tFi89i"
      }
    },
    {
      "cell_type": "code",
      "source": [
        "arr = np.array([[1, 2, np.nan], [4, 2, 6], [np.nan, np.nan, 5]])\n",
        "\n",
        "clean = arr[~np.isnan(arr)].astype(int)\n",
        "from scipy import stats\n",
        "\n",
        "mode = stats.mode(clean)\n",
        "arr[np.isnan(arr)] = mode.mode\n",
        "print(arr)"
      ],
      "metadata": {
        "id": "YH13A6w9jEyu",
        "colab": {
          "base_uri": "https://localhost:8080/"
        },
        "outputId": "290ae1f7-a413-4a00-8c9d-45e202f09bbc"
      },
      "execution_count": 66,
      "outputs": [
        {
          "output_type": "stream",
          "name": "stdout",
          "text": [
            "[[1. 2. 2.]\n",
            " [4. 2. 6.]\n",
            " [2. 2. 5.]]\n"
          ]
        }
      ]
    },
    {
      "cell_type": "markdown",
      "source": [
        "### `Q-5:` Write a NumPy program\n",
        "\n",
        "- to find the missing data in a given array. Return a boolean matrix.\n",
        "- also try to fill those missing values with 0. For that, you can use `np.nan_to_num(a)`\n",
        "\n",
        "```python\n",
        "import numpy as np\n",
        "\n",
        "np.array([[3, 2, np.nan, 1],\n",
        "          [10, 12, 10, 9],\n",
        "          [5, np.nan, 1, np.nan]])\n",
        "```"
      ],
      "metadata": {
        "id": "Tk2JnioUjJ_t"
      }
    },
    {
      "cell_type": "code",
      "source": [
        "mat = np.array([[3, 2, np.nan, 1],\n",
        "          [10, 12, 10, 9],\n",
        "          [5, np.nan, 1, np.nan]])\n",
        "\n",
        "mat[np.isnan(mat)]\n",
        "[np.isnan(mat)]"
      ],
      "metadata": {
        "id": "nPEBTQJ_jJZe",
        "colab": {
          "base_uri": "https://localhost:8080/"
        },
        "outputId": "b7369883-2888-4558-9b7b-92787ec0e689"
      },
      "execution_count": 72,
      "outputs": [
        {
          "output_type": "execute_result",
          "data": {
            "text/plain": [
              "[array([[False, False,  True, False],\n",
              "        [False, False, False, False],\n",
              "        [False,  True, False,  True]])]"
            ]
          },
          "metadata": {},
          "execution_count": 72
        }
      ]
    },
    {
      "cell_type": "code",
      "source": [
        "[np.nan_to_num(mat, nan=0)]"
      ],
      "metadata": {
        "id": "bG58Ez5RIl9I",
        "outputId": "0c81c670-e4ec-4dba-fcf2-a52f38a3830a",
        "colab": {
          "base_uri": "https://localhost:8080/"
        }
      },
      "execution_count": 76,
      "outputs": [
        {
          "output_type": "execute_result",
          "data": {
            "text/plain": [
              "[array([[ 3.,  2.,  0.,  1.],\n",
              "        [10., 12., 10.,  9.],\n",
              "        [ 5.,  0.,  1.,  0.]])]"
            ]
          },
          "metadata": {},
          "execution_count": 76
        }
      ]
    },
    {
      "cell_type": "markdown",
      "source": [
        "###`Q-6:` Given two arrays, X and Y, construct the Cauchy matrix C.\n",
        "`Cij =1/(xi - yj)`\n",
        "\n",
        "http://en.wikipedia.org/wiki/Cauchy_matrix\n",
        "```\n",
        "x = numpy.array([1,2,3,4]).reshape((-1, 1)\n",
        "y = numpy.array([5,6,7])\n",
        "```"
      ],
      "metadata": {
        "id": "FFUnZtG7jNBH"
      }
    },
    {
      "cell_type": "code",
      "source": [
        "x = np.array([1,2,3,4]).reshape((-1, 1))\n",
        "y = np.array([5,6,7])\n",
        "c = 1 / (x - y)\n",
        "print(c)"
      ],
      "metadata": {
        "id": "pQXHa38TjVEh",
        "colab": {
          "base_uri": "https://localhost:8080/"
        },
        "outputId": "490ffc4b-0cdf-4bae-c428-837b8d6376a0"
      },
      "execution_count": 77,
      "outputs": [
        {
          "output_type": "stream",
          "name": "stdout",
          "text": [
            "[[-0.25       -0.2        -0.16666667]\n",
            " [-0.33333333 -0.25       -0.2       ]\n",
            " [-0.5        -0.33333333 -0.25      ]\n",
            " [-1.         -0.5        -0.33333333]]\n"
          ]
        }
      ]
    },
    {
      "cell_type": "markdown",
      "source": [
        "###`Q-7:` Plot this below equation.\n",
        "\n",
        "$$\\large y = \\frac{e^x - e^{-x}}{e^x + e^{-x}}$$\n",
        "\n",
        "**Note: This equation is called tanh activation function. In deep learning, many times this function is used. If you find some difference between the sigmoid function and this tanh function, note that to your notebook.**"
      ],
      "metadata": {
        "id": "EbkHZCF1jWNc"
      }
    },
    {
      "cell_type": "code",
      "source": [
        "x = np.arange(-100, 100)\n",
        "y = (np.exp(x) - np.exp(-x))/(np.exp(x) + np.exp(-x))\n",
        "ys = 1/(1 + np.exp(-x))\n",
        "from matplotlib import pyplot as plt\n",
        "\n",
        "plt.plot(x, y)\n",
        "plt.legend(y.round(1))\n",
        "plt.plot(x, ys)"
      ],
      "metadata": {
        "id": "n6OcN--FjbLC",
        "colab": {
          "base_uri": "https://localhost:8080/",
          "height": 447
        },
        "outputId": "5f6b5481-0c1c-41ad-b7ba-94b04f5478c3"
      },
      "execution_count": 95,
      "outputs": [
        {
          "output_type": "execute_result",
          "data": {
            "text/plain": [
              "[<matplotlib.lines.Line2D at 0x7fdfd88d3020>]"
            ]
          },
          "metadata": {},
          "execution_count": 95
        },
        {
          "output_type": "display_data",
          "data": {
            "text/plain": [
              "<Figure size 640x480 with 1 Axes>"
            ],
            "image/png": "[encoded data removed]"
          },
          "metadata": {}
        }
      ]
    },
    {
      "cell_type": "markdown",
      "source": [
        "| Feature       | Sigmoid | Tanh |\n",
        "|----------------|----------|-------|\n",
        "| **Output Range** | \\(0\\) to \\(1\\) | \\(-1\\) to \\(1\\) |\n",
        "| **Center** | Output is centered around \\(0.5\\) | Output is centered around \\(0\\) |\n",
        "| **Gradients** | Gradients can be smaller | Gradients are stronger and more robust to the vanishing gradient problem than sigmoid |\n",
        "| **Use Case** | Typically used in the output layer for binary classification problems where a probability is needed | Often used in hidden layers of neural networks |\n"
      ],
      "metadata": {
        "id": "rBAoaOqHPeh-"
      }
    },
    {
      "cell_type": "markdown",
      "source": [
        "### `Q-8:` Plot the below equation.\n",
        "\n",
        "$$\\large y = \\sqrt{36 - (x - 4)^2} + 2$$\n",
        "\n",
        "The range of x should be between -2 to 10. $x ∈ [-2, 10]$\n",
        "\n"
      ],
      "metadata": {
        "id": "xujS-pu4jciH"
      }
    },
    {
      "cell_type": "code",
      "source": [
        "x = np.arange(-2, 10)\n",
        "y = np.sqrt(36 - (x - 4)**2 + 2)\n",
        "\n",
        "plt.plot(x, y)"
      ],
      "metadata": {
        "id": "7CagwKP_jhIQ",
        "colab": {
          "base_uri": "https://localhost:8080/",
          "height": 447
        },
        "outputId": "6231d7ae-0157-4fc8-b244-56e6baac4f2e"
      },
      "execution_count": 97,
      "outputs": [
        {
          "output_type": "execute_result",
          "data": {
            "text/plain": [
              "[<matplotlib.lines.Line2D at 0x7fdfd885b3e0>]"
            ]
          },
          "metadata": {},
          "execution_count": 97
        },
        {
          "output_type": "display_data",
          "data": {
            "text/plain": [
              "<Figure size 640x480 with 1 Axes>"
            ],
            "image/png": "[encoded data removed]"
          },
          "metadata": {}
        }
      ]
    },
    {
      "cell_type": "markdown",
      "source": [
        "### `Q-9:` Write a program implement Boradcasting Rule to check if two array can be added or not.\n",
        "Given tuples of shapes.\n",
        "```\n",
        "shape of a- (3,2,2)\n",
        "shape of b- (2,2)\n",
        "\n",
        "check_broadcast(a, b) -> return Boolean (True if can broadcasted, False other wise.)\n",
        "```"
      ],
      "metadata": {
        "id": "Jf14pxCfjiX1"
      }
    },
    {
      "cell_type": "code",
      "source": [
        "def check_broadcast(a, b):\n",
        "  if type(a) and type(b) != np.ndarray:\n",
        "    return False\n",
        ""
      ],
      "metadata": {
        "id": "qSKGG0Yajlc8"
      },
      "execution_count": null,
      "outputs": []
    },
    {
      "cell_type": "code",
      "metadata": {
        "id": "195b5158"
      },
      "source": [
        "arr1 = np.array([1, 2, 3, 4, 5, 6, 7, 9])\n",
        "arr1[(arr1 % 3 == 0) | (arr1 % 5 == 0)] = 0\n",
        "print(arr1)"
      ],
      "execution_count": null,
      "outputs": []
    }
  ]
}