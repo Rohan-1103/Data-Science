{
  "cells": [
    {
      "cell_type": "markdown",
      "id": "2d9e8884",
      "metadata": {
        "id": "2d9e8884"
      },
      "source": [
        "## What is an Iteration\n",
        "\n",
        "Iteration is a general term for taking each item of something, one after another. Any time you use a loop, explicit or implicit, to go over a group of items, that is iteration."
      ]
    },
    {
      "cell_type": "code",
      "execution_count": null,
      "id": "26fadf7e",
      "metadata": {
        "id": "26fadf7e",
        "outputId": "9eea663d-13a1-4569-ea29-cafc6ef9491e"
      },
      "outputs": [
        {
          "name": "stdout",
          "output_type": "stream",
          "text": [
            "1\n",
            "2\n",
            "3\n"
          ]
        }
      ],
      "source": [
        "# Example\n",
        "num = [1,2,3]\n",
        "\n",
        "for i in num:\n",
        "    print(i)"
      ]
    },
    {
      "cell_type": "markdown",
      "id": "c7ea3a1a",
      "metadata": {
        "id": "c7ea3a1a"
      },
      "source": [
        "## What is Iterator\n",
        "\n",
        "An Iterator is an object that allows the programmer to traverse through a sequence of data without having to store the entire data in the memory"
      ]
    },
    {
      "cell_type": "code",
      "execution_count": 1,
      "id": "ff765a6c",
      "metadata": {
        "id": "ff765a6c",
        "outputId": "1215d1aa-7a86-47a4-9b12-5c0ed41b2d8f",
        "colab": {
          "base_uri": "https://localhost:8080/"
        }
      },
      "outputs": [
        {
          "output_type": "stream",
          "name": "stdout",
          "text": [
            "83.1796875\n",
            "0.75\n"
          ]
        }
      ],
      "source": [
        "# Example\n",
        "L = [x for x in range(1,10000)]\n",
        "\n",
        "#for i in L:\n",
        "    #print(i*2)\n",
        "\n",
        "import sys\n",
        "\n",
        "print(sys.getsizeof(L)/1024)\n",
        "\n",
        "x = range(1,10000000000)\n",
        "\n",
        "#for i in x:\n",
        "    #print(i*2)\n",
        "\n",
        "print(sys.getsizeof(x)/64)\n"
      ]
    },
    {
      "cell_type": "markdown",
      "id": "99fff65f",
      "metadata": {
        "id": "99fff65f"
      },
      "source": [
        "## What is Iterable\n",
        "Iterable is an object, which one can iterate over\n",
        "\n",
        " It generates an Iterator when passed to iter() method."
      ]
    },
    {
      "cell_type": "code",
      "execution_count": 2,
      "id": "77650fa6",
      "metadata": {
        "id": "77650fa6",
        "outputId": "ca427a63-0526-4e70-bee3-f7b08fbaff43",
        "colab": {
          "base_uri": "https://localhost:8080/"
        }
      },
      "outputs": [
        {
          "output_type": "execute_result",
          "data": {
            "text/plain": [
              "list_iterator"
            ]
          },
          "metadata": {},
          "execution_count": 2
        }
      ],
      "source": [
        "# Example\n",
        "L = [1,2,3]\n",
        "type(L)\n",
        "\n",
        "# L is an iterable\n",
        "type(iter(L))\n",
        "\n",
        "# iter(L) --> iterator"
      ]
    },
    {
      "cell_type": "markdown",
      "id": "f9482d80",
      "metadata": {
        "id": "f9482d80"
      },
      "source": [
        "## Point to remember\n",
        "\n",
        "- Every **Iterator** is also and **Iterable**\n",
        "- Not all **Iterables** are **Iterators**"
      ]
    },
    {
      "cell_type": "markdown",
      "id": "9c4c52a7",
      "metadata": {
        "id": "9c4c52a7"
      },
      "source": [
        "## Trick\n",
        "- Every Iterable has an **iter function**\n",
        "- Every Iterator has both **iter function** as well as a **next function**"
      ]
    },
    {
      "cell_type": "code",
      "execution_count": 3,
      "id": "802be65a",
      "metadata": {
        "id": "802be65a",
        "outputId": "a1fa908f-6f61-4aad-9c1b-b4237745c716",
        "colab": {
          "base_uri": "https://localhost:8080/"
        }
      },
      "outputs": [
        {
          "output_type": "execute_result",
          "data": {
            "text/plain": [
              "['__abs__',\n",
              " '__add__',\n",
              " '__and__',\n",
              " '__bool__',\n",
              " '__ceil__',\n",
              " '__class__',\n",
              " '__delattr__',\n",
              " '__dir__',\n",
              " '__divmod__',\n",
              " '__doc__',\n",
              " '__eq__',\n",
              " '__float__',\n",
              " '__floor__',\n",
              " '__floordiv__',\n",
              " '__format__',\n",
              " '__ge__',\n",
              " '__getattribute__',\n",
              " '__getnewargs__',\n",
              " '__getstate__',\n",
              " '__gt__',\n",
              " '__hash__',\n",
              " '__index__',\n",
              " '__init__',\n",
              " '__init_subclass__',\n",
              " '__int__',\n",
              " '__invert__',\n",
              " '__le__',\n",
              " '__lshift__',\n",
              " '__lt__',\n",
              " '__mod__',\n",
              " '__mul__',\n",
              " '__ne__',\n",
              " '__neg__',\n",
              " '__new__',\n",
              " '__or__',\n",
              " '__pos__',\n",
              " '__pow__',\n",
              " '__radd__',\n",
              " '__rand__',\n",
              " '__rdivmod__',\n",
              " '__reduce__',\n",
              " '__reduce_ex__',\n",
              " '__repr__',\n",
              " '__rfloordiv__',\n",
              " '__rlshift__',\n",
              " '__rmod__',\n",
              " '__rmul__',\n",
              " '__ror__',\n",
              " '__round__',\n",
              " '__rpow__',\n",
              " '__rrshift__',\n",
              " '__rshift__',\n",
              " '__rsub__',\n",
              " '__rtruediv__',\n",
              " '__rxor__',\n",
              " '__setattr__',\n",
              " '__sizeof__',\n",
              " '__str__',\n",
              " '__sub__',\n",
              " '__subclasshook__',\n",
              " '__truediv__',\n",
              " '__trunc__',\n",
              " '__xor__',\n",
              " 'as_integer_ratio',\n",
              " 'bit_count',\n",
              " 'bit_length',\n",
              " 'conjugate',\n",
              " 'denominator',\n",
              " 'from_bytes',\n",
              " 'imag',\n",
              " 'numerator',\n",
              " 'real',\n",
              " 'to_bytes']"
            ]
          },
          "metadata": {},
          "execution_count": 3
        }
      ],
      "source": [
        "a = 2\n",
        "a\n",
        "\n",
        "#for i in a:\n",
        "    #print(i)\n",
        "\n",
        "dir(a)"
      ]
    },
    {
      "cell_type": "code",
      "execution_count": 4,
      "id": "2daf8b0a",
      "metadata": {
        "id": "2daf8b0a",
        "outputId": "1b328472-cd0c-4787-a5c5-ebe7f99f3319",
        "colab": {
          "base_uri": "https://localhost:8080/"
        }
      },
      "outputs": [
        {
          "output_type": "execute_result",
          "data": {
            "text/plain": [
              "['__class__',\n",
              " '__class_getitem__',\n",
              " '__contains__',\n",
              " '__delattr__',\n",
              " '__delitem__',\n",
              " '__dir__',\n",
              " '__doc__',\n",
              " '__eq__',\n",
              " '__format__',\n",
              " '__ge__',\n",
              " '__getattribute__',\n",
              " '__getitem__',\n",
              " '__getstate__',\n",
              " '__gt__',\n",
              " '__hash__',\n",
              " '__init__',\n",
              " '__init_subclass__',\n",
              " '__ior__',\n",
              " '__iter__',\n",
              " '__le__',\n",
              " '__len__',\n",
              " '__lt__',\n",
              " '__ne__',\n",
              " '__new__',\n",
              " '__or__',\n",
              " '__reduce__',\n",
              " '__reduce_ex__',\n",
              " '__repr__',\n",
              " '__reversed__',\n",
              " '__ror__',\n",
              " '__setattr__',\n",
              " '__setitem__',\n",
              " '__sizeof__',\n",
              " '__str__',\n",
              " '__subclasshook__',\n",
              " 'clear',\n",
              " 'copy',\n",
              " 'fromkeys',\n",
              " 'get',\n",
              " 'items',\n",
              " 'keys',\n",
              " 'pop',\n",
              " 'popitem',\n",
              " 'setdefault',\n",
              " 'update',\n",
              " 'values']"
            ]
          },
          "metadata": {},
          "execution_count": 4
        }
      ],
      "source": [
        "T = {1:2,3:4}\n",
        "dir(T)"
      ]
    },
    {
      "cell_type": "code",
      "execution_count": 5,
      "id": "7468f8bf",
      "metadata": {
        "id": "7468f8bf"
      },
      "outputs": [],
      "source": [
        "L = [1,2,3]\n",
        "\n",
        "# L is not an iterator\n",
        "# dir(L)    # No '__next__' function\n",
        "iter_L = iter(L)\n",
        "\n",
        "# iter_L is an iterator"
      ]
    },
    {
      "cell_type": "markdown",
      "id": "5f02c4b7",
      "metadata": {
        "id": "5f02c4b7"
      },
      "source": [
        "## Understanding how for loop works"
      ]
    },
    {
      "cell_type": "code",
      "execution_count": null,
      "id": "8b518b08",
      "metadata": {
        "id": "8b518b08",
        "outputId": "b31ff61e-2796-4264-bca1-91bc7cce177f"
      },
      "outputs": [
        {
          "name": "stdout",
          "output_type": "stream",
          "text": [
            "1\n",
            "2\n",
            "3\n"
          ]
        }
      ],
      "source": [
        "num = [1,2,3]\n",
        "\n",
        "for i in num:\n",
        "    print(i)"
      ]
    },
    {
      "cell_type": "code",
      "execution_count": 7,
      "id": "bfb4f98d",
      "metadata": {
        "id": "bfb4f98d",
        "outputId": "4cd22cc0-9498-4536-9808-2cb1e286ac99",
        "colab": {
          "base_uri": "https://localhost:8080/"
        }
      },
      "outputs": [
        {
          "output_type": "stream",
          "name": "stdout",
          "text": [
            "1\n",
            "2\n",
            "3\n"
          ]
        }
      ],
      "source": [
        "num = [1,2,3]\n",
        "\n",
        "# fetch the iterator\n",
        "iter_num = iter(num)\n",
        "\n",
        "# step2 --> next\n",
        "print(next(iter_num))\n",
        "print(next(iter_num))\n",
        "print(next(iter_num))\n",
        "# next(iter_num)"
      ]
    },
    {
      "cell_type": "markdown",
      "id": "e35d6e87",
      "metadata": {
        "id": "e35d6e87"
      },
      "source": [
        "## Making our own for loop"
      ]
    },
    {
      "cell_type": "code",
      "execution_count": 8,
      "id": "7822da8e",
      "metadata": {
        "id": "7822da8e"
      },
      "outputs": [],
      "source": [
        "def mera_khudka_for_loop(iterable):\n",
        "    iterator = iter(iterable)\n",
        "\n",
        "    while True:\n",
        "        try:\n",
        "            print(next(iterator))\n",
        "        except StopIteration:\n",
        "            break"
      ]
    },
    {
      "cell_type": "code",
      "execution_count": 9,
      "id": "68a428be",
      "metadata": {
        "id": "68a428be",
        "outputId": "e87d52ca-4714-47e3-95af-7b21b3604f28",
        "colab": {
          "base_uri": "https://localhost:8080/"
        }
      },
      "outputs": [
        {
          "output_type": "stream",
          "name": "stdout",
          "text": [
            "0\n",
            "1\n"
          ]
        }
      ],
      "source": [
        "a = [1,2,3]\n",
        "b = range(1,11)\n",
        "c = (1,2,3)\n",
        "d = {1,2,3}\n",
        "e = {0:1,1:1}\n",
        "\n",
        "mera_khudka_for_loop(e)"
      ]
    },
    {
      "cell_type": "markdown",
      "id": "81a3e616",
      "metadata": {
        "id": "81a3e616"
      },
      "source": [
        "## A confusing point"
      ]
    },
    {
      "cell_type": "code",
      "execution_count": 10,
      "id": "269d3c83",
      "metadata": {
        "id": "269d3c83",
        "outputId": "3555e2f6-19a8-4bdb-e5b8-0b7081745b3a",
        "colab": {
          "base_uri": "https://localhost:8080/"
        }
      },
      "outputs": [
        {
          "output_type": "stream",
          "name": "stdout",
          "text": [
            "132869122954896 Address of iterator 1\n",
            "132869122954896 Address of iterator 2\n"
          ]
        }
      ],
      "source": [
        "num = [1,2,3]\n",
        "iter_obj = iter(num)\n",
        "\n",
        "print(id(iter_obj),'Address of iterator 1')\n",
        "\n",
        "iter_obj2 = iter(iter_obj)\n",
        "print(id(iter_obj2),'Address of iterator 2')"
      ]
    },
    {
      "cell_type": "markdown",
      "id": "051af6bc",
      "metadata": {
        "id": "051af6bc"
      },
      "source": [
        "## Let's create our own range() function"
      ]
    },
    {
      "cell_type": "code",
      "execution_count": 11,
      "id": "7eaf1228",
      "metadata": {
        "id": "7eaf1228"
      },
      "outputs": [],
      "source": [
        "class mera_range:\n",
        "    def __init__(self,start,end):\n",
        "        self.start = start\n",
        "        self.end = end\n",
        "\n",
        "    def __iter__(self):\n",
        "        return mera_range_iterator(self)"
      ]
    },
    {
      "cell_type": "code",
      "execution_count": 12,
      "id": "28118f2d",
      "metadata": {
        "id": "28118f2d"
      },
      "outputs": [],
      "source": [
        "class mera_range_iterator:\n",
        "    def __init__(self,iterable_obj):\n",
        "        self.iterable = iterable_obj\n",
        "\n",
        "    def __iter__(self):\n",
        "        return self\n",
        "\n",
        "    def __next__(self):\n",
        "        if self.iterable.start >= self.iterable.end:\n",
        "            raise StopIteration\n",
        "\n",
        "        current = self.iterable.start\n",
        "        self.iterable.start+=1\n",
        "        return current"
      ]
    },
    {
      "cell_type": "code",
      "execution_count": 20,
      "id": "142c0b98",
      "metadata": {
        "id": "142c0b98",
        "outputId": "4acfd4c8-f588-4459-cc26-34d57be78eb7",
        "colab": {
          "base_uri": "https://localhost:8080/"
        }
      },
      "outputs": [
        {
          "output_type": "stream",
          "name": "stdout",
          "text": [
            "1\n",
            "2\n",
            "3\n",
            "4\n",
            "5\n",
            "6\n",
            "7\n",
            "8\n",
            "9\n",
            "10\n"
          ]
        }
      ],
      "source": [
        "x = mera_range(1,11)\n",
        "for i in mera_range(1, 11):\n",
        "  print(i)"
      ]
    },
    {
      "cell_type": "code",
      "execution_count": 21,
      "id": "5aaaeeb3",
      "metadata": {
        "id": "5aaaeeb3",
        "outputId": "5b76adb8-c21d-4be4-d833-4aa2cf45db75",
        "colab": {
          "base_uri": "https://localhost:8080/",
          "height": 103
        }
      },
      "outputs": [
        {
          "output_type": "execute_result",
          "data": {
            "text/plain": [
              "__main__.mera_range"
            ],
            "text/html": [
              "<div style=\"max-width:800px; border: 1px solid var(--colab-border-color);\"><style>\n",
              "      pre.function-repr-contents {\n",
              "        overflow-x: auto;\n",
              "        padding: 8px 12px;\n",
              "        max-height: 500px;\n",
              "      }\n",
              "\n",
              "      pre.function-repr-contents.function-repr-contents-collapsed {\n",
              "        cursor: pointer;\n",
              "        max-height: 100px;\n",
              "      }\n",
              "    </style>\n",
              "    <pre style=\"white-space: initial; background:\n",
              "         var(--colab-secondary-surface-color); padding: 8px 12px;\n",
              "         border-bottom: 1px solid var(--colab-border-color);\"><b>mera_range</b><br/>def __init__(start, end)</pre><pre class=\"function-repr-contents function-repr-contents-collapsed\" style=\"\"><a class=\"filepath\" style=\"display:none\" href=\"#\"></a>&lt;no docstring&gt;</pre></div>"
            ]
          },
          "metadata": {},
          "execution_count": 21
        }
      ],
      "source": [
        "type(x)"
      ]
    },
    {
      "cell_type": "code",
      "execution_count": 22,
      "id": "8e742864",
      "metadata": {
        "id": "8e742864",
        "outputId": "edc65fde-482a-4e0c-f060-8c4820b47305",
        "colab": {
          "base_uri": "https://localhost:8080/"
        }
      },
      "outputs": [
        {
          "output_type": "execute_result",
          "data": {
            "text/plain": [
              "<__main__.mera_range_iterator at 0x78d7efafe690>"
            ]
          },
          "metadata": {},
          "execution_count": 22
        }
      ],
      "source": [
        "iter(x)"
      ]
    },
    {
      "cell_type": "code",
      "execution_count": null,
      "id": "95380d0b",
      "metadata": {
        "id": "95380d0b"
      },
      "outputs": [],
      "source": []
    }
  ],
  "metadata": {
    "kernelspec": {
      "display_name": "Python 3",
      "language": "python",
      "name": "python3"
    },
    "language_info": {
      "codemirror_mode": {
        "name": "ipython",
        "version": 3
      },
      "file_extension": ".py",
      "mimetype": "text/x-python",
      "name": "python",
      "nbconvert_exporter": "python",
      "pygments_lexer": "ipython3",
      "version": "3.8.8"
    },
    "colab": {
      "provenance": []
    }
  },
  "nbformat": 4,
  "nbformat_minor": 5
}