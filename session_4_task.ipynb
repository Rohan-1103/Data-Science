{
  "nbformat": 4,
  "nbformat_minor": 0,
  "metadata": {
    "colab": {
      "provenance": [],
      "include_colab_link": true
    },
    "kernelspec": {
      "name": "python3",
      "display_name": "Python 3"
    },
    "language_info": {
      "name": "python"
    }
  },
  "cells": [
    {
      "cell_type": "markdown",
      "metadata": {
        "id": "view-in-github",
        "colab_type": "text"
      },
      "source": [
        "<a href=\"https://colab.research.google.com/github/Rohan-1103/Data-Science/blob/main/session_4_task.ipynb\" target=\"_parent\"><img src=\"https://colab.research.google.com/assets/colab-badge.svg\" alt=\"Open In Colab\"/></a>"
      ]
    },
    {
      "cell_type": "markdown",
      "source": [
        "###`Problem 1:` Combine two lists index-wise(columns wise)\n",
        "\n",
        "Write a program to add two lists index-wise. Create a new list that contains the 0th index item from both the list, then the 1st index item, and so on till the last element. any leftover items will get added at the end of the new list.\n",
        "\n",
        "`Given List:`\n",
        "```\n",
        "list1 = [\"M\", \"na\", \"i\", \"Kh\"]\n",
        "list2 = [\"y\", \"me\", \"s\", \"an\"]\n",
        "```\n",
        "\n",
        "`Output:`\n",
        "```\n",
        "[['M','y'], ['na', me'], ['i', 's'], ['Kh', 'an']]\n",
        "```"
      ],
      "metadata": {
        "id": "kLZ_vCeE0lsM"
      }
    },
    {
      "cell_type": "code",
      "source": [
        "list1 = [\"M\", \"na\", \"i\", \"Kh\"]\n",
        "list2 = [\"y\", \"me\", \"s\", \"an\"]\n",
        "result = zip(list1, list2)\n",
        "\n",
        "print([i for i in result])"
      ],
      "metadata": {
        "id": "cDO3Yv6p0nnG",
        "outputId": "e999fef1-eef9-4145-9e36-0c89beb9aebe",
        "colab": {
          "base_uri": "https://localhost:8080/"
        }
      },
      "execution_count": 1,
      "outputs": [
        {
          "output_type": "stream",
          "name": "stdout",
          "text": [
            "[('M', 'y'), ('na', 'me'), ('i', 's'), ('Kh', 'an')]\n"
          ]
        }
      ]
    },
    {
      "cell_type": "code",
      "source": [
        "list1 = [\"M\", \"na\", \"i\", \"Kh\"]\n",
        "list2 = [\"y\", \"me\", \"s\", \"an\"]\n",
        "\n",
        "result = []\n",
        "\n",
        "for i in range(len(list1)):\n",
        "  result.append([list1[i], list2[i]])\n",
        "\n",
        "print(result)"
      ],
      "metadata": {
        "id": "KaVUYpeib4cg",
        "outputId": "c32a7d32-71e1-4d16-d3c7-cdf8809c7bf5",
        "colab": {
          "base_uri": "https://localhost:8080/"
        }
      },
      "execution_count": 2,
      "outputs": [
        {
          "output_type": "stream",
          "name": "stdout",
          "text": [
            "[['M', 'y'], ['na', 'me'], ['i', 's'], ['Kh', 'an']]\n"
          ]
        }
      ]
    },
    {
      "cell_type": "markdown",
      "source": [
        "### `Problem 2:` Add new item to list after a specified item\n",
        "Write a program to add item 7000 after 6000 in the following Python List\n",
        "```\n",
        "list1 = [10, 20, [300, 400, [5000, 6000], 500], 30, 40]\n",
        "```\n",
        "`Output:`\n",
        "```\n",
        "[10, 20, [300, 400, [5000, 6000, 7000], 500], 30, 40]\n",
        "```"
      ],
      "metadata": {
        "id": "bnRwRgf_0qLu"
      }
    },
    {
      "cell_type": "code",
      "source": [
        "list1 = [10, 20, [300, 400, [5000, 6000], 500], 30, 40]\n",
        "# list1.insert([2][2][2], 7000)\n",
        "list1[2][2].insert(2, 7000)\n",
        "print(list1)"
      ],
      "metadata": {
        "id": "yW5lLPns00q9",
        "outputId": "b5435355-416b-499f-c1ad-b34c3c11b441",
        "colab": {
          "base_uri": "https://localhost:8080/"
        }
      },
      "execution_count": 3,
      "outputs": [
        {
          "output_type": "stream",
          "name": "stdout",
          "text": [
            "[10, 20, [300, 400, [5000, 6000, 7000], 500], 30, 40]\n"
          ]
        }
      ]
    },
    {
      "cell_type": "markdown",
      "source": [
        "###`Problem 3:` Update no of items available\n",
        "\n",
        "Suppose you are given a list of candy and another list of same size representing no of items of respective candy.\n",
        "\n",
        "i.e -  \n",
        "```\n",
        "candy_list = ['Jelly Belly','Kit Kat','Double Bubble','Milky Way','Three Musketeers']\n",
        "no_of_items = [10,20,34,74,32]\n",
        "```\n",
        "\n",
        "Write a program to show no. of items of each candy type.\n",
        "\n",
        "`Output:`\n",
        "\n",
        "```\n",
        "Jelly Belly-10\n",
        "Kit Kat-20\n",
        "Double Bubble-34\n",
        "Milky Way-74\n",
        "Three Musketeers-32\n",
        "\n",
        "```"
      ],
      "metadata": {
        "id": "w7fC8oHk02fH"
      }
    },
    {
      "cell_type": "code",
      "source": [
        "candy_list = ['Jelly Belly','Kit Kat','Double Bubble','Milky Way','Three Musketeers']\n",
        "no_of_items = [10,20,34,74,32]\n",
        "\n",
        "result = zip(candy_list, no_of_items)\n",
        "for i, j in result:\n",
        "  print(i,\"-\",j)"
      ],
      "metadata": {
        "id": "gg5JEX1a09q8",
        "outputId": "fca18f7c-886f-4399-941c-4a00cc41ee77",
        "colab": {
          "base_uri": "https://localhost:8080/"
        }
      },
      "execution_count": 4,
      "outputs": [
        {
          "output_type": "stream",
          "name": "stdout",
          "text": [
            "Jelly Belly - 10\n",
            "Kit Kat - 20\n",
            "Double Bubble - 34\n",
            "Milky Way - 74\n",
            "Three Musketeers - 32\n"
          ]
        }
      ]
    },
    {
      "cell_type": "markdown",
      "source": [
        "###`Problem 4:` Running Sum on list\n",
        "Write a program to print a list after performing running sum on it.\n",
        "\n",
        "i.e:\n",
        "\n",
        "`Input:`\n",
        "```\n",
        "list1 = [1,2,3,4,5,6]\n",
        "```\n",
        "`Output:`\n",
        "```\n",
        "[1,3,6,10,15,21]\n",
        "```"
      ],
      "metadata": {
        "id": "mFGZAvnB1D3N"
      }
    },
    {
      "cell_type": "code",
      "source": [
        "list1 = [1,2,3,4,5,6]\n",
        "sum = 0\n",
        "lsum = []\n",
        "for i in range(len(list1)):\n",
        "  sum += list1[i]\n",
        "  lsum.append(sum)\n",
        "print(lsum)"
      ],
      "metadata": {
        "id": "8LPS6DaD1FTs",
        "outputId": "1d072a88-d95f-41a7-837a-b742b668ab4b",
        "colab": {
          "base_uri": "https://localhost:8080/"
        }
      },
      "execution_count": 5,
      "outputs": [
        {
          "output_type": "stream",
          "name": "stdout",
          "text": [
            "[1, 3, 6, 10, 15, 21]\n"
          ]
        }
      ]
    },
    {
      "cell_type": "markdown",
      "source": [
        "###`Problem 5:` You are given a list of integers. You are asked to make a list by running through elements of the list by adding all elements greater and itself.\n",
        "\n",
        "i.e. Say given list is `[2,4,6,10,1]`\n",
        "resultant list will be `[22,20,10,23]`.\n",
        "\n",
        "For 1st element `2` ->> these are greater `(4+6+10)` values and `2` itself so on adding becomes `22`.\n",
        "\n",
        "For 2nd element `4` ->> greater elements are `(6, 10)` and `4` itself, so on adding `20`\n",
        "\n",
        "like wise for all other elememts.\n",
        "\n",
        "`[2,4,6,10,1]`-->`[22,20,16,10,23]`\n",
        "\n",
        "\n"
      ],
      "metadata": {
        "id": "2ztcZ-EW1HEU"
      }
    },
    {
      "cell_type": "code",
      "source": [
        "# Write code here"
      ],
      "metadata": {
        "id": "UJuWqzj31UD2"
      },
      "execution_count": 6,
      "outputs": []
    },
    {
      "cell_type": "markdown",
      "source": [
        "###`Problem 6:` Find list of common unique items from two list. and show in increasing order\n",
        "\n",
        "`Input`\n",
        "\n",
        "```\n",
        "num1 = [23,45,67,78,89,34]\n",
        "num2 = [34,89,55,56,39,67]\n",
        "```\n",
        "\n",
        "`Output:`\n",
        "```\n",
        "[34, 67, 89]\n",
        "```\n"
      ],
      "metadata": {
        "id": "c9H6tYTx1ZYo"
      }
    },
    {
      "cell_type": "code",
      "source": [
        "num1 = [23,45,67,78,89,34]\n",
        "num2 = [34,89,55,56,39,67]\n",
        "\n",
        "uni_comm = []\n",
        "\n",
        "for i in num1:\n",
        "  for j in num2:\n",
        "    if i == j:\n",
        "      uni_comm.append(j)\n",
        "\n",
        "print(sorted(uni_comm))"
      ],
      "metadata": {
        "id": "dDxdi7eE1e1W",
        "colab": {
          "base_uri": "https://localhost:8080/"
        },
        "outputId": "152fd915-bfb5-4acd-ca45-cf5535ba88eb"
      },
      "execution_count": 7,
      "outputs": [
        {
          "output_type": "stream",
          "name": "stdout",
          "text": [
            "[34, 67, 89]\n"
          ]
        }
      ]
    },
    {
      "cell_type": "markdown",
      "source": [
        "###`Problem 7:` Sort a list of alphanumeric strings based on product value of numeric character in it. If in any string there is no numeric character take it's product value as 1.\n",
        "\n",
        "`Input:`\n",
        "```\n",
        "['1ac21', '23fg', '456', '098d','1','kls']\n",
        "```\n",
        "\n",
        "`Output:`\n",
        "```\n",
        "['456', '23fg', '1ac21', '1', 'kls', '098d']\n",
        "\n",
        "```"
      ],
      "metadata": {
        "id": "i3Izok2i1gRD"
      }
    },
    {
      "cell_type": "code",
      "source": [
        "hetro = ['1ac21', '23fg', '456', '098d', '1', 'kls']\n",
        "\n",
        "mul_list = []\n",
        "\n",
        "for words in hetro:\n",
        "    mul = 1\n",
        "    for chars in words:\n",
        "        if chars.isdigit():\n",
        "            mul *= int(chars)\n",
        "    mul_list.append(mul)\n",
        "\n",
        "result = zip(mul_list, hetro)\n",
        "\n",
        "sorted_words = [word for value, word in sorted(result, reverse=True)]\n",
        "print(sorted_words)"
      ],
      "metadata": {
        "colab": {
          "base_uri": "https://localhost:8080/"
        },
        "id": "O4MFLPw4NRii",
        "outputId": "c62764da-0ba6-4f46-e716-13eaf2d7b34c"
      },
      "execution_count": 8,
      "outputs": [
        {
          "output_type": "stream",
          "name": "stdout",
          "text": [
            "['456', '23fg', '1ac21', 'kls', '1', '098d']\n"
          ]
        }
      ]
    },
    {
      "cell_type": "markdown",
      "source": [
        "`Problem 8:` Split String of list on K character.\n",
        "\n",
        "**Example :**\n",
        "\n",
        "Input:\n",
        "```bash\n",
        "['CampusX is a channel', 'for data-science', 'aspirants.']\n",
        "```\n",
        "\n",
        "Output:\n",
        "```bash\n",
        "['CampusX', 'is', 'a', 'channel', 'for', 'data-science', 'aspirants.']\n",
        "```"
      ],
      "metadata": {
        "id": "McMaNSpB1zJB"
      }
    },
    {
      "cell_type": "code",
      "source": [
        "sent_list = ['CampusX is a channel', 'for data-science', 'aspirants.']\n",
        "\n",
        "result = []\n",
        "\n",
        "for items in sent_list:\n",
        "  for i in items.split(\" \"):\n",
        "    result.append(i)\n",
        "print(result)"
      ],
      "metadata": {
        "id": "rLg6AUhf14wI",
        "colab": {
          "base_uri": "https://localhost:8080/"
        },
        "outputId": "1471c276-4a7e-459c-ecd3-fa659662dbdf"
      },
      "execution_count": 9,
      "outputs": [
        {
          "output_type": "stream",
          "name": "stdout",
          "text": [
            "['CampusX', 'is', 'a', 'channel', 'for', 'data-science', 'aspirants.']\n"
          ]
        }
      ]
    },
    {
      "cell_type": "markdown",
      "source": [
        "### `Problem 9:` Convert Character Matrix to single String using string comprehension.\n",
        "\n",
        "**Example 1:**\n",
        "\n",
        "Input:\n",
        "```bash\n",
        "[['c', 'a', 'm', 'p', 'u', 'x'], ['i', 's'], ['b', 'e', 's', 't'], ['c', 'h', 'a', 'n', 'n', 'e', 'l']]\n",
        "```\n",
        "\n",
        "Output:\n",
        "```bash\n",
        "campux is best channel\n",
        "```"
      ],
      "metadata": {
        "id": "ebqIC0Xa16dG"
      }
    },
    {
      "cell_type": "code",
      "source": [
        "char_list = [['c', 'a', 'm', 'p', 'u', 'x'], ['i', 's'], ['b', 'e', 's', 't'], ['c', 'h', 'a', 'n', 'n', 'e', 'l']]\n",
        "\n",
        "words = [\"\".join(word) for word in char_list]\n",
        "\n",
        "for i in words:\n",
        "  print(i, end = \" \")\n",
        "\n",
        "# for items in sent_list:\n",
        "#   for i in items.split(\" \"):\n",
        "#     result.append(i)\n",
        "# print(result)"
      ],
      "metadata": {
        "id": "KLKxzyZf2BLr",
        "colab": {
          "base_uri": "https://localhost:8080/"
        },
        "outputId": "059fbb22-f191-4283-c64f-54e558d61660"
      },
      "execution_count": 10,
      "outputs": [
        {
          "output_type": "stream",
          "name": "stdout",
          "text": [
            "campux is best channel "
          ]
        }
      ]
    },
    {
      "cell_type": "markdown",
      "source": [
        "### `Problem 10:` Add Space between Potential Words.\n",
        "\n",
        "**Example:**\n",
        "\n",
        "Input:\n",
        "\n",
        "```bash\n",
        "['campusxIs', 'bestFor', 'dataScientist']\n",
        "```\n",
        "\n",
        "Output:\n",
        "```bash\n",
        "['campusx Is', 'best For', 'data Scientist']\n",
        "```"
      ],
      "metadata": {
        "id": "0v1Z3Snp2DAm"
      }
    },
    {
      "cell_type": "code",
      "source": [
        "words = ['campusxIs', 'bestFor', 'dataScientist']\n",
        "result = []\n",
        "\n",
        "for word in words:\n",
        "    new_word = ''\n",
        "    for ch in word:\n",
        "        if ch.isupper():\n",
        "            new_word += ' ' + ch\n",
        "        else:\n",
        "            new_word += ch\n",
        "    result.append(new_word)\n",
        "\n",
        "print(result)"
      ],
      "metadata": {
        "id": "pltvqSXa2IxP",
        "outputId": "fbaa6702-991f-4d19-de2b-4aa539bcc293",
        "colab": {
          "base_uri": "https://localhost:8080/"
        }
      },
      "execution_count": 11,
      "outputs": [
        {
          "output_type": "stream",
          "name": "stdout",
          "text": [
            "['campusx Is', 'best For', 'data Scientist']\n"
          ]
        }
      ]
    },
    {
      "cell_type": "markdown",
      "source": [
        "### `Problem 11:` Write a program that can perform union operation on 2 lists\n",
        "\n",
        "**Example:**\n",
        "\n",
        "Input:\n",
        "\n",
        "```bash\n",
        "[1,2,3,4,5,1]\n",
        "[2,3,5,7,8]\n",
        "```\n",
        "\n",
        "Output:\n",
        "```bash\n",
        "[1,2,3,4,5,7,8]\n",
        "```"
      ],
      "metadata": {
        "id": "tnmBk1M52KXW"
      }
    },
    {
      "cell_type": "code",
      "source": [
        "l1 = [1,2,3,4,5,1]\n",
        "l2 = [2,3,5,7,8]\n",
        "\n",
        "unique = []\n",
        "\n",
        "for i in l1:\n",
        "  if i not in unique:\n",
        "    unique.append(i)\n",
        "\n",
        "for j in l2:\n",
        "  if j not in unique:\n",
        "    unique.append(j)\n",
        "\n",
        "print(unique)"
      ],
      "metadata": {
        "id": "u0AgIToU2-Ht",
        "outputId": "1cc43315-21b1-4ea5-8912-d8e4674e0b09",
        "colab": {
          "base_uri": "https://localhost:8080/"
        }
      },
      "execution_count": 12,
      "outputs": [
        {
          "output_type": "stream",
          "name": "stdout",
          "text": [
            "[1, 2, 3, 4, 5, 7, 8]\n"
          ]
        }
      ]
    },
    {
      "cell_type": "code",
      "source": [
        "l1 = [1, 2, 3, 4, 5, 1]\n",
        "l2 = [2, 3, 5, 7, 8]\n",
        "\n",
        "unique = []\n",
        "for item in l1 + l2:\n",
        "    if item not in unique:\n",
        "        unique.append(item)\n",
        "\n",
        "print(unique)"
      ],
      "metadata": {
        "id": "ji46QEv6v_0t",
        "outputId": "12f902db-2379-42d1-f948-a9b41807f1ef",
        "colab": {
          "base_uri": "https://localhost:8080/"
        }
      },
      "execution_count": 13,
      "outputs": [
        {
          "output_type": "stream",
          "name": "stdout",
          "text": [
            "[1, 2, 3, 4, 5, 7, 8]\n"
          ]
        }
      ]
    },
    {
      "cell_type": "code",
      "source": [
        "l1 = [1, 2, 3, 4, 5, 1]\n",
        "l2 = [2, 3, 5, 7, 8]\n",
        "\n",
        "unique = list(set(l1 + l2))\n",
        "print(unique)  # Order will be unpredictable\\"
      ],
      "metadata": {
        "id": "9drdx6hywCsU",
        "outputId": "96d659aa-5e08-46a7-d551-dc6c1fd5074a",
        "colab": {
          "base_uri": "https://localhost:8080/"
        }
      },
      "execution_count": 14,
      "outputs": [
        {
          "output_type": "stream",
          "name": "stdout",
          "text": [
            "[1, 2, 3, 4, 5, 7, 8]\n"
          ]
        }
      ]
    },
    {
      "cell_type": "markdown",
      "source": [
        "### `Problem 12:` Write a program that can find the max number of each row of a matrix\n",
        "\n",
        "**Example:**\n",
        "\n",
        "Input:\n",
        "\n",
        "```bash\n",
        "[[1,2,3],[4,5,6],[7,8,9]]\n",
        "```\n",
        "\n",
        "Output:\n",
        "```bash\n",
        "[3,6,9]\n",
        "```"
      ],
      "metadata": {
        "id": "Yt8x67Ch3Ow1"
      }
    },
    {
      "cell_type": "code",
      "source": [
        "matrix = [\n",
        "[1,2,3],\n",
        "[4,5,6],\n",
        "[7,8,9]\n",
        "]\n",
        "[max(i) for i in matrix]"
      ],
      "metadata": {
        "id": "7QopAaAI3noh",
        "outputId": "d2395caf-8b77-4a66-b702-5c1de0ce70f6",
        "colab": {
          "base_uri": "https://localhost:8080/"
        }
      },
      "execution_count": 15,
      "outputs": [
        {
          "output_type": "execute_result",
          "data": {
            "text/plain": [
              "[3, 6, 9]"
            ]
          },
          "metadata": {},
          "execution_count": 15
        }
      ]
    },
    {
      "cell_type": "markdown",
      "source": [
        "### `Problem 13:` Write a list comprehension to print the following matrix\n",
        "\n",
        "[[0, 1, 2], [3, 4, 5], [6, 7, 8]]"
      ],
      "metadata": {
        "id": "DBZlUmnt3pGT"
      }
    },
    {
      "cell_type": "code",
      "source": [
        "demo_mat = [[0, 1, 2], [3, 4, 5], [6, 7, 8]]\n",
        "[i for i in demo_mat]"
      ],
      "metadata": {
        "id": "Ip4e8M-S356h",
        "outputId": "4cb55760-67e5-4ca7-90b3-933a0463389b",
        "colab": {
          "base_uri": "https://localhost:8080/"
        }
      },
      "execution_count": 16,
      "outputs": [
        {
          "output_type": "execute_result",
          "data": {
            "text/plain": [
              "[[0, 1, 2], [3, 4, 5], [6, 7, 8]]"
            ]
          },
          "metadata": {},
          "execution_count": 16
        }
      ]
    },
    {
      "cell_type": "markdown",
      "source": [
        "### `Problem 14:` Write a list comprehension that can transpose a given matrix\n",
        "\n",
        "matrix = [<br>\n",
        "  [1,2,3],<br>\n",
        "          [4,5,6],<br>\n",
        "          [7,8,9]<br>]<br>\n",
        "\n",
        "[1, 4, 7]<br>\n",
        "[2, 5, 8]<br>\n",
        "[3, 6, 9]<br>"
      ],
      "metadata": {
        "id": "j3vTuFC737kG"
      }
    },
    {
      "cell_type": "code",
      "source": [
        "matrix = [\n",
        "[1,2,3],\n",
        "[4,5,6],\n",
        "[7,8,9]\n",
        "]\n",
        "\n",
        "# [[row[i] for row in matrix] for i in range(len(matrix[0]))]\n",
        "# [row for row in matrix]\n",
        "# [i for i in range(len(matrix[0]))]\n",
        "\n",
        "[[row[col] for row in matrix] for col in range(len(matrix))]"
      ],
      "metadata": {
        "id": "CcBNu0gk4XsR",
        "outputId": "8b21d65c-591b-49fa-bf6b-0c1ffe3fbe89",
        "colab": {
          "base_uri": "https://localhost:8080/"
        }
      },
      "execution_count": 17,
      "outputs": [
        {
          "output_type": "execute_result",
          "data": {
            "text/plain": [
              "[[1, 4, 7], [2, 5, 8], [3, 6, 9]]"
            ]
          },
          "metadata": {},
          "execution_count": 17
        }
      ]
    },
    {
      "cell_type": "markdown",
      "source": [
        "### `Problem 15:` Write a list comprehension that can flatten a nested list\n",
        "\n",
        "Input<br>\n",
        "matrix = [<br>\n",
        "  [1,2,3],<br>\n",
        "          [4,5,6],<br>\n",
        "          [7,8,9]<br>]<br>\n",
        "\n",
        "Output:<br>\n",
        "[1, 2, 3, 4, 5, 6, 7, 8, 9]"
      ],
      "metadata": {
        "id": "wRkSWFb74eOt"
      }
    },
    {
      "cell_type": "code",
      "source": [
        "matrix = [\n",
        "[1,2,3],\n",
        "[4,5,6],\n",
        "[7,8,9]\n",
        "]\n",
        "print(matrix)\n",
        "[item for one in matrix for item in one]"
      ],
      "metadata": {
        "id": "jZGQ5el25HFr",
        "outputId": "459e63d2-dbc5-4ab9-a695-58e6c1c564a9",
        "colab": {
          "base_uri": "https://localhost:8080/"
        }
      },
      "execution_count": 18,
      "outputs": [
        {
          "output_type": "stream",
          "name": "stdout",
          "text": [
            "[[1, 2, 3], [4, 5, 6], [7, 8, 9]]\n"
          ]
        },
        {
          "output_type": "execute_result",
          "data": {
            "text/plain": [
              "[1, 2, 3, 4, 5, 6, 7, 8, 9]"
            ]
          },
          "metadata": {},
          "execution_count": 18
        }
      ]
    }
  ]
}