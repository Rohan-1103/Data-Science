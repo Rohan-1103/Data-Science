{
  "nbformat": 4,
  "nbformat_minor": 0,
  "metadata": {
    "colab": {
      "provenance": [],
      "include_colab_link": true
    },
    "kernelspec": {
      "name": "python3",
      "display_name": "Python 3"
    },
    "language_info": {
      "name": "python"
    }
  },
  "cells": [
    {
      "cell_type": "markdown",
      "metadata": {
        "id": "view-in-github",
        "colab_type": "text"
      },
      "source": [
        "<a href=\"https://colab.research.google.com/github/Rohan-1103/Data-Science/blob/main/session2_operators_if_else_loops.ipynb\" target=\"_parent\"><img src=\"https://colab.research.google.com/assets/colab-badge.svg\" alt=\"Open In Colab\"/></a>"
      ]
    },
    {
      "cell_type": "markdown",
      "source": [
        "# Operators in Python\n",
        "\n",
        "- Arithmetic Operators\n",
        "- Relational Operators\n",
        "- Logical Operators\n",
        "- Bitwise Operators\n",
        "- Assignment Operators\n",
        "- Membership Operators"
      ],
      "metadata": {
        "id": "y1HMD4oI7FL7"
      }
    },
    {
      "cell_type": "code",
      "source": [
        "# Arithmetric Operators\n",
        "print(5+6)\n",
        "\n",
        "print(5-6)\n",
        "\n",
        "print(5*6)\n",
        "\n",
        "print(5/2)\n",
        "\n",
        "print(5//2)\n",
        "\n",
        "print(5%2)\n",
        "# Power off operator\n",
        "print(5**2)"
      ],
      "metadata": {
        "id": "a7cegk-f7U4-",
        "colab": {
          "base_uri": "https://localhost:8080/"
        },
        "outputId": "59fa10cf-bff7-4bda-d886-f690583ae5a0"
      },
      "execution_count": 1,
      "outputs": [
        {
          "output_type": "stream",
          "name": "stdout",
          "text": [
            "11\n",
            "-1\n",
            "30\n",
            "2.5\n",
            "2\n",
            "1\n",
            "25\n"
          ]
        }
      ]
    },
    {
      "cell_type": "code",
      "source": [
        "# Relational Operators: Returns boolean\n",
        "print(4>5)\n",
        "\n",
        "print(4<5)\n",
        "\n",
        "print(4>=4)\n",
        "\n",
        "print(4<=4)\n",
        "\n",
        "print(4==4)\n",
        "\n",
        "print(4!=4)"
      ],
      "metadata": {
        "id": "TMIQKhFd7Y5A",
        "colab": {
          "base_uri": "https://localhost:8080/"
        },
        "outputId": "e68838f8-8faf-4433-b6e2-534d1faa52b3"
      },
      "execution_count": 2,
      "outputs": [
        {
          "output_type": "stream",
          "name": "stdout",
          "text": [
            "False\n",
            "True\n",
            "True\n",
            "True\n",
            "True\n",
            "False\n"
          ]
        }
      ]
    },
    {
      "cell_type": "code",
      "source": [
        "# Logical Operators\n",
        "print(1 and 0)\n",
        "\n",
        "print(1 or 0)\n",
        "\n",
        "print(not 1)"
      ],
      "metadata": {
        "id": "vyxdjDbc7avq",
        "colab": {
          "base_uri": "https://localhost:8080/"
        },
        "outputId": "8b5f542f-3f0a-496f-aee4-0c2ae84b8230"
      },
      "execution_count": 3,
      "outputs": [
        {
          "output_type": "stream",
          "name": "stdout",
          "text": [
            "0\n",
            "1\n",
            "False\n"
          ]
        }
      ]
    },
    {
      "cell_type": "code",
      "source": [
        "# Bitwise Operators\n",
        "\n",
        "# bitwise and\n",
        "print(2 & 3)\n",
        "\n",
        "# bitwise or\n",
        "print(2 | 3)\n",
        "\n",
        "# bitwise xor\n",
        "print(2 ^ 3)\n",
        "\n",
        "# bitwise not\n",
        "print(~3)\n",
        "\n",
        "# bitwise right shift\n",
        "print(4 >> 2)\n",
        "\n",
        "# bitwise left shift\n",
        "print(5 << 2)"
      ],
      "metadata": {
        "id": "H4KzpSke7d9l",
        "colab": {
          "base_uri": "https://localhost:8080/"
        },
        "outputId": "c255f4ba-a939-4af1-837f-cb0ae2f70ea4"
      },
      "execution_count": 4,
      "outputs": [
        {
          "output_type": "stream",
          "name": "stdout",
          "text": [
            "2\n",
            "3\n",
            "1\n",
            "-4\n",
            "1\n",
            "20\n"
          ]
        }
      ]
    },
    {
      "cell_type": "code",
      "source": [
        "# Assignment Operators\n",
        "\n",
        "# =\n",
        "# a = 2\n",
        "\n",
        "a = 2\n",
        "\n",
        "# a = a % 2\n",
        "a %= 2\n",
        "\n",
        "# a++ ++a\n",
        "\n",
        "print(a)"
      ],
      "metadata": {
        "id": "8EEm8eHO7gD_",
        "colab": {
          "base_uri": "https://localhost:8080/"
        },
        "outputId": "f4ef6199-ee08-4b76-f5f3-13792deb7ed7"
      },
      "execution_count": 5,
      "outputs": [
        {
          "output_type": "stream",
          "name": "stdout",
          "text": [
            "0\n"
          ]
        }
      ]
    },
    {
      "cell_type": "code",
      "source": [
        "# Membership Operators (Important)\n",
        "\n",
        "# in/not in\n",
        "\n",
        "print('D' not in 'Delhi')\n",
        "\n",
        "print(1 in [2,3,4,5,6])"
      ],
      "metadata": {
        "id": "LzrIz7I87h-W",
        "colab": {
          "base_uri": "https://localhost:8080/"
        },
        "outputId": "5b4e98dc-b478-4ec3-9841-1de7ce2ba057"
      },
      "execution_count": 6,
      "outputs": [
        {
          "output_type": "stream",
          "name": "stdout",
          "text": [
            "False\n",
            "False\n"
          ]
        }
      ]
    },
    {
      "cell_type": "code",
      "source": [
        "# Identity Operator\n",
        "a = [1, 2, 3]\n",
        "b = a             # b refers to the same object as a\n",
        "c = [1, 2, 3]     # c is a different object with the same content\n",
        "\n",
        "print(a is b)      # True  → because a and b point to the same object\n",
        "print(a is c)      # False → because a and c are different objects\n",
        "print(a == c)      # True  → because a and c have the same content\n",
        "print(a is not c)  # True  → because a and c are not the same object"
      ],
      "metadata": {
        "colab": {
          "base_uri": "https://localhost:8080/"
        },
        "id": "Sq3dhE0FTvgm",
        "outputId": "73daa7ba-f2fb-4069-8334-f7538379cbe2"
      },
      "execution_count": 7,
      "outputs": [
        {
          "output_type": "stream",
          "name": "stdout",
          "text": [
            "True\n",
            "False\n",
            "True\n",
            "True\n"
          ]
        }
      ]
    },
    {
      "cell_type": "code",
      "source": [
        "# Program - Find the sum of a 3 digit number entered by the user\n",
        "\n",
        "number = int(input('Enter a 3 digit number'))\n",
        "\n",
        "# 345%10 -> 5\n",
        "a = number%10\n",
        "\n",
        "number = number//10\n",
        "\n",
        "# 34%10 -> 4\n",
        "b = number % 10\n",
        "\n",
        "number = number//10\n",
        "# 3 % 10 -> 3\n",
        "c = number % 10\n",
        "\n",
        "print(a + b + c)"
      ],
      "metadata": {
        "id": "C-LoVrYGDEuB",
        "colab": {
          "base_uri": "https://localhost:8080/"
        },
        "outputId": "87f394e9-3f40-4fb7-99a2-2022dc054908"
      },
      "execution_count": 8,
      "outputs": [
        {
          "output_type": "stream",
          "name": "stdout",
          "text": [
            "Enter a 3 digit number457\n",
            "16\n"
          ]
        }
      ]
    },
    {
      "cell_type": "markdown",
      "source": [
        "# If-else in Python"
      ],
      "metadata": {
        "id": "Iq7CzVFs7mWT"
      }
    },
    {
      "cell_type": "code",
      "source": [
        "# login program and indentation\n",
        "# email -> rohangoswami1134@gmail.com\n",
        "# password -> 1234\n",
        "\n",
        "email = input('enter email: ')\n",
        "password = input('enter password: ')\n",
        "\n",
        "if email == 'rohangoswami1134@gmail.com' and password == '1234':\n",
        "  print('Welcome')\n",
        "elif email == 'rohangoswami1134@gmail.com' and password != '1234':\n",
        "  # tell the user\n",
        "  print('Incorrect password')\n",
        "  password = input('enter password again: ')\n",
        "  if password == '1234':\n",
        "    print('Welcome,finally!')\n",
        "  else:\n",
        "    print('Beta tumse na ho paayega!')\n",
        "else:\n",
        "  print('Not correct')"
      ],
      "metadata": {
        "id": "dGz-83pN7oxe",
        "colab": {
          "base_uri": "https://localhost:8080/"
        },
        "outputId": "8305623d-bda7-4c37-cb56-cdfd294c627f"
      },
      "execution_count": 9,
      "outputs": [
        {
          "output_type": "stream",
          "name": "stdout",
          "text": [
            "enter email: rohangoswami1134@gmail.com\n",
            "enter password: 1234\n",
            "Welcome\n"
          ]
        }
      ]
    },
    {
      "cell_type": "code",
      "source": [
        "# if-else examples\n",
        "# 1. Find the min of 3 given numbers\n",
        "# 2. Menu Driven Program"
      ],
      "metadata": {
        "id": "qo_1tY2ABlAX"
      },
      "execution_count": 10,
      "outputs": []
    },
    {
      "cell_type": "code",
      "source": [
        "# min of 3 number\n",
        "\n",
        "a = int(input('first num: '))\n",
        "b = int(input('second num: '))\n",
        "c = int(input('third num: '))\n",
        "\n",
        "if a<b and a<c:\n",
        "  print('smallest is ',a)\n",
        "elif b<c:\n",
        "  print('smallest is ',b)\n",
        "else:\n",
        "  print('smallest is ',c)"
      ],
      "metadata": {
        "colab": {
          "base_uri": "https://localhost:8080/"
        },
        "id": "gQpTJbMH3W6_",
        "outputId": "e88994cd-4960-4260-f00e-e64d4e8bcee4"
      },
      "execution_count": 11,
      "outputs": [
        {
          "output_type": "stream",
          "name": "stdout",
          "text": [
            "first num: 11\n",
            "second num: 44\n",
            "third num: 78\n",
            "smallest is  11\n"
          ]
        }
      ]
    },
    {
      "cell_type": "code",
      "source": [
        "# menu driven calculator\n",
        "menu = input(\"\"\"\n",
        "Hi! how can I help you.\n",
        "1. Enter 1 for pin change\n",
        "2. Enter 2 for balance check\n",
        "3. Enter 3 for withdrawl\n",
        "4. Enter 4 for exit\n",
        "\"\"\")\n",
        "\n",
        "if menu == '1':\n",
        "  updated_pin = input(\"Enter new pin: \")\n",
        "  print(\"Updated pin is: \", updated_pin)\n",
        "elif menu == '2':\n",
        "  print('Available balance in account is: XYZ')\n",
        "elif menu == '3':\n",
        "  withd_amt = input(\"Enter the amount you want to withdraw: \")\n",
        "  print(withd_amt, \" rupees withdrawn.\")\n",
        "elif menu == '4':\n",
        "  exit()\n",
        "else:\n",
        "  print('exit')"
      ],
      "metadata": {
        "colab": {
          "base_uri": "https://localhost:8080/"
        },
        "id": "hgNqlC5C4jqF",
        "outputId": "0c6e74b4-f4bf-4bbe-b119-5596480c400c"
      },
      "execution_count": 12,
      "outputs": [
        {
          "name": "stdout",
          "output_type": "stream",
          "text": [
            "\n",
            "Hi! how can I help you.\n",
            "1. Enter 1 for pin change\n",
            "2. Enter 2 for balance check\n",
            "3. Enter 3 for withdrawl\n",
            "4. Enter 4 for exit\n",
            "4\n"
          ]
        }
      ]
    },
    {
      "cell_type": "markdown",
      "source": [
        "# Modules in Python\n",
        "\n",
        "- math\n",
        "- keywords\n",
        "- random\n",
        "- datetime"
      ],
      "metadata": {
        "id": "532_6mva8A6C"
      }
    },
    {
      "cell_type": "code",
      "source": [
        "# math\n",
        "import math\n",
        "\n",
        "print(math.sqrt(196))\n",
        "print(math.factorial(5))\n",
        "# math."
      ],
      "metadata": {
        "id": "x5VXt7wv8G4o",
        "colab": {
          "base_uri": "https://localhost:8080/"
        },
        "outputId": "b8752110-f154-4f15-d344-e349a353537b"
      },
      "execution_count": 1,
      "outputs": [
        {
          "output_type": "stream",
          "name": "stdout",
          "text": [
            "14.0\n",
            "120\n"
          ]
        }
      ]
    },
    {
      "cell_type": "code",
      "source": [
        "# keyword\n",
        "import keyword\n",
        "print(keyword.kwlist)\n",
        "# keyword."
      ],
      "metadata": {
        "id": "FLgAX9pz8HBT",
        "colab": {
          "base_uri": "https://localhost:8080/"
        },
        "outputId": "654766a8-3d4a-4366-fb2f-7991eca655a9"
      },
      "execution_count": 2,
      "outputs": [
        {
          "output_type": "stream",
          "name": "stdout",
          "text": [
            "['False', 'None', 'True', 'and', 'as', 'assert', 'async', 'await', 'break', 'class', 'continue', 'def', 'del', 'elif', 'else', 'except', 'finally', 'for', 'from', 'global', 'if', 'import', 'in', 'is', 'lambda', 'nonlocal', 'not', 'or', 'pass', 'raise', 'return', 'try', 'while', 'with', 'yield']\n"
          ]
        }
      ]
    },
    {
      "cell_type": "code",
      "source": [
        "# random\n",
        "import random\n",
        "print(random.randint(1,100))\n",
        "print(random.random())\n",
        "print(random.randrange(1, 100))"
      ],
      "metadata": {
        "id": "R0dWpe-w8HSZ",
        "colab": {
          "base_uri": "https://localhost:8080/"
        },
        "outputId": "b199e832-fb4b-40ae-c394-68483418d12d"
      },
      "execution_count": 3,
      "outputs": [
        {
          "output_type": "stream",
          "name": "stdout",
          "text": [
            "41\n",
            "0.7209245512748704\n",
            "58\n"
          ]
        }
      ]
    },
    {
      "cell_type": "code",
      "source": [
        "# datetime\n",
        "import datetime\n",
        "print(datetime.datetime.now())"
      ],
      "metadata": {
        "colab": {
          "base_uri": "https://localhost:8080/"
        },
        "id": "XNHWXsM0iFn3",
        "outputId": "007c5e84-fc4d-44e6-997d-9728821c7796"
      },
      "execution_count": 4,
      "outputs": [
        {
          "output_type": "stream",
          "name": "stdout",
          "text": [
            "2025-08-07 05:37:28.425948\n"
          ]
        }
      ]
    },
    {
      "cell_type": "code",
      "source": [
        "# help('modules')     # Somehow error"
      ],
      "metadata": {
        "id": "Ou-b-bvs9Cgc"
      },
      "execution_count": 5,
      "outputs": []
    },
    {
      "cell_type": "markdown",
      "source": [
        "# Loops in Python\n",
        "\n",
        "- Need for loops\n",
        "- While Loop\n",
        "- For Loop"
      ],
      "metadata": {
        "id": "2Ow6_gWG7ukc"
      }
    },
    {
      "cell_type": "code",
      "source": [
        "# While loop example -> program to print the table\n",
        "# Program -> Sum of all digits of a given number\n",
        "# Program -> keep accepting numbers from users till he/she enters a 0 and then find the avg"
      ],
      "metadata": {
        "id": "Ig7NIb7L7txg"
      },
      "execution_count": 6,
      "outputs": []
    },
    {
      "cell_type": "code",
      "source": [
        "number = int(input('enter the number: '))\n",
        "\n",
        "i = 1\n",
        "\n",
        "while i<11:\n",
        "  print(number,'*',i,'=',number * i)\n",
        "  i += 1"
      ],
      "metadata": {
        "colab": {
          "base_uri": "https://localhost:8080/"
        },
        "id": "brWSxgiu9rrQ",
        "outputId": "1a0ee3a8-cead-4e19-9b0c-360bfcdf87d7"
      },
      "execution_count": 7,
      "outputs": [
        {
          "output_type": "stream",
          "name": "stdout",
          "text": [
            "enter the number: 4\n",
            "4 * 1 = 4\n",
            "4 * 2 = 8\n",
            "4 * 3 = 12\n",
            "4 * 4 = 16\n",
            "4 * 5 = 20\n",
            "4 * 6 = 24\n",
            "4 * 7 = 28\n",
            "4 * 8 = 32\n",
            "4 * 9 = 36\n",
            "4 * 10 = 40\n"
          ]
        }
      ]
    },
    {
      "cell_type": "code",
      "source": [
        "# while loop with else\n",
        "\n",
        "x = 1\n",
        "\n",
        "while x < 3:\n",
        "  print(x)\n",
        "  x += 1\n",
        "\n",
        "else:\n",
        "  print('limit crossed')"
      ],
      "metadata": {
        "id": "Ltsr9n3H73fp",
        "colab": {
          "base_uri": "https://localhost:8080/"
        },
        "outputId": "4ba35bfc-c020-4539-ac8c-07e15ea83d65"
      },
      "execution_count": 8,
      "outputs": [
        {
          "output_type": "stream",
          "name": "stdout",
          "text": [
            "1\n",
            "2\n",
            "limit crossed\n"
          ]
        }
      ]
    },
    {
      "cell_type": "code",
      "source": [
        "# Guessing game\n",
        "\n",
        "# generate a random integer between 1 and 100\n",
        "import random\n",
        "jackpot = random.randint(1,100)\n",
        "\n",
        "guess = int(input('guess karo: '))\n",
        "counter = 1\n",
        "while guess != jackpot:\n",
        "  if guess < jackpot:\n",
        "    print('galat!guess higher')\n",
        "  else:\n",
        "    print('galat!guess lower')\n",
        "\n",
        "  guess = int(input('guess karo: '))\n",
        "  counter += 1\n",
        "\n",
        "else:\n",
        "  print('correct guess')\n",
        "  print('attempts',counter)"
      ],
      "metadata": {
        "id": "29y5r2cr8MRP",
        "colab": {
          "base_uri": "https://localhost:8080/"
        },
        "outputId": "10d66a33-99e4-451d-f79f-c3a8af732ae8"
      },
      "execution_count": 9,
      "outputs": [
        {
          "output_type": "stream",
          "name": "stdout",
          "text": [
            "guess karo: 44\n",
            "galat!guess lower\n",
            "guess karo: 37\n",
            "galat!guess lower\n",
            "guess karo: 34\n",
            "galat!guess lower\n",
            "guess karo: 21\n",
            "galat!guess lower\n",
            "guess karo: 11\n",
            "galat!guess lower\n",
            "guess karo: 9\n",
            "correct guess\n",
            "attempts 6\n"
          ]
        }
      ]
    },
    {
      "cell_type": "code",
      "source": [
        "# For loop demo\n",
        "for i in {1,2,3,4,5}:\n",
        "  print(i)"
      ],
      "metadata": {
        "id": "bjjx0fMr8SWh",
        "colab": {
          "base_uri": "https://localhost:8080/"
        },
        "outputId": "305866f7-2f63-4ec8-9c7e-f05162330655"
      },
      "execution_count": 10,
      "outputs": [
        {
          "output_type": "stream",
          "name": "stdout",
          "text": [
            "1\n",
            "2\n",
            "3\n",
            "4\n",
            "5\n"
          ]
        }
      ]
    },
    {
      "cell_type": "markdown",
      "source": [
        "### Program - The current population of a town is 10000. The population of the town is increasing at the rate of 10% per year. You have to write a program to find out the population at the end of each of the last 10 years."
      ],
      "metadata": {
        "id": "EXnzCtohWx2V"
      }
    },
    {
      "cell_type": "code",
      "source": [
        "curr_pop = 10000\n",
        "\n",
        "for i in range(10,0,-1):\n",
        "  print(i,curr_pop)\n",
        "  curr_pop = curr_pop - 0.1*curr_pop"
      ],
      "metadata": {
        "id": "Nc_6lslRW03g",
        "colab": {
          "base_uri": "https://localhost:8080/"
        },
        "outputId": "46904672-416b-4cdd-c279-7cbca47d6c89"
      },
      "execution_count": 11,
      "outputs": [
        {
          "output_type": "stream",
          "name": "stdout",
          "text": [
            "10 10000\n",
            "9 9000.0\n",
            "8 8100.0\n",
            "7 7290.0\n",
            "6 6561.0\n",
            "5 5904.9\n",
            "4 5314.41\n",
            "3 4782.969\n",
            "2 4304.6721\n",
            "1 3874.20489\n"
          ]
        }
      ]
    },
    {
      "cell_type": "markdown",
      "source": [
        "### Sequence sum\n",
        "\n",
        "1/1! + 2/2! + 3/3! + ..."
      ],
      "metadata": {
        "id": "4xVI9HkgcEla"
      }
    },
    {
      "cell_type": "code",
      "source": [
        "# code here"
      ],
      "metadata": {
        "id": "wGC1eCDecPcB"
      },
      "execution_count": 12,
      "outputs": []
    },
    {
      "cell_type": "code",
      "source": [
        "# For loop vs While loops (When to use what?)"
      ],
      "metadata": {
        "id": "PNLWd1WR8dSw"
      },
      "execution_count": 13,
      "outputs": []
    },
    {
      "cell_type": "markdown",
      "source": [
        "# Nested Loops"
      ],
      "metadata": {
        "id": "1bdP8FTX87Du"
      }
    },
    {
      "cell_type": "code",
      "source": [
        "# Examples"
      ],
      "metadata": {
        "id": "-YY5edV98lXq"
      },
      "execution_count": 14,
      "outputs": []
    },
    {
      "cell_type": "code",
      "source": [
        "# Program - Unique combination of 1,2,3,4\n",
        "# Program - Pattern 1 and 2"
      ],
      "metadata": {
        "id": "Ym8nRkqxGXLN"
      },
      "execution_count": 15,
      "outputs": []
    },
    {
      "cell_type": "markdown",
      "source": [
        "### Pattern 1\n",
        "\n",
        "\n",
        "*** <br>\n",
        "**** <br>\n",
        "***<br>\n"
      ],
      "metadata": {
        "id": "_Hz8L0f3c_3P"
      }
    },
    {
      "cell_type": "code",
      "source": [],
      "metadata": {
        "id": "YsL_YmxRdNrn"
      },
      "execution_count": 15,
      "outputs": []
    },
    {
      "cell_type": "markdown",
      "source": [
        "### Pattern 2\n",
        "\n",
        "1<br>\n",
        "121<br>\n",
        "12321<br>\n",
        "1234321<br>"
      ],
      "metadata": {
        "id": "eVAO3tVmdOWV"
      }
    },
    {
      "cell_type": "code",
      "source": [],
      "metadata": {
        "id": "sHW4YJqcdXzw"
      },
      "execution_count": 15,
      "outputs": []
    },
    {
      "cell_type": "markdown",
      "source": [
        "# Loop Control Statement\n",
        "\n",
        "- Break\n",
        "- Continue\n",
        "- Pass"
      ],
      "metadata": {
        "id": "8GccSRIt891U"
      }
    },
    {
      "cell_type": "code",
      "source": [
        "# Break demo"
      ],
      "metadata": {
        "id": "kN9s2dG89DlJ"
      },
      "execution_count": 16,
      "outputs": []
    },
    {
      "cell_type": "code",
      "source": [
        "# Break example (Linear Search) -> Prime number in a given range"
      ],
      "metadata": {
        "id": "u09EdMCm9FK_"
      },
      "execution_count": 17,
      "outputs": []
    },
    {
      "cell_type": "code",
      "source": [
        "\n",
        "# Continue demo"
      ],
      "metadata": {
        "id": "3q5asa2l9GYy"
      },
      "execution_count": 18,
      "outputs": []
    },
    {
      "cell_type": "code",
      "source": [
        "# Continue Example (Ecommerce)"
      ],
      "metadata": {
        "id": "cA8CiMgn9IIT"
      },
      "execution_count": 19,
      "outputs": []
    },
    {
      "cell_type": "code",
      "source": [
        "# Pass demo"
      ],
      "metadata": {
        "id": "P7GB16j59J-3"
      },
      "execution_count": 20,
      "outputs": []
    },
    {
      "cell_type": "code",
      "source": [],
      "metadata": {
        "id": "HAmpOoo2CZBy"
      },
      "execution_count": 20,
      "outputs": []
    }
  ]
}