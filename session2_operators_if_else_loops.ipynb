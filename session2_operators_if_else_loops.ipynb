{
  "nbformat": 4,
  "nbformat_minor": 0,
  "metadata": {
    "colab": {
      "provenance": [],
      "include_colab_link": true
    },
    "kernelspec": {
      "name": "python3",
      "display_name": "Python 3"
    },
    "language_info": {
      "name": "python"
    }
  },
  "cells": [
    {
      "cell_type": "markdown",
      "metadata": {
        "id": "view-in-github",
        "colab_type": "text"
      },
      "source": [
        "<a href=\"https://colab.research.google.com/github/Rohan-1103/Data-Science/blob/main/session2_operators_if_else_loops.ipynb\" target=\"_parent\"><img src=\"https://colab.research.google.com/assets/colab-badge.svg\" alt=\"Open In Colab\"/></a>"
      ]
    },
    {
      "cell_type": "markdown",
      "source": [
        "# Operators in Python\n",
        "\n",
        "- Arithmetic Operators\n",
        "- Relational Operators\n",
        "- Logical Operators\n",
        "- Bitwise Operators\n",
        "- Assignment Operators\n",
        "- Membership Operators"
      ],
      "metadata": {
        "id": "y1HMD4oI7FL7"
      }
    },
    {
      "cell_type": "code",
      "source": [
        "# Arithmetric Operators\n",
        "print(5+6)\n",
        "\n",
        "print(5-6)\n",
        "\n",
        "print(5*6)\n",
        "\n",
        "print(5/2)\n",
        "\n",
        "print(5//2)\n",
        "\n",
        "print(5%2)\n",
        "# Power off operator\n",
        "print(5**2)"
      ],
      "metadata": {
        "id": "a7cegk-f7U4-",
        "colab": {
          "base_uri": "https://localhost:8080/"
        },
        "outputId": "ad866d6b-d62a-403d-a5c7-59cd09a335f3"
      },
      "execution_count": 29,
      "outputs": [
        {
          "output_type": "stream",
          "name": "stdout",
          "text": [
            "11\n",
            "-1\n",
            "30\n",
            "2.5\n",
            "2\n",
            "1\n",
            "25\n"
          ]
        }
      ]
    },
    {
      "cell_type": "code",
      "source": [
        "# Relational Operators: Returns boolean\n",
        "print(4>5)\n",
        "\n",
        "print(4<5)\n",
        "\n",
        "print(4>=4)\n",
        "\n",
        "print(4<=4)\n",
        "\n",
        "print(4==4)\n",
        "\n",
        "print(4!=4)"
      ],
      "metadata": {
        "id": "TMIQKhFd7Y5A",
        "colab": {
          "base_uri": "https://localhost:8080/"
        },
        "outputId": "f5536640-9333-4a9b-ecb3-013b627c49fe"
      },
      "execution_count": 30,
      "outputs": [
        {
          "output_type": "stream",
          "name": "stdout",
          "text": [
            "False\n",
            "True\n",
            "True\n",
            "True\n",
            "True\n",
            "False\n"
          ]
        }
      ]
    },
    {
      "cell_type": "code",
      "source": [
        "# Logical Operators\n",
        "print(1 and 0)\n",
        "\n",
        "print(1 or 0)\n",
        "\n",
        "print(not 1)"
      ],
      "metadata": {
        "id": "vyxdjDbc7avq",
        "colab": {
          "base_uri": "https://localhost:8080/"
        },
        "outputId": "f0e19d31-01a1-4599-ccd0-a7051448ffb4"
      },
      "execution_count": 31,
      "outputs": [
        {
          "output_type": "stream",
          "name": "stdout",
          "text": [
            "0\n",
            "1\n",
            "False\n"
          ]
        }
      ]
    },
    {
      "cell_type": "code",
      "source": [
        "# Bitwise Operators\n",
        "\n",
        "# bitwise and\n",
        "print(2 & 3)\n",
        "\n",
        "# bitwise or\n",
        "print(2 | 3)\n",
        "\n",
        "# bitwise xor\n",
        "print(2 ^ 3)\n",
        "\n",
        "# bitwise not\n",
        "print(~3)\n",
        "\n",
        "# bitwise right shift\n",
        "print(4 >> 2)\n",
        "\n",
        "# bitwise left shift\n",
        "print(5 << 2)"
      ],
      "metadata": {
        "id": "H4KzpSke7d9l",
        "colab": {
          "base_uri": "https://localhost:8080/"
        },
        "outputId": "4a65e70d-9d07-4106-c4e3-a13d3b02b64e"
      },
      "execution_count": 32,
      "outputs": [
        {
          "output_type": "stream",
          "name": "stdout",
          "text": [
            "2\n",
            "3\n",
            "1\n",
            "-4\n",
            "1\n",
            "20\n"
          ]
        }
      ]
    },
    {
      "cell_type": "code",
      "source": [
        "# Assignment Operators\n",
        "\n",
        "# =\n",
        "# a = 2\n",
        "\n",
        "a = 2\n",
        "\n",
        "# a = a % 2\n",
        "a %= 2\n",
        "\n",
        "# a++ ++a\n",
        "\n",
        "print(a)"
      ],
      "metadata": {
        "id": "8EEm8eHO7gD_",
        "colab": {
          "base_uri": "https://localhost:8080/"
        },
        "outputId": "c3d172f7-f42b-44a4-b5c7-5588d26e13e7"
      },
      "execution_count": 33,
      "outputs": [
        {
          "output_type": "stream",
          "name": "stdout",
          "text": [
            "0\n"
          ]
        }
      ]
    },
    {
      "cell_type": "code",
      "source": [
        "# Membership Operators (Important)\n",
        "\n",
        "# in/not in\n",
        "\n",
        "print('D' not in 'Delhi')\n",
        "\n",
        "print(1 in [2,3,4,5,6])"
      ],
      "metadata": {
        "id": "LzrIz7I87h-W",
        "colab": {
          "base_uri": "https://localhost:8080/"
        },
        "outputId": "b5f62d76-fa36-4d60-b0a6-0d69376bbf0a"
      },
      "execution_count": 34,
      "outputs": [
        {
          "output_type": "stream",
          "name": "stdout",
          "text": [
            "False\n",
            "False\n"
          ]
        }
      ]
    },
    {
      "cell_type": "code",
      "source": [
        "# Identity Operator\n",
        "a = [1, 2, 3]\n",
        "b = a             # b refers to the same object as a\n",
        "c = [1, 2, 3]     # c is a different object with the same content\n",
        "\n",
        "print(a is b)      # True  → because a and b point to the same object\n",
        "print(a is c)      # False → because a and c are different objects\n",
        "print(a == c)      # True  → because a and c have the same content\n",
        "print(a is not c)  # True  → because a and c are not the same object"
      ],
      "metadata": {
        "id": "Sq3dhE0FTvgm",
        "outputId": "816e0468-81ee-4ecc-dab0-720fb7e0b5eb",
        "colab": {
          "base_uri": "https://localhost:8080/"
        }
      },
      "execution_count": 35,
      "outputs": [
        {
          "output_type": "stream",
          "name": "stdout",
          "text": [
            "True\n",
            "False\n",
            "True\n",
            "True\n"
          ]
        }
      ]
    },
    {
      "cell_type": "code",
      "source": [
        "# Program - Find the sum of a 3 digit number entered by the user\n",
        "\n",
        "number = int(input('Enter a 3 digit number'))\n",
        "\n",
        "# 345%10 -> 5\n",
        "a = number%10\n",
        "\n",
        "number = number//10\n",
        "\n",
        "# 34%10 -> 4\n",
        "b = number % 10\n",
        "\n",
        "number = number//10\n",
        "# 3 % 10 -> 3\n",
        "c = number % 10\n",
        "\n",
        "print(a + b + c)"
      ],
      "metadata": {
        "id": "C-LoVrYGDEuB",
        "colab": {
          "base_uri": "https://localhost:8080/"
        },
        "outputId": "310fbd65-392b-404b-be07-7aca9cb5bf16"
      },
      "execution_count": 36,
      "outputs": [
        {
          "output_type": "stream",
          "name": "stdout",
          "text": [
            "Enter a 3 digit number321\n",
            "6\n"
          ]
        }
      ]
    },
    {
      "cell_type": "markdown",
      "source": [
        "# If-else in Python"
      ],
      "metadata": {
        "id": "Iq7CzVFs7mWT"
      }
    },
    {
      "cell_type": "code",
      "source": [
        "# login program and indentation\n",
        "# email -> rohangoswami1134@gmail.com\n",
        "# password -> 1234\n",
        "\n",
        "email = input('enter email: ')\n",
        "password = input('enter password: ')\n",
        "\n",
        "if email == 'rohangoswami1134@gmail.com' and password == '1234':\n",
        "  print('Welcome')\n",
        "elif email == 'rohangoswami1134@gmail.com' and password != '1234':\n",
        "  # tell the user\n",
        "  print('Incorrect password')\n",
        "  password = input('enter password again: ')\n",
        "  if password == '1234':\n",
        "    print('Welcome,finally!')\n",
        "  else:\n",
        "    print('Beta tumse na ho paayega!')\n",
        "else:\n",
        "  print('Not correct')"
      ],
      "metadata": {
        "id": "dGz-83pN7oxe",
        "colab": {
          "base_uri": "https://localhost:8080/"
        },
        "outputId": "67b59309-f598-4bf6-97e7-0d4edf8f68f9"
      },
      "execution_count": 37,
      "outputs": [
        {
          "output_type": "stream",
          "name": "stdout",
          "text": [
            "enter email: adfja;ds\n",
            "enter password: adsfa\n",
            "Not correct\n"
          ]
        }
      ]
    },
    {
      "cell_type": "code",
      "source": [
        "# if-else examples\n",
        "# 1. Find the min of 3 given numbers\n",
        "# 2. Menu Driven Program"
      ],
      "metadata": {
        "id": "qo_1tY2ABlAX"
      },
      "execution_count": 38,
      "outputs": []
    },
    {
      "cell_type": "code",
      "source": [
        "# min of 3 number\n",
        "\n",
        "a = int(input('first num: '))\n",
        "b = int(input('second num: '))\n",
        "c = int(input('third num: '))\n",
        "\n",
        "if a<b and a<c:\n",
        "  print('smallest is ',a)\n",
        "elif b<c:\n",
        "  print('smallest is ',b)\n",
        "else:\n",
        "  print('smallest is ',c)"
      ],
      "metadata": {
        "colab": {
          "base_uri": "https://localhost:8080/"
        },
        "id": "gQpTJbMH3W6_",
        "outputId": "ff92148a-40d7-4f05-cd12-04e06f79e047"
      },
      "execution_count": 39,
      "outputs": [
        {
          "output_type": "stream",
          "name": "stdout",
          "text": [
            "first num: 11\n",
            "second num: 3\n",
            "third num: 31\n",
            "smallest is  3\n"
          ]
        }
      ]
    },
    {
      "cell_type": "code",
      "source": [
        "# menu driven calculator\n",
        "menu = input(\"\"\"\n",
        "Hi! how can I help you.\n",
        "1. Enter 1 for pin change\n",
        "2. Enter 2 for balance check\n",
        "3. Enter 3 for withdrawl\n",
        "4. Enter 4 for exit\n",
        "\"\"\")\n",
        "\n",
        "if menu == '1':\n",
        "  updated_pin = input(\"Enter new pin: \")\n",
        "  print(\"Updated pin is: \", updated_pin)\n",
        "elif menu == '2':\n",
        "  print('Available balance in account is: XYZ')\n",
        "elif menu == '3':\n",
        "  withd_amt = input(\"Enter the amount you want to withdraw: \")\n",
        "  print(withd_amt, \" rupees withdrawn.\")\n",
        "elif menu == '4':\n",
        "  exit()\n",
        "else:\n",
        "  print('exit')"
      ],
      "metadata": {
        "colab": {
          "base_uri": "https://localhost:8080/"
        },
        "id": "hgNqlC5C4jqF",
        "outputId": "e66d5b3a-b773-4445-9a0c-2792ee767b01"
      },
      "execution_count": 40,
      "outputs": [
        {
          "name": "stdout",
          "output_type": "stream",
          "text": [
            "\n",
            "Hi! how can I help you.\n",
            "1. Enter 1 for pin change\n",
            "2. Enter 2 for balance check\n",
            "3. Enter 3 for withdrawl\n",
            "4. Enter 4 for exit\n",
            "4\n"
          ]
        }
      ]
    },
    {
      "cell_type": "markdown",
      "source": [
        "# Modules in Python\n",
        "\n",
        "- math\n",
        "- keywords\n",
        "- random\n",
        "- datetime"
      ],
      "metadata": {
        "id": "532_6mva8A6C"
      }
    },
    {
      "cell_type": "code",
      "source": [
        "# math\n",
        "import math\n",
        "\n",
        "print(math.sqrt(196))\n",
        "print(math.factorial(5))\n",
        "# math."
      ],
      "metadata": {
        "id": "x5VXt7wv8G4o",
        "colab": {
          "base_uri": "https://localhost:8080/"
        },
        "outputId": "7f9e2d5b-1ebf-41df-8579-482de5129e86"
      },
      "execution_count": 41,
      "outputs": [
        {
          "output_type": "stream",
          "name": "stdout",
          "text": [
            "14.0\n",
            "120\n"
          ]
        }
      ]
    },
    {
      "cell_type": "code",
      "source": [
        "# keyword\n",
        "import keyword\n",
        "print(keyword.kwlist)\n",
        "# keyword."
      ],
      "metadata": {
        "id": "FLgAX9pz8HBT",
        "colab": {
          "base_uri": "https://localhost:8080/"
        },
        "outputId": "8f834898-0740-4734-9d99-53b61c6fbe5d"
      },
      "execution_count": 42,
      "outputs": [
        {
          "output_type": "stream",
          "name": "stdout",
          "text": [
            "['False', 'None', 'True', 'and', 'as', 'assert', 'async', 'await', 'break', 'class', 'continue', 'def', 'del', 'elif', 'else', 'except', 'finally', 'for', 'from', 'global', 'if', 'import', 'in', 'is', 'lambda', 'nonlocal', 'not', 'or', 'pass', 'raise', 'return', 'try', 'while', 'with', 'yield']\n"
          ]
        }
      ]
    },
    {
      "cell_type": "code",
      "source": [
        "# random\n",
        "import random\n",
        "print(random.randint(1,100))\n",
        "print(random.random())\n",
        "print(random.randrange(1, 100))"
      ],
      "metadata": {
        "id": "R0dWpe-w8HSZ",
        "colab": {
          "base_uri": "https://localhost:8080/"
        },
        "outputId": "250aa2c0-6d47-4c2d-d17d-c7fcec4bd156"
      },
      "execution_count": 43,
      "outputs": [
        {
          "output_type": "stream",
          "name": "stdout",
          "text": [
            "18\n",
            "0.11038751486127985\n",
            "85\n"
          ]
        }
      ]
    },
    {
      "cell_type": "code",
      "source": [
        "# datetime\n",
        "import datetime\n",
        "print(datetime.datetime.now())"
      ],
      "metadata": {
        "colab": {
          "base_uri": "https://localhost:8080/"
        },
        "id": "XNHWXsM0iFn3",
        "outputId": "7b1b15db-9b22-47a0-8457-3b9f0d5ac564"
      },
      "execution_count": 44,
      "outputs": [
        {
          "output_type": "stream",
          "name": "stdout",
          "text": [
            "2025-08-07 05:34:15.248050\n"
          ]
        }
      ]
    },
    {
      "cell_type": "code",
      "source": [
        "# help('modules')     # Somehow error"
      ],
      "metadata": {
        "id": "Ou-b-bvs9Cgc"
      },
      "execution_count": 45,
      "outputs": []
    },
    {
      "cell_type": "markdown",
      "source": [
        "# Loops in Python\n",
        "\n",
        "- Need for loops\n",
        "- While Loop\n",
        "- For Loop"
      ],
      "metadata": {
        "id": "2Ow6_gWG7ukc"
      }
    },
    {
      "cell_type": "code",
      "source": [
        "# While loop example -> program to print the table\n",
        "# Program -> Sum of all digits of a given number\n",
        "# Program -> keep accepting numbers from users till he/she enters a 0 and then find the avg"
      ],
      "metadata": {
        "id": "Ig7NIb7L7txg"
      },
      "execution_count": 46,
      "outputs": []
    },
    {
      "cell_type": "code",
      "source": [
        "number = int(input('enter the number: '))\n",
        "\n",
        "i = 1\n",
        "\n",
        "while i<11:\n",
        "  print(number,'*',i,'=',number * i)\n",
        "  i += 1"
      ],
      "metadata": {
        "colab": {
          "base_uri": "https://localhost:8080/"
        },
        "id": "brWSxgiu9rrQ",
        "outputId": "cb062d4b-3bce-438a-f633-8ec589e4e830"
      },
      "execution_count": 47,
      "outputs": [
        {
          "output_type": "stream",
          "name": "stdout",
          "text": [
            "enter the number: 3\n",
            "3 * 1 = 3\n",
            "3 * 2 = 6\n",
            "3 * 3 = 9\n",
            "3 * 4 = 12\n",
            "3 * 5 = 15\n",
            "3 * 6 = 18\n",
            "3 * 7 = 21\n",
            "3 * 8 = 24\n",
            "3 * 9 = 27\n",
            "3 * 10 = 30\n"
          ]
        }
      ]
    },
    {
      "cell_type": "code",
      "source": [
        "# while loop with else\n",
        "\n",
        "x = 1\n",
        "\n",
        "while x < 3:\n",
        "  print(x)\n",
        "  x += 1\n",
        "\n",
        "else:\n",
        "  print('limit crossed')"
      ],
      "metadata": {
        "id": "Ltsr9n3H73fp",
        "colab": {
          "base_uri": "https://localhost:8080/"
        },
        "outputId": "ee19419e-7451-40af-957e-f440c4a44167"
      },
      "execution_count": 48,
      "outputs": [
        {
          "output_type": "stream",
          "name": "stdout",
          "text": [
            "1\n",
            "2\n",
            "limit crossed\n"
          ]
        }
      ]
    },
    {
      "cell_type": "code",
      "source": [
        "# Guessing game\n",
        "\n",
        "# generate a random integer between 1 and 100\n",
        "import random\n",
        "jackpot = random.randint(1,100)\n",
        "\n",
        "guess = int(input('guess karo: '))\n",
        "counter = 1\n",
        "while guess != jackpot:\n",
        "  if guess < jackpot:\n",
        "    print('galat!guess higher')\n",
        "  else:\n",
        "    print('galat!guess lower')\n",
        "\n",
        "  guess = int(input('guess karo: '))\n",
        "  counter += 1\n",
        "\n",
        "else:\n",
        "  print('correct guess')\n",
        "  print('attempts',counter)"
      ],
      "metadata": {
        "id": "29y5r2cr8MRP",
        "colab": {
          "base_uri": "https://localhost:8080/"
        },
        "outputId": "22e396f7-854e-4a4f-bba1-0afc23883e5d"
      },
      "execution_count": 49,
      "outputs": [
        {
          "output_type": "stream",
          "name": "stdout",
          "text": [
            "guess karo: 66\n",
            "galat!guess higher\n",
            "guess karo: 98\n",
            "galat!guess lower\n",
            "guess karo: 78\n",
            "galat!guess lower\n",
            "guess karo: 75\n",
            "galat!guess higher\n",
            "guess karo: 76\n",
            "galat!guess higher\n",
            "guess karo: 77\n",
            "correct guess\n",
            "attempts 6\n"
          ]
        }
      ]
    },
    {
      "cell_type": "code",
      "source": [
        "# For loop demo\n",
        "for i in {1,2,3,4,5}:\n",
        "  print(i)"
      ],
      "metadata": {
        "id": "bjjx0fMr8SWh",
        "colab": {
          "base_uri": "https://localhost:8080/"
        },
        "outputId": "54824fd7-d1e2-4234-e7e0-a95767611d17"
      },
      "execution_count": 50,
      "outputs": [
        {
          "output_type": "stream",
          "name": "stdout",
          "text": [
            "1\n",
            "2\n",
            "3\n",
            "4\n",
            "5\n"
          ]
        }
      ]
    },
    {
      "cell_type": "markdown",
      "source": [
        "### Program - The current population of a town is 10000. The population of the town is increasing at the rate of 10% per year. You have to write a program to find out the population at the end of each of the last 10 years."
      ],
      "metadata": {
        "id": "EXnzCtohWx2V"
      }
    },
    {
      "cell_type": "code",
      "source": [
        "curr_pop = 10000\n",
        "\n",
        "for i in range(10,0,-1):\n",
        "  print(i,curr_pop)\n",
        "  curr_pop = curr_pop - 0.1*curr_pop"
      ],
      "metadata": {
        "id": "Nc_6lslRW03g",
        "colab": {
          "base_uri": "https://localhost:8080/"
        },
        "outputId": "a851ce1b-04e8-42ca-9a1e-56d38b1d79ce"
      },
      "execution_count": 51,
      "outputs": [
        {
          "output_type": "stream",
          "name": "stdout",
          "text": [
            "10 10000\n",
            "9 9000.0\n",
            "8 8100.0\n",
            "7 7290.0\n",
            "6 6561.0\n",
            "5 5904.9\n",
            "4 5314.41\n",
            "3 4782.969\n",
            "2 4304.6721\n",
            "1 3874.20489\n"
          ]
        }
      ]
    },
    {
      "cell_type": "markdown",
      "source": [
        "### Sequence sum\n",
        "\n",
        "1/1! + 2/2! + 3/3! + ..."
      ],
      "metadata": {
        "id": "4xVI9HkgcEla"
      }
    },
    {
      "cell_type": "code",
      "source": [
        "# code here"
      ],
      "metadata": {
        "id": "wGC1eCDecPcB"
      },
      "execution_count": 52,
      "outputs": []
    },
    {
      "cell_type": "code",
      "source": [
        "# For loop vs While loops (When to use what?)"
      ],
      "metadata": {
        "id": "PNLWd1WR8dSw"
      },
      "execution_count": 53,
      "outputs": []
    },
    {
      "cell_type": "markdown",
      "source": [
        "# Nested Loops"
      ],
      "metadata": {
        "id": "1bdP8FTX87Du"
      }
    },
    {
      "cell_type": "code",
      "source": [
        "# Examples"
      ],
      "metadata": {
        "id": "-YY5edV98lXq"
      },
      "execution_count": 54,
      "outputs": []
    },
    {
      "cell_type": "code",
      "source": [
        "# Program - Unique combination of 1,2,3,4\n",
        "# Program - Pattern 1 and 2"
      ],
      "metadata": {
        "id": "Ym8nRkqxGXLN"
      },
      "execution_count": 55,
      "outputs": []
    },
    {
      "cell_type": "markdown",
      "source": [
        "### Pattern 1\n",
        "\n",
        "\n",
        "*** <br>\n",
        "**** <br>\n",
        "***<br>\n"
      ],
      "metadata": {
        "id": "_Hz8L0f3c_3P"
      }
    },
    {
      "cell_type": "code",
      "source": [],
      "metadata": {
        "id": "YsL_YmxRdNrn"
      },
      "execution_count": null,
      "outputs": []
    },
    {
      "cell_type": "markdown",
      "source": [
        "### Pattern 2\n",
        "\n",
        "1<br>\n",
        "121<br>\n",
        "12321<br>\n",
        "1234321<br>"
      ],
      "metadata": {
        "id": "eVAO3tVmdOWV"
      }
    },
    {
      "cell_type": "code",
      "source": [],
      "metadata": {
        "id": "sHW4YJqcdXzw"
      },
      "execution_count": null,
      "outputs": []
    },
    {
      "cell_type": "markdown",
      "source": [
        "# Loop Control Statement\n",
        "\n",
        "- Break\n",
        "- Continue\n",
        "- Pass"
      ],
      "metadata": {
        "id": "8GccSRIt891U"
      }
    },
    {
      "cell_type": "code",
      "source": [
        "# Break demo"
      ],
      "metadata": {
        "id": "kN9s2dG89DlJ"
      },
      "execution_count": null,
      "outputs": []
    },
    {
      "cell_type": "code",
      "source": [
        "# Break example (Linear Search) -> Prime number in a given range"
      ],
      "metadata": {
        "id": "u09EdMCm9FK_"
      },
      "execution_count": null,
      "outputs": []
    },
    {
      "cell_type": "code",
      "source": [
        "# Continue demo"
      ],
      "metadata": {
        "id": "3q5asa2l9GYy"
      },
      "execution_count": null,
      "outputs": []
    },
    {
      "cell_type": "code",
      "source": [
        "# Continue Example (Ecommerce)"
      ],
      "metadata": {
        "id": "cA8CiMgn9IIT"
      },
      "execution_count": null,
      "outputs": []
    },
    {
      "cell_type": "code",
      "source": [
        "# Pass demo"
      ],
      "metadata": {
        "id": "P7GB16j59J-3"
      },
      "execution_count": null,
      "outputs": []
    }
  ]
}