{
  "nbformat": 4,
  "nbformat_minor": 0,
  "metadata": {
    "colab": {
      "provenance": [],
      "include_colab_link": true
    },
    "kernelspec": {
      "name": "python3",
      "display_name": "Python 3"
    },
    "language_info": {
      "name": "python"
    }
  },
  "cells": [
    {
      "cell_type": "markdown",
      "metadata": {
        "id": "view-in-github",
        "colab_type": "text"
      },
      "source": [
        "<a href=\"https://colab.research.google.com/github/Rohan-1103/Data-Science/blob/main/session_2_task.ipynb\" target=\"_parent\"><img src=\"https://colab.research.google.com/assets/colab-badge.svg\" alt=\"Open In Colab\"/></a>"
      ]
    },
    {
      "cell_type": "markdown",
      "source": [
        "### `Problem 1`: Write a program that will give you in hand monthly salary after deduction on CTC - HRA(10%), DA(5%), PF(3%) and taxes deduction as below:\n",
        "\n",
        "> Salary(Lakhs) : Tax(%)\n",
        "\n",
        "*   Below 5 : 0%\n",
        "*   5-10 : 10%\n",
        "*   10-20 : 20%\n",
        "*   aboove 20 : 30%\n",
        "\n",
        "<hr>\n",
        "\n",
        "- Formulas:\n",
        "  - After deduction = Salary - Salary * 0.tax\n",
        "  - Monthly = After deduction / 12"
      ],
      "metadata": {
        "id": "w6RlOAXV2PWh"
      }
    },
    {
      "cell_type": "code",
      "source": [
        "salary = float(input(\"Enter Salary in Lakhs: \"))\n",
        "if salary < 5:\n",
        "  after_deduction = salary - salary * 0.18\n",
        "  monthly_inhand = after_deduction/12\n",
        "  print(\"In hand monthly salary after deduction: \", monthly_inhand)\n",
        "elif salary >= 5 or salary < 10:\n",
        "  after_deduction = salary - salary * 0.28\n",
        "  monthly_inhand = after_deduction/12\n",
        "  print(\"In hand monthly salary after deduction: \", monthly_inhand)\n",
        "elif salary >= 10 or salary < 20:\n",
        "  after_deduction = salary - salary * 0.38\n",
        "  monthly_inhand = after_deduction/12\n",
        "  print(\"In hand monthly salary after deduction: \", monthly_inhand)\n",
        "elif salary > 20:\n",
        "  after_deduction = salary - salary * 0.48\n",
        "  monthly_inhand = after_deduction/12\n",
        "  print(\"In hand monthly salary after deduction: \", monthly_inhand)"
      ],
      "metadata": {
        "id": "7tMHvKYO2etI",
        "outputId": "599d5a40-7f52-4407-a214-a9768e13c89d",
        "colab": {
          "base_uri": "https://localhost:8080/"
        }
      },
      "execution_count": 1,
      "outputs": [
        {
          "output_type": "stream",
          "name": "stdout",
          "text": [
            "Enter Salary in Lakhs: 570000\n",
            "In hand monthly salary after deduction:  34200.0\n"
          ]
        }
      ]
    },
    {
      "cell_type": "markdown",
      "source": [
        "### `Problem 2`: Write a program that take a user input of three angles/sides and will find out whether it can form a triangle or not."
      ],
      "metadata": {
        "id": "tYzCGqwl2hfN"
      }
    },
    {
      "cell_type": "code",
      "source": [
        "# What is a valid triangle: Sum of length of any 2 sides is > other side\n",
        "side1 = float(input(\"Enter side 1 length: \"))\n",
        "side2 = float(input(\"Enter side 2 length: \"))\n",
        "side3 = float(input(\"Enter side 3 length: \"))\n",
        "\n",
        "if side1 + side2 > side3 or side1 + side3 > side2 or side2 + side3 > side1:\n",
        "  print(\"These lengths can form a valid triangle.\")\n",
        "else:\n",
        "  print(\"These lengths can not form a valid triangle.\")"
      ],
      "metadata": {
        "id": "FYEqln-I2kxV",
        "outputId": "fe561faa-9cb2-4c72-e088-bbcfadfcb54a",
        "colab": {
          "base_uri": "https://localhost:8080/"
        }
      },
      "execution_count": 2,
      "outputs": [
        {
          "output_type": "stream",
          "name": "stdout",
          "text": [
            "Enter side 1 length: 12\n",
            "Enter side 2 length: 31\n",
            "Enter side 3 length: 11\n",
            "These lengths can form a valid triangle.\n"
          ]
        }
      ]
    },
    {
      "cell_type": "markdown",
      "source": [
        "A triangle is valid if the sum of its three angles is exactly \\(180\\) degrees, and each angle is greater than \\(0\\) degrees."
      ],
      "metadata": {
        "id": "booFfqRtjVzj"
      }
    },
    {
      "cell_type": "code",
      "source": [
        "a1 = float(input(\"Enter angle 1: \"))\n",
        "a2 = float(input(\"Enter angle 2: \"))\n",
        "a3 = float(input(\"Enter angle 3: \"))\n",
        "\n",
        "if a1 <= 0 or a2 <= 0 or a3 <= 0:\n",
        "  print(\"None of the angle should be 0 or less. Hence not a valid triangle\")\n",
        "elif a1 + a2 + a3 != 180:\n",
        "  print(\"Not a valid triangle. As sum of angles is not 180.\")\n",
        "else:\n",
        "  print(\"Valid triangle.\")"
      ],
      "metadata": {
        "colab": {
          "base_uri": "https://localhost:8080/"
        },
        "id": "zDPFDT3yjaLS",
        "outputId": "a474364c-838f-46d0-effd-e1fb24d6d949"
      },
      "execution_count": 3,
      "outputs": [
        {
          "output_type": "stream",
          "name": "stdout",
          "text": [
            "Enter angle 1: 12.5\n",
            "Enter angle 2: 31.3\n",
            "Enter angle 3: 11.12\n",
            "Not a valid triangle. As sum of angles is not 180.\n"
          ]
        }
      ]
    },
    {
      "cell_type": "markdown",
      "source": [
        "### `Problem 3`: Write a program that will take user input of cost price and selling price and determines whether its a loss or a profit."
      ],
      "metadata": {
        "id": "5vEpPh8C2pE4"
      }
    },
    {
      "cell_type": "code",
      "source": [
        "cost_price = float(input(\"Enter cost price of the product: \"))\n",
        "selling_price = float(input(\"Enter selling price of the product: \"))\n",
        "\n",
        "if selling_price < cost_price:\n",
        "  print(\"It's a Loss.\")\n",
        "else:\n",
        "  print(\"It's a Profitable sale.\")"
      ],
      "metadata": {
        "id": "jDwBXlkO2sfl",
        "outputId": "46708c16-6faf-4641-87e6-5c21bb1fc866",
        "colab": {
          "base_uri": "https://localhost:8080/"
        }
      },
      "execution_count": 4,
      "outputs": [
        {
          "output_type": "stream",
          "name": "stdout",
          "text": [
            "Enter cost price of the product: 3253230\n",
            "Enter selling price of the product: 156464\n",
            "It's a Loss.\n"
          ]
        }
      ]
    },
    {
      "cell_type": "markdown",
      "source": [
        "### `Problem 4`: Write a menu-driven program -\n",
        "1. cm to ft\n",
        "2. km to miles\n",
        "3. USD to INR\n",
        "4. exit"
      ],
      "metadata": {
        "id": "J_FG_cJW2ugT"
      }
    },
    {
      "cell_type": "code",
      "source": [
        "option = input(\n",
        "\"\"\"\n",
        "Enter 1: To Convert CM to Ft\n",
        "Enter 2: To Convert KM to Miles\n",
        "Enter 3: To Convert USD to INR\n",
        "Enter 4: To Exit.\n",
        "\"\"\")\n",
        "\n",
        "if option == '1':\n",
        "  cm = float(input(\"Enter centimeter length: \"))\n",
        "  print(cm, \"centimetres is \", cm / 30.48, \"feet.\")\n",
        "if option == '2':\n",
        "  km = float(input(\"Enter distance in KM: \"))\n",
        "  print(km, \" kilometers is \", km * 0.6213, \" miles.\")\n",
        "if option == '3':\n",
        "  usd = float(input(\"Enter amount in US Dollers: \"))\n",
        "  print(usd, \" USD is: \", usd * 87.72, \" INR.\")\n",
        "if option == '4':\n",
        "  exit()"
      ],
      "metadata": {
        "id": "yBHhaCGQ2zpD",
        "outputId": "76f33cdf-4101-4f1b-8dee-f1e6ab2965d0",
        "colab": {
          "base_uri": "https://localhost:8080/"
        }
      },
      "execution_count": 5,
      "outputs": [
        {
          "output_type": "stream",
          "name": "stdout",
          "text": [
            "\n",
            "Enter 1: To Convert CM to Ft\n",
            "Enter 2: To Convert KM to Miles\n",
            "Enter 3: To Convert USD to INR\n",
            "Enter 4: To Exit.\n",
            "2\n",
            "Enter distance in KM: 120\n",
            "120.0  kilometers is  74.556  miles.\n"
          ]
        }
      ]
    },
    {
      "cell_type": "markdown",
      "source": [
        "### `Problem 5` - Exercise 12: Display Fibonacci series up to 10 terms.\n",
        "\n",
        "*Note: The Fibonacci Sequence is a series of numbers. The next number is found by adding up the two numbers before it. The first two numbers are 0 and 1. For example, 0, 1, 1, 2, 3, 5, 8, 13, 21. The next number in this series above is 13+21 = 34*"
      ],
      "metadata": {
        "id": "LJJ30_Yw27ZU"
      }
    },
    {
      "cell_type": "code",
      "source": [
        "t1 = 0\n",
        "t2 = 1\n",
        "count = 3\n",
        "print(t1, \"    \", t2, end = \"\\t\")\n",
        "while(count <= 10):\n",
        "  t3 = t1 + t2\n",
        "  print(t3, end=\"\\t\")\n",
        "  t1, t2 = t2, t3\n",
        "  count+=1"
      ],
      "metadata": {
        "id": "ae_1rpe52-5R",
        "outputId": "e91c3704-198c-425b-f95e-bcf36a1c8e53",
        "colab": {
          "base_uri": "https://localhost:8080/"
        }
      },
      "execution_count": 6,
      "outputs": [
        {
          "output_type": "stream",
          "name": "stdout",
          "text": [
            "0      1\t1\t2\t3\t5\t8\t13\t21\t34\t"
          ]
        }
      ]
    },
    {
      "cell_type": "markdown",
      "source": [
        "### `Problem 6` - Find the factorial of a given number.\n",
        "\n",
        "Write a program to use the loop to find the factorial of a given number.\n",
        "\n",
        "The factorial (symbol: `!`) means to multiply all whole numbers from the chosen number down to 1.\n",
        "\n",
        "For example: calculate the factorial of 5\n",
        "\n",
        "```bash\n",
        "5! = 5 × 4 × 3 × 2 × 1 = 120\n",
        "```\n",
        "\n",
        "Output:\n",
        "\n",
        "```bash\n",
        "120\n",
        "```"
      ],
      "metadata": {
        "id": "pk_I_S4m3PT5"
      }
    },
    {
      "cell_type": "code",
      "source": [
        "fact = 1\n",
        "num = int(input(\"Enter number you want to find factorial of: \"))\n",
        "while(num >= 1):\n",
        "  fact = fact * num\n",
        "  num-=1\n",
        "print(\"Factorial is\", fact)"
      ],
      "metadata": {
        "id": "lzXxHegx3Rkc",
        "outputId": "b35172fb-5c5a-47a4-f5fa-f9e415bb8df2",
        "colab": {
          "base_uri": "https://localhost:8080/"
        }
      },
      "execution_count": 7,
      "outputs": [
        {
          "output_type": "stream",
          "name": "stdout",
          "text": [
            "Enter number you want to find factorial of: 9\n",
            "Factorial is 362880\n"
          ]
        }
      ]
    },
    {
      "cell_type": "markdown",
      "source": [
        "### `Problem 7` - Reverse a given integer number.\n",
        "\n",
        "Example:\n",
        "\n",
        "`Input:`\n",
        "\n",
        "```bash\n",
        "76542\n",
        "```\n",
        "\n",
        "`Output:`\n",
        "\n",
        "```bash\n",
        "24567\n",
        "```"
      ],
      "metadata": {
        "id": "-17IOi-g3UpU"
      }
    },
    {
      "cell_type": "code",
      "source": [
        "num = int(input(\"Enter number you want to reverse: \"))\n",
        "rev = 0\n",
        "while(num):\n",
        "  dig = num % 10\n",
        "  rev = rev * 10 + dig\n",
        "  num = num // 10\n",
        "print(\"Reversed number: \", rev)"
      ],
      "metadata": {
        "id": "wJwLpKCr3aVA",
        "outputId": "cc007e7a-7dc9-450c-b0cb-fcd90cebd00f",
        "colab": {
          "base_uri": "https://localhost:8080/"
        }
      },
      "execution_count": 8,
      "outputs": [
        {
          "output_type": "stream",
          "name": "stdout",
          "text": [
            "Enter number you want to reverse: 32565\n",
            "Reversed number:  56523\n"
          ]
        }
      ]
    },
    {
      "cell_type": "markdown",
      "source": [
        "### `Problem 8`: Take a user input as integer N. Find out the sum from 1 to N. If any number if divisible by 5, then skip that number. And if the sum is greater than 300, don't need to calculate the sum further more. Print the final result. And don't use for loop to solve this problem.\n",
        "\n",
        "**Example 1:**\n",
        "\n",
        "`Input:`\n",
        "\n",
        "```bash\n",
        "30\n",
        "```\n",
        "\n",
        "`Output:`\n",
        "\n",
        "```bash\n",
        "276\n",
        "```"
      ],
      "metadata": {
        "id": "-t8PJQaY3sHf"
      }
    },
    {
      "cell_type": "code",
      "source": [
        "# n = int(input(\"Enter number value: \"))\n",
        "\n",
        "# i = 1\n",
        "# total = 0\n",
        "\n",
        "# while i <= n:\n",
        "#     if i % 5 == 0:  # skip multiples of 5\n",
        "#         i += 1\n",
        "#         continue\n",
        "#     total += i\n",
        "#     if total > 300:  # stop if sum exceeds 300\n",
        "#         break\n",
        "#     i += 1\n",
        "\n",
        "# print(total)\n",
        "n = int(input(\"Enter number value: \"))\n",
        "i = 1\n",
        "total = 0\n",
        "while i <= n:\n",
        "    if i % 5 == 0:\n",
        "        i += 1\n",
        "        continue\n",
        "    if total + i > 300:       # Check condition before adding to total\n",
        "        break\n",
        "    total += i\n",
        "    i += 1\n",
        "print(total)"
      ],
      "metadata": {
        "id": "GZB6mGMP3ujT",
        "outputId": "56e112e9-7d63-47c6-a7d5-29e9d4fd4c4b",
        "colab": {
          "base_uri": "https://localhost:8080/"
        }
      },
      "execution_count": 9,
      "outputs": [
        {
          "output_type": "stream",
          "name": "stdout",
          "text": [
            "Enter number value: 3232\n",
            "276\n"
          ]
        }
      ]
    },
    {
      "cell_type": "markdown",
      "source": [
        "### `Problem 9`: Write a program that keeps on accepting a number from the user until the user enters Zero. Display the sum and average of all the numbers."
      ],
      "metadata": {
        "id": "Q7ggImeA3xm4"
      }
    },
    {
      "cell_type": "code",
      "source": [
        "sum = 0\n",
        "count = 0\n",
        "while(1):\n",
        "  num = int(input(\"Enter a number: \"))\n",
        "  if num == 0:\n",
        "    break\n",
        "  sum += num\n",
        "  count += 1\n",
        "  avg = sum / count\n",
        "  print(avg)"
      ],
      "metadata": {
        "id": "t_YDSZDe4Kdo",
        "outputId": "49c8d2c4-98e8-4d94-8c7c-37af42a40ed9",
        "colab": {
          "base_uri": "https://localhost:8080/"
        }
      },
      "execution_count": 10,
      "outputs": [
        {
          "name": "stdout",
          "output_type": "stream",
          "text": [
            "Enter a number: 23\n",
            "23.0\n",
            "Enter a number: 0\n"
          ]
        }
      ]
    },
    {
      "cell_type": "markdown",
      "source": [
        "###`Problem 9`: Write a program which will find all such numbers which are divisible by 7 but are not a multiple of 5, between 2000 and 3200 (both included). The numbers obtained should be printed in a comma-separated sequence on a single line."
      ],
      "metadata": {
        "id": "6EhvEMvm4R7s"
      }
    },
    {
      "cell_type": "code",
      "source": [
        "for _ in range(2000, 3201):\n",
        "  if _ % 7 == 0:\n",
        "    print(_, sep = ',', end = \" \")"
      ],
      "metadata": {
        "id": "d6RgP1B34T6c",
        "outputId": "260920c9-168b-4e98-8a28-0372bfe22123",
        "colab": {
          "base_uri": "https://localhost:8080/"
        }
      },
      "execution_count": 11,
      "outputs": [
        {
          "output_type": "stream",
          "name": "stdout",
          "text": [
            "2002 2009 2016 2023 2030 2037 2044 2051 2058 2065 2072 2079 2086 2093 2100 2107 2114 2121 2128 2135 2142 2149 2156 2163 2170 2177 2184 2191 2198 2205 2212 2219 2226 2233 2240 2247 2254 2261 2268 2275 2282 2289 2296 2303 2310 2317 2324 2331 2338 2345 2352 2359 2366 2373 2380 2387 2394 2401 2408 2415 2422 2429 2436 2443 2450 2457 2464 2471 2478 2485 2492 2499 2506 2513 2520 2527 2534 2541 2548 2555 2562 2569 2576 2583 2590 2597 2604 2611 2618 2625 2632 2639 2646 2653 2660 2667 2674 2681 2688 2695 2702 2709 2716 2723 2730 2737 2744 2751 2758 2765 2772 2779 2786 2793 2800 2807 2814 2821 2828 2835 2842 2849 2856 2863 2870 2877 2884 2891 2898 2905 2912 2919 2926 2933 2940 2947 2954 2961 2968 2975 2982 2989 2996 3003 3010 3017 3024 3031 3038 3045 3052 3059 3066 3073 3080 3087 3094 3101 3108 3115 3122 3129 3136 3143 3150 3157 3164 3171 3178 3185 3192 3199 "
          ]
        }
      ]
    },
    {
      "cell_type": "markdown",
      "source": [
        "###`Problem 10`: Write a program, which will find all such numbers between 1000 and 3000 (both included) such that each digit of the number is an even number. The numbers obtained should be printed in a space-separated sequence on a single line.\n",
        "\n"
      ],
      "metadata": {
        "id": "tYvmRR-G4Vp4"
      }
    },
    {
      "cell_type": "code",
      "source": [
        "for j in range(1000, 3001):\n",
        "  num = j\n",
        "  dig1 = num % 10\n",
        "  num //= 10\n",
        "\n",
        "  dig2 = num % 10\n",
        "  num //= 10\n",
        "\n",
        "  dig3 = num % 10\n",
        "  num //= 10\n",
        "\n",
        "  dig4 = num\n",
        "  if dig1 % 2 == 0 and dig2 % 2 == 0 and dig3 % 2 == 0 and dig4 % 2 == 0:\n",
        "    print(j, end = \" \", sep = \" \")"
      ],
      "metadata": {
        "id": "k6Gs1kIf4k19",
        "outputId": "8ef55f9f-af94-436c-a644-4009f010fd16",
        "colab": {
          "base_uri": "https://localhost:8080/"
        }
      },
      "execution_count": 12,
      "outputs": [
        {
          "output_type": "stream",
          "name": "stdout",
          "text": [
            "2000 2002 2004 2006 2008 2020 2022 2024 2026 2028 2040 2042 2044 2046 2048 2060 2062 2064 2066 2068 2080 2082 2084 2086 2088 2200 2202 2204 2206 2208 2220 2222 2224 2226 2228 2240 2242 2244 2246 2248 2260 2262 2264 2266 2268 2280 2282 2284 2286 2288 2400 2402 2404 2406 2408 2420 2422 2424 2426 2428 2440 2442 2444 2446 2448 2460 2462 2464 2466 2468 2480 2482 2484 2486 2488 2600 2602 2604 2606 2608 2620 2622 2624 2626 2628 2640 2642 2644 2646 2648 2660 2662 2664 2666 2668 2680 2682 2684 2686 2688 2800 2802 2804 2806 2808 2820 2822 2824 2826 2828 2840 2842 2844 2846 2848 2860 2862 2864 2866 2868 2880 2882 2884 2886 2888 "
          ]
        }
      ]
    },
    {
      "cell_type": "markdown",
      "source": [
        "###`Problem 11`: A robot moves in a plane starting from the original point (0,0). The robot can move toward UP, DOWN, LEFT and RIGHT with a given steps.\n",
        "The trace of robot movement is shown as the following:\n",
        "```\n",
        "UP 5\n",
        "DOWN 3\n",
        "LEFT 3\n",
        "RIGHT 2\n",
        "!\n",
        "```\n",
        "> The numbers after the direction are steps.\n",
        "\n",
        "> `!` means robot stop there.\n",
        "\n",
        "**Please write a program to compute the distance from current position after a sequence of movement and original point.**\n",
        "\n",
        "*If the distance is a float, then just print the nearest integer.*\n",
        "\n",
        "Example:\n",
        "\n",
        "`Input`:\n",
        "```\n",
        "UP 5\n",
        "DOWN 3\n",
        "LEFT 3\n",
        "RIGHT 2\n",
        "!\n",
        "```\n",
        "`Output`:\n",
        "```\n",
        "2\n",
        "```"
      ],
      "metadata": {
        "id": "GV18IINT4mf5"
      }
    },
    {
      "cell_type": "code",
      "source": [
        "# start_x = 0\n",
        "# start_y = 0\n",
        "# up = int(input(\"How many steps robot moves up: \"))\n",
        "# down = int(input(\"How many steps robot moves down: \"))\n",
        "# left = int(input(\"How many steps robot moves left: \"))\n",
        "# right = int(input(\"How many steps robot moves right: \"))\n",
        "# final_x = up - down\n",
        "# final_y = right - left\n",
        "# final = final_x - final_y\n",
        "# print(final)\n",
        "\n",
        "import math\n",
        "\n",
        "start_x = 0\n",
        "start_y = 0\n",
        "\n",
        "up = int(input(\"How many steps robot moves up: \"))\n",
        "down = int(input(\"How many steps robot moves down: \"))\n",
        "left = int(input(\"How many steps robot moves left: \"))\n",
        "right = int(input(\"How many steps robot moves right: \"))\n",
        "\n",
        "# Final coordinates after movement\n",
        "final_x = start_x + (right - left)\n",
        "final_y = start_y + (up - down)\n",
        "\n",
        "# Euclidean distance from origin\n",
        "distance = math.sqrt(final_x**2 + final_y**2)\n",
        "\n",
        "print(round(distance))"
      ],
      "metadata": {
        "id": "6UNMC2aR4w5x",
        "outputId": "d63fbf73-dbce-41e4-e0af-499694274f69",
        "colab": {
          "base_uri": "https://localhost:8080/"
        }
      },
      "execution_count": 13,
      "outputs": [
        {
          "output_type": "stream",
          "name": "stdout",
          "text": [
            "How many steps robot moves up: 3\n",
            "How many steps robot moves down: 1\n",
            "How many steps robot moves left: 2\n",
            "How many steps robot moves right: 3\n",
            "2\n"
          ]
        }
      ]
    },
    {
      "cell_type": "code",
      "source": [
        "import math\n",
        "\n",
        "x = 0\n",
        "y = 0\n",
        "\n",
        "while True:\n",
        "    move = input(\"Enter movement or ! to stop: \").strip()\n",
        "    if move == \"!\":\n",
        "        break\n",
        "\n",
        "    direction, steps = move.split()\n",
        "    steps = int(steps)\n",
        "\n",
        "    if direction.upper() == \"UP\":\n",
        "        y += steps\n",
        "    elif direction.upper() == \"DOWN\":\n",
        "        y -= steps\n",
        "    elif direction.upper() == \"LEFT\":\n",
        "        x -= steps\n",
        "    elif direction.upper() == \"RIGHT\":\n",
        "        x += steps\n",
        "\n",
        "distance = math.sqrt(x**2 + y**2)\n",
        "print(round(distance))"
      ],
      "metadata": {
        "id": "Lt5mMImTak8s",
        "outputId": "887a4183-91d4-409a-ad70-029d3760d084",
        "colab": {
          "base_uri": "https://localhost:8080/"
        }
      },
      "execution_count": 14,
      "outputs": [
        {
          "output_type": "stream",
          "name": "stdout",
          "text": [
            "Enter movement or ! to stop: !\n",
            "0\n"
          ]
        }
      ]
    },
    {
      "cell_type": "markdown",
      "source": [
        "###`Problem 12`:Write a program to print whether a given number is a prime number or not"
      ],
      "metadata": {
        "id": "3fsAIAhK5GYY"
      }
    },
    {
      "cell_type": "code",
      "source": [
        "# 11%0"
      ],
      "metadata": {
        "id": "BAwcXt1cq-NM"
      },
      "execution_count": 15,
      "outputs": []
    },
    {
      "cell_type": "code",
      "source": [
        "num = int(input(\"Enter a number to check whether it is prime number or not: \"))\n",
        "if num <= 1:\n",
        "  print(\"Not a prime number.\")\n",
        "prime = 1\n",
        "for _ in range(2, int(num**0.5)):\n",
        "  if num % _ == 0:\n",
        "    prime = 0\n",
        "    break\n",
        "if prime == 0:\n",
        "  print(\"Not a prime number.\")\n",
        "else:\n",
        "  print(\"Is a prime number.\")"
      ],
      "metadata": {
        "id": "j6y91lxy5LZs",
        "outputId": "ce5b3603-d9ce-4615-88e6-f5c817dd496a",
        "colab": {
          "base_uri": "https://localhost:8080/"
        }
      },
      "execution_count": 16,
      "outputs": [
        {
          "output_type": "stream",
          "name": "stdout",
          "text": [
            "Enter a number to check whether it is prime number or not: 3223\n",
            "Not a prime number.\n"
          ]
        }
      ]
    },
    {
      "cell_type": "markdown",
      "source": [
        "###`Problem 13`:Print all the Armstrong numbers in a given range.\n",
        "Range will be provided by the user<br>\n",
        "Armstrong number is a number that is equal to the sum of cubes of its digits. For example 0, 1, 153, 370, 371 and 407 are the Armstrong numbers."
      ],
      "metadata": {
        "id": "asAbmbK-5NHv"
      }
    },
    {
      "cell_type": "code",
      "source": [
        "upper = int(input(\"Enter range of numbers: \"))\n",
        "\n",
        "for i in range(0, upper):\n",
        "    num = i\n",
        "    cube_sum = 0\n",
        "    temp = num\n",
        "    while temp > 0:\n",
        "        dig = temp % 10\n",
        "        cube_sum += dig ** 3\n",
        "        temp //= 10\n",
        "    if cube_sum == num:\n",
        "        print(num, end=\" \")"
      ],
      "metadata": {
        "id": "PZuI67pm5jCT",
        "outputId": "d9baad16-032a-406b-8684-3482c9ef5e42",
        "colab": {
          "base_uri": "https://localhost:8080/"
        }
      },
      "execution_count": 17,
      "outputs": [
        {
          "output_type": "stream",
          "name": "stdout",
          "text": [
            "Enter range of numbers: 32232\n",
            "0 1 153 370 371 407 "
          ]
        }
      ]
    },
    {
      "cell_type": "markdown",
      "source": [
        "###`Problem 14`:Calculate the angle between the hour hand and minute hand.\n",
        "\n",
        "Note: There can be two angles between hands; we need to print a minimum of two. Also, we need to print the floor of the final result angle. For example, if the final angle is 10.61, we need to print 10.\n",
        "\n",
        "Input:<br>\n",
        "H = 9 , M = 0<br>\n",
        "Output:<br>\n",
        "90<br>\n",
        "Explanation:<br>\n",
        "The minimum angle between hour and minute\n",
        "hand when the time is 9 is 90 degress."
      ],
      "metadata": {
        "id": "ClCQZMqT7gK0"
      }
    },
    {
      "cell_type": "code",
      "source": [
        "# Input\n",
        "H = int(input(\"Enter hour: \"))\n",
        "M = int(input(\"Enter minutes: \"))\n",
        "\n",
        "# Step 1: Calculate positions of hour and minute hands\n",
        "hour_angle = (H % 12) * 30 + (M * 0.5)   # 30 degrees per hour + half degree per minute\n",
        "minute_angle = M * 6                     # 6 degrees per minute\n",
        "\n",
        "# Step 2: Find the absolute difference\n",
        "angle = abs(hour_angle - minute_angle)\n",
        "\n",
        "# Step 3: Take the smaller angle\n",
        "min_angle = min(angle, 360 - angle)\n",
        "\n",
        "# Step 4: Floor the angle\n",
        "print(int(min_angle))"
      ],
      "metadata": {
        "id": "tNBTCZML7jy_",
        "outputId": "63700c16-1b4e-4865-8a82-f840366ba4ad",
        "colab": {
          "base_uri": "https://localhost:8080/"
        }
      },
      "execution_count": 18,
      "outputs": [
        {
          "output_type": "stream",
          "name": "stdout",
          "text": [
            "Enter hour: 23\n",
            "Enter minutes: 43\n",
            "93\n"
          ]
        }
      ]
    },
    {
      "cell_type": "markdown",
      "source": [
        "###`Problem 15`:Given two rectangles, find if the given two rectangles overlap or not. A rectangle is denoted by providing the x and y coordinates of two points: the left top corner and the right bottom corner of the rectangle. Two rectangles sharing a side are considered overlapping. (L1 and R1 are the extreme points of the first rectangle and L2 and R2 are the extreme points of the second rectangle).\n",
        "\n",
        "Note: It may be assumed that the rectangles are parallel to the coordinate axis.\n",
        "\n",
        "<img src='https://www.geeksforgeeks.org/wp-content/uploads/rectanglesOverlap.png' width='300' height='200'>"
      ],
      "metadata": {
        "id": "GwacF9Co72Qc"
      }
    },
    {
      "cell_type": "code",
      "source": [
        "x1 = int(input(\"Enter x coordinate of rectangle 1: \"))\n",
        "y1 = int(input(\"Enter y coordinate of rectangle 1: \"))\n",
        "x2 = int(input(\"Enter x coordinate of rectangle 2: \"))\n",
        "y2 = int(input(\"Enter y coordinate of rectangle 2: \"))\n",
        "\n",
        "# check if 2 rectangles overlap\n",
        "\n",
        "if x1 < x2 or y1 < x2:\n",
        "  print(\"The rectangles overlap.\")\n",
        "else:\n",
        "  print(\"The rectangles do not overlap.\")"
      ],
      "metadata": {
        "id": "6rrw_lpH78Rs",
        "outputId": "3f413724-dc8d-413b-ba79-9595aa31a8cb",
        "colab": {
          "base_uri": "https://localhost:8080/"
        }
      },
      "execution_count": 19,
      "outputs": [
        {
          "output_type": "stream",
          "name": "stdout",
          "text": [
            "Enter x coordinate of rectangle 1: 12\n",
            "Enter y coordinate of rectangle 1: 31\n",
            "Enter x coordinate of rectangle 2: 3\n",
            "Enter y coordinate of rectangle 2: 11\n",
            "The rectangles do not overlap.\n"
          ]
        }
      ]
    },
    {
      "cell_type": "code",
      "source": [],
      "metadata": {
        "id": "xmnBkPwRK-Z9"
      },
      "execution_count": 19,
      "outputs": []
    }
  ]
}