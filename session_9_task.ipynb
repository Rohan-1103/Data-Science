{
  "nbformat": 4,
  "nbformat_minor": 0,
  "metadata": {
    "colab": {
      "provenance": [],
      "collapsed_sections": [
        "BCleRtX43caS",
        "KBbGNTtQ47mJ",
        "ExIxsv4y-oEd",
        "OcQhJvXVALgp",
        "sEsGEqOHCSWG",
        "v1M5Yh9ZZO0z"
      ],
      "include_colab_link": true
    },
    "kernelspec": {
      "name": "python3",
      "display_name": "Python 3"
    },
    "language_info": {
      "name": "python"
    }
  },
  "cells": [
    {
      "cell_type": "markdown",
      "metadata": {
        "id": "view-in-github",
        "colab_type": "text"
      },
      "source": [
        "<a href=\"https://colab.research.google.com/github/Rohan-1103/Data-Science/blob/main/session_9_task.ipynb\" target=\"_parent\"><img src=\"https://colab.research.google.com/assets/colab-badge.svg\" alt=\"Open In Colab\"/></a>"
      ]
    },
    {
      "cell_type": "markdown",
      "source": [
        "### `Problem-1:` Class inheritence\n",
        "\n",
        "Create a **Bus** child class that inherits from the Vehicle class. The default fare charge of any vehicle is seating capacity * 100. If Vehicle is Bus instance, we need to add an extra 10% on full fare as a maintenance charge. So total fare for bus instance will become the final amount = total fare + 10% of the total fare.\n",
        "\n",
        "Note: The bus seating capacity is 50. so the final fare amount should be 5500. You need to override the fare() method of a Vehicle class in Bus class."
      ],
      "metadata": {
        "id": "BCleRtX43caS"
      }
    },
    {
      "cell_type": "code",
      "execution_count": 1,
      "metadata": {
        "colab": {
          "base_uri": "https://localhost:8080/"
        },
        "id": "6jVFCXKz3YZI",
        "outputId": "d29f450a-d5c6-4d80-d70e-92b41365f1f9"
      },
      "outputs": [
        {
          "output_type": "stream",
          "name": "stdout",
          "text": [
            "Enter the seating capacity of vehicle.40\n",
            "Total Bus fare is:  4400.0\n",
            "Enter the seating capacity of vehicle.55\n",
            "Total vehicle fare is:  5500\n"
          ]
        }
      ],
      "source": [
        "class Vehicle:\n",
        "  def __init__(self):\n",
        "    self.seating_cap = int(input(\"Enter the seating capacity of vehicle.\"))\n",
        "\n",
        "  def fare(self):\n",
        "    return self.seating_cap * 100\n",
        "\n",
        "class Bus(Vehicle):\n",
        "  def fare(self):\n",
        "    self.__total_fair = self.seating_cap * 100\n",
        "    self.__tax = self.__total_fair * 0.1\n",
        "    return self.__total_fair + self.__tax\n",
        "\n",
        "v1 = Bus()\n",
        "print(\"Total Bus fare is: \", v1.fare())\n",
        "\n",
        "v2 = Vehicle()\n",
        "print(\"Total vehicle fare is: \", v2.fare())"
      ]
    },
    {
      "cell_type": "markdown",
      "source": [
        "### `Problem-2:` Class Inheritence\n",
        "\n",
        "Create a Bus class that inherits from the Vehicle class. Give the capacity argument of *Bus.seating_capacity()* a default value of 50.\n",
        "\n",
        "Use the following code for your parent Vehicle class."
      ],
      "metadata": {
        "id": "KBbGNTtQ47mJ"
      }
    },
    {
      "cell_type": "code",
      "source": [
        "class Vehicle:\n",
        "  def fare(self):\n",
        "    return self.seating_cap * 100\n",
        "\n",
        "class Bus(Vehicle):\n",
        "  def seating_capacity(self, seats = 50):\n",
        "    self.seating_capacity = seats\n",
        "    return self.seating_capacity\n",
        "\n",
        "  def fare(self):\n",
        "    self.__total_fair = self.seating_capacity * 100\n",
        "    self.__tax = self.__total_fair * 0.1\n",
        "    return self.__total_fair + self.__tax\n",
        "\n",
        "v2 = Bus()\n",
        "v2.seating_capacity(68)\n",
        "v2.fare()"
      ],
      "metadata": {
        "id": "MwOnYE_14M-r",
        "outputId": "b95b5f02-1b09-441a-eac7-12624ed8be45",
        "colab": {
          "base_uri": "https://localhost:8080/"
        }
      },
      "execution_count": 2,
      "outputs": [
        {
          "output_type": "execute_result",
          "data": {
            "text/plain": [
              "7480.0"
            ]
          },
          "metadata": {},
          "execution_count": 2
        }
      ]
    },
    {
      "cell_type": "markdown",
      "source": [
        "### `Problem-3:` Write a program that has a class Point. Define another class Location which has two objects (Location & Destination) of class Point. Also define a function in Location that prints the reflection of Destination on the x axis."
      ],
      "metadata": {
        "id": "ExIxsv4y-oEd"
      }
    },
    {
      "cell_type": "code",
      "source": [
        "class Point:\n",
        "    def __init__(self, x=0, y=0):\n",
        "        self.x = x\n",
        "        self.y = y\n",
        "\n",
        "    def __str__(self):\n",
        "        return f\"({self.x}, {self.y})\"\n",
        "\n",
        "\n",
        "class Location:\n",
        "    def __init__(self, location: Point, destination: Point):\n",
        "        self.location = location\n",
        "        self.destination = destination\n",
        "\n",
        "    def reflect_destination_x(self):\n",
        "        reflected_point = Point(self.destination.x, -self.destination.y)\n",
        "        print(f\"Reflection of Destination {self.destination} on x-axis is {reflected_point}\")\n",
        "\n",
        "\n",
        "loc = Point(2, 3)\n",
        "dest = Point(5, 7)\n",
        "\n",
        "place = Location(loc, dest)\n",
        "place.reflect_destination_x()"
      ],
      "metadata": {
        "id": "yT2QtzQp5VAB",
        "outputId": "91b00838-d922-42db-f97a-4f4dd8c7d2bb",
        "colab": {
          "base_uri": "https://localhost:8080/"
        }
      },
      "execution_count": 3,
      "outputs": [
        {
          "output_type": "stream",
          "name": "stdout",
          "text": [
            "Reflection of Destination (5, 7) on x-axis is (5, -7)\n"
          ]
        }
      ]
    },
    {
      "cell_type": "markdown",
      "source": [
        "### `Problem-4:` Write a program that has an abstract class Polygon. Derive two classes Rectangle and Triamgle from Polygon and write methods to get the details of their dimensions and hence calculate the area."
      ],
      "metadata": {
        "id": "OcQhJvXVALgp"
      }
    },
    {
      "cell_type": "code",
      "source": [
        "from abc import ABC, abstractclassmethod\n",
        "\n",
        "class Polygon(ABC):\n",
        "  def get_dimentions(self):\n",
        "    pass\n",
        "\n",
        "  def calculate_area(self):\n",
        "    pass\n",
        "\n",
        "class Rectangle(Polygon):\n",
        "  def get_dimentions(self):\n",
        "    self.lenght = float(input(\"Enter length of Rectangle: \"))\n",
        "    self.breadth = float(input(\"Enter breadth of Rectangle: \"))\n",
        "\n",
        "  def calculate_area(self):\n",
        "    return self.lenght * self.breadth\n",
        "\n",
        "class Triangle(Polygon):\n",
        "  def get_dimentions(self):\n",
        "    # self.height = float(input(\"Enter height of Triangle: \"))\n",
        "    # self.breadth = float(input(\"Enter breadth of Triangle: \"))\n",
        "\n",
        "    # Using Heron’s Formula\n",
        "    self.side1 = float(input(\"Enter side 1 of the Triangle: \"))\n",
        "    self.side2 = float(input(\"Enter side 2 of the Triangle: \"))\n",
        "    self.side3 = float(input(\"Enter side 3 of the Triangle: \"))\n",
        "\n",
        "  def calculate_area(self):\n",
        "    # return 1/2 * self.height * self.breadth\n",
        "\n",
        "    # Using Heron’s Formula\n",
        "    self.semi_peremeter = (self.side1 + self.side2 + self.side3) / 2\n",
        "    return (self.semi_peremeter * (self.semi_peremeter - self.side1) * (self.semi_peremeter - self.side2) * (self.semi_peremeter - self.side3)) ** 0.5\n",
        "\n",
        "p1 = Rectangle()\n",
        "p1.get_dimentions()\n",
        "print(\"Area of rectangle is: \", p1.calculate_area())\n",
        "\n",
        "p1 = Triangle()\n",
        "p1.get_dimentions()\n",
        "print(\"Area of Triangle is: \", p1.calculate_area())\n"
      ],
      "metadata": {
        "id": "9IMrtdUH__eA",
        "colab": {
          "base_uri": "https://localhost:8080/"
        },
        "outputId": "7fd8d86b-e561-4913-a5ed-67093e1fdb68"
      },
      "execution_count": 4,
      "outputs": [
        {
          "output_type": "stream",
          "name": "stdout",
          "text": [
            "Enter length of Rectangle: 31.12\n",
            "Enter breadth of Rectangle: 11.3\n",
            "Area of rectangle is:  351.656\n",
            "Enter side 1 of the Triangle: 11\n",
            "Enter side 2 of the Triangle: 31\n",
            "Enter side 3 of the Triangle: 12\n",
            "Area of Triangle is:  (9.858216568755649e-15+160.99689437998487j)\n"
          ]
        }
      ]
    },
    {
      "cell_type": "markdown",
      "source": [
        "### `Problem-5:` Write a program with class Bill. The users have the option to pay the bill either by cheque or by cash. Use the inheritance to model this situation."
      ],
      "metadata": {
        "id": "sEsGEqOHCSWG"
      }
    },
    {
      "cell_type": "code",
      "source": [
        "class Bill:\n",
        "    def __init__(self, amount):\n",
        "        self.amount = amount\n",
        "\n",
        "    def payment(self):\n",
        "        print(f\"Bill amount: ₹{self.amount}\")\n",
        "\n",
        "\n",
        "class CashPayment(Bill):\n",
        "    def __init__(self, amount):\n",
        "        super().__init__(amount)\n",
        "\n",
        "    def payment(self):\n",
        "        print(f\"Bill amount ₹{self.amount} paid in CASH.\")\n",
        "\n",
        "\n",
        "class ChequePayment(Bill):\n",
        "    def __init__(self, amount, cheque_no, bank_name):\n",
        "        super().__init__(amount)\n",
        "        self.cheque_no = cheque_no\n",
        "        self.bank_name = bank_name\n",
        "\n",
        "    def payment(self):\n",
        "        print(f\"Bill amount ₹{self.amount} paid by CHEQUE.\")\n",
        "        print(f\"Cheque No: {self.cheque_no}, Bank: {self.bank_name}\")\n",
        "\n",
        "\n",
        "# Example usage\n",
        "b1 = CashPayment(1500)\n",
        "b1.payment()\n",
        "\n",
        "b2 = ChequePayment(2500, \"123456\", \"State Bank of India\")\n",
        "b2.payment()"
      ],
      "metadata": {
        "id": "l0WFyP2PB3nf",
        "outputId": "ce818bf2-9eb9-47da-9068-2e5981f68509",
        "colab": {
          "base_uri": "https://localhost:8080/"
        }
      },
      "execution_count": 5,
      "outputs": [
        {
          "output_type": "stream",
          "name": "stdout",
          "text": [
            "Bill amount ₹1500 paid in CASH.\n",
            "Bill amount ₹2500 paid by CHEQUE.\n",
            "Cheque No: 123456, Bank: State Bank of India\n"
          ]
        }
      ]
    },
    {
      "cell_type": "markdown",
      "source": [
        "###`Q-6:` FlexibleDict\n",
        "As of now we are accessing values from dictionary with exact keys. Now we want to amend accessing values functionality. if a dict have key `1` (int) the even if we try to access values by giving `'1'` (1 as str) as key, we should get the same result and vice versa.\n",
        "\n",
        "Write a class `FlexibleDict` upon builtin `dict` class with above required functionality.\n",
        "\n",
        "Hint- `dict[key] => dict.__getitem__(key)`"
      ],
      "metadata": {
        "id": "v1M5Yh9ZZO0z"
      }
    },
    {
      "cell_type": "markdown",
      "source": [
        "Ex.\n",
        "```\n",
        "fd = FlexibleDict()\n",
        "fd['a'] = 100\n",
        "print(fd['a']) # Like regular dict\n",
        "\n",
        "fd[5] = 500\n",
        "print(fd[5]) # Like regular dict\n",
        "\n",
        "fd[1] = 100\n",
        "print(fd['1']) # actual Key is int but still trying to access through str key.\n",
        "fd['1'] = 100\n",
        "print(fd[1])\n",
        "\n",
        "```\n",
        "`Output:`\n",
        "```\n",
        "100\n",
        "500\n",
        "100\n",
        "100\n",
        "\n",
        "```"
      ],
      "metadata": {
        "id": "uajGeWegbfda"
      }
    },
    {
      "cell_type": "code",
      "source": [
        "class FlexibleDict(dict):\n",
        "    def __getitem__(self, key):\n",
        "        # Try exact key first\n",
        "        if key in self:\n",
        "            return super().__getitem__(key)\n",
        "\n",
        "        # If key is str but can be int\n",
        "        if isinstance(key, str) and key.isdigit():\n",
        "            int_key = int(key)\n",
        "            if int_key in self:\n",
        "                return super().__getitem__(int_key)\n",
        "\n",
        "        # If key is int but str version exists\n",
        "        if isinstance(key, int):\n",
        "            str_key = str(key)\n",
        "            if str_key in self:\n",
        "                return super().__getitem__(str_key)\n",
        "\n",
        "        # If nothing matches → raise KeyError\n",
        "        raise KeyError(key)\n",
        "\n",
        "    def __setitem__(self, key, value):\n",
        "        # Store exactly what is given (regular dict behavior)\n",
        "        super().__setitem__(key, value)\n",
        "\n",
        "    def __contains__(self, key):\n",
        "        if super().__contains__(key):\n",
        "            return True\n",
        "        if isinstance(key, str) and key.isdigit():\n",
        "            return int(key) in self\n",
        "        if isinstance(key, int):\n",
        "            return str(key) in self\n",
        "        return False\n"
      ],
      "metadata": {
        "id": "OHLbOtCxZ2nw"
      },
      "execution_count": 6,
      "outputs": []
    },
    {
      "cell_type": "code",
      "source": [
        "class FlexibleDict(dict):\n",
        "    def __getitem__(self, key):\n",
        "        # Check for exact key in real dict\n",
        "        if super().__contains__(key):\n",
        "            return super().__getitem__(key)\n",
        "\n",
        "        # If key is str but numeric, try int equivalent\n",
        "        if isinstance(key, str) and key.isdigit():\n",
        "            int_key = int(key)\n",
        "            if super().__contains__(int_key):\n",
        "                return super().__getitem__(int_key)\n",
        "\n",
        "        # If key is int, try str equivalent\n",
        "        if isinstance(key, int):\n",
        "            str_key = str(key)\n",
        "            if super().__contains__(str_key):\n",
        "                return super().__getitem__(str_key)\n",
        "\n",
        "        raise KeyError(key)\n",
        "\n",
        "    def __setitem__(self, key, value):\n",
        "        # Store exactly what is given\n",
        "        super().__setitem__(key, value)\n",
        "\n",
        "    def __contains__(self, key):\n",
        "        if super().__contains__(key):\n",
        "            return True\n",
        "        if isinstance(key, str) and key.isdigit():\n",
        "            return super().__contains__(int(key))\n",
        "        if isinstance(key, int):\n",
        "            return super().__contains__(str(key))\n",
        "        return False"
      ],
      "metadata": {
        "id": "jVu-12BrVK7x"
      },
      "execution_count": 7,
      "outputs": []
    },
    {
      "cell_type": "code",
      "source": [
        "fd = FlexibleDict()\n",
        "fd['a'] = 100\n",
        "print(fd['a'])    # 100 (like normal dict)\n",
        "\n",
        "fd[5] = 500\n",
        "print(fd[5])      # 500 (like normal dict)\n",
        "\n",
        "fd[1] = 100\n",
        "print(fd['1'])    # 100 (int key accessed with str)\n",
        "\n",
        "fd['1'] = 200\n",
        "print(fd[1])      # 200 (str key accessed with int)"
      ],
      "metadata": {
        "id": "7NM8r__dmeMf",
        "outputId": "5d1e2bad-b604-4784-af48-d88b393076c0",
        "colab": {
          "base_uri": "https://localhost:8080/"
        }
      },
      "execution_count": 8,
      "outputs": [
        {
          "output_type": "stream",
          "name": "stdout",
          "text": [
            "100\n",
            "500\n",
            "100\n",
            "100\n"
          ]
        }
      ]
    },
    {
      "cell_type": "code",
      "source": [],
      "metadata": {
        "id": "waHSud8Ymkz-"
      },
      "execution_count": null,
      "outputs": []
    }
  ]
}