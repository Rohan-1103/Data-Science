{
  "nbformat": 4,
  "nbformat_minor": 0,
  "metadata": {
    "colab": {
      "provenance": [],
      "include_colab_link": true
    },
    "kernelspec": {
      "name": "python3",
      "display_name": "Python 3"
    },
    "language_info": {
      "name": "python"
    }
  },
  "cells": [
    {
      "cell_type": "markdown",
      "metadata": {
        "id": "view-in-github",
        "colab_type": "text"
      },
      "source": [
        "<a href=\"https://colab.research.google.com/github/Rohan-1103/Data-Science/blob/main/session_7_task.ipynb\" target=\"_parent\"><img src=\"https://colab.research.google.com/assets/colab-badge.svg\" alt=\"Open In Colab\"/></a>"
      ]
    },
    {
      "cell_type": "markdown",
      "source": [
        "##`Q-1:` Rectangle Class\n",
        "1. Write a Rectangle class in Python language, allowing you to build a rectangle with length and width attributes.\n",
        "\n",
        "2. Create a Perimeter() method to calculate the perimeter of the rectangle and a Area() method to calculate the area of ​​the rectangle.\n",
        "\n",
        "3. Create a method display() that display the length, width, perimeter and area of an object created using an instantiation on rectangle class."
      ],
      "metadata": {
        "id": "FyUJ3PRAsPr4"
      }
    },
    {
      "cell_type": "markdown",
      "source": [
        "Eg.\n",
        "After making above classes and methods, on executing below code:-\n",
        "```\n",
        "my_rectangle = Rectangle(3 , 4)\n",
        "my_rectangle.display()\n",
        "```\n",
        "\n",
        "`Output:`\n",
        "```\n",
        "The length of rectangle is:  3\n",
        "The width of rectangle is:  4\n",
        "The perimeter of rectangle is:  14\n",
        "The area of rectangle is:  12\n",
        "```\n"
      ],
      "metadata": {
        "id": "GxUtOqJfssFK"
      }
    },
    {
      "cell_type": "code",
      "source": [
        "class Rectangle:\n",
        "\n",
        "  # def __init__(self, length, breadth):\n",
        "  def __init__(self):\n",
        "    # self.lenght = length\n",
        "    # self.breadth = breadth\n",
        "    self.length = float(input(\"Enter length of rectangle: \"))\n",
        "    self.breadth = float(input(\"Enter breadth of rectangle: \"))\n",
        "\n",
        "  def Perimeter(self, length, breadth):\n",
        "    peri = 2 * (self.length * self.breadth)\n",
        "    return peri\n",
        "\n",
        "  def Area(self, length, breadth):\n",
        "    area = self.length * self.breadth\n",
        "    return area\n",
        "\n",
        "  def display(self):\n",
        "    print(\"Perimeter of rectangle is: \", self.Perimeter(self.length, self.breadth))\n",
        "    print(\"Area of rectangle is: \", self.Area(self.length, self.breadth))\n",
        "\n",
        "r1 = Rectangle()\n",
        "r1.display()"
      ],
      "metadata": {
        "id": "92_QT-Uj6NBg",
        "colab": {
          "base_uri": "https://localhost:8080/"
        },
        "outputId": "f1ccbc2b-226d-4561-a684-38341233620c"
      },
      "execution_count": 2,
      "outputs": [
        {
          "output_type": "stream",
          "name": "stdout",
          "text": [
            "Enter length of rectangle: 11.3\n",
            "Enter breadth of rectangle: 31.12\n",
            "Perimeter of rectangle is:  703.312\n",
            "Area of rectangle is:  351.656\n"
          ]
        }
      ]
    },
    {
      "cell_type": "markdown",
      "source": [
        "##`Q-2: Bank Class`\n",
        "\n",
        "1. Create a Python class called `BankAccount` which represents a bank account, having as attributes: `accountNumber` (numeric type), `name` (name of the account owner as string type), `balance`.\n",
        "2. Create a constructor with parameters: `accountNumber, name, balance`.\n",
        "3. Create a `Deposit()` method which manages the deposit actions.\n",
        "4. Create a `Withdrawal()` method  which manages withdrawals actions.\n",
        "5. Create an `bankFees()` method to apply the bank fees with a percentage of 5% of the balance account.\n",
        "6. Create a `display()` method to display account details.\n",
        "Give the complete code for the  BankAccount class."
      ],
      "metadata": {
        "id": "r_GxrS0Vrdom"
      }
    },
    {
      "cell_type": "markdown",
      "source": [
        "Eg.\n",
        "After making above classes and methods, on executing below code:-\n",
        "```\n",
        "newAccount = BankAccount(2178514584, \"Mandy\" , 2800)\n",
        "\n",
        "newAccount.Withdrawal(700)\n",
        "\n",
        "newAccount.Deposit(1000)\n",
        "\n",
        "newAccount.display()\n",
        "```\n",
        "\n",
        "`Output:`\n",
        "```\n",
        "Account Number :  2178514584\n",
        "Account Name :  Mandy\n",
        "Account Balance :  3100 ₹\n",
        "```"
      ],
      "metadata": {
        "id": "qvVkOUJgvTV_"
      }
    },
    {
      "cell_type": "code",
      "source": [
        "class BankAccount:\n",
        "  def __init__(self, accountNumber, name, balance):\n",
        "    self.accountNumber = accountNumber\n",
        "    self.name = name\n",
        "    self.balance = balance\n",
        "\n",
        "  def Deposite(self, amount):\n",
        "    self.balance += amount\n",
        "    print(\"Balance in account after deposite of \", amount, \" is \", self.balance, \"₹\")\n",
        "\n",
        "  def Withdrawal(self, amount):\n",
        "    if self.balance < amount:\n",
        "      print(\"Not enough balance in account.\")\n",
        "    else:\n",
        "      self.balance -= amount\n",
        "      print(\"Balance in account after withdrawal of \", amount, \" is \", self.balance, \"₹\")\n",
        "\n",
        "  def bankFees(self):\n",
        "    charges = self.balance * 0.05\n",
        "    print(\"Bank fees is \", charges, \" will be deducted from your current balance.\")\n",
        "    self.balance -= charges\n",
        "    print(\"Updated balance is: \", self.balance)\n",
        "\n",
        "  def display(self):\n",
        "    print(\"Account number: \", self.accountNumber)\n",
        "    print(\"Account name: \", self.name)\n",
        "    print(\"Account balance: \", self.balance)\n",
        "\n",
        "acc1 = BankAccount(21125542, \"Rohan Goswami\", 2490)\n",
        "acc1.Deposite(2000)\n",
        "acc1.Withdrawal(450)\n",
        "acc1.bankFees()\n",
        "acc1.display()"
      ],
      "metadata": {
        "id": "fUQOmQyA6YDR",
        "colab": {
          "base_uri": "https://localhost:8080/"
        },
        "outputId": "bda2eb54-2215-447b-b71b-0e0b2f7b4c9d"
      },
      "execution_count": 3,
      "outputs": [
        {
          "output_type": "stream",
          "name": "stdout",
          "text": [
            "Balance in account after deposite of  2000  is  4490 ₹\n",
            "Balance in account after withdrawal of  450  is  4040 ₹\n",
            "Bank fees is  202.0  will be deducted from your current balance.\n",
            "Updated balance is:  3838.0\n",
            "Account number:  21125542\n",
            "Account name:  Rohan Goswami\n",
            "Account balance:  3838.0\n"
          ]
        }
      ]
    },
    {
      "cell_type": "markdown",
      "source": [
        "##`Q-3:Computation class`\n",
        "\n",
        "1. Create a `Computation` class with a default constructor (without parameters) allowing to perform various calculations on integers numbers.\n",
        "2. Create a method called `Factorial()` which allows to calculate the factorial of an integer n. Integer n as parameter for this method\n",
        "\n",
        "3. Create a method called `naturalSum()` allowing to calculate the sum of the first n integers 1 + 2 + 3 + .. + n. Integer n as parameter for this method.\n",
        "\n",
        "4. Create a method called `testPrime()` in  the Calculation class to test the primality of a given integer n, n is Prime or Not? Integer n as parameter for this method.\n",
        "\n",
        "5. Create  a method called `testPrims()` allowing to test if two numbers are prime between them. Two integers are prime to one another if they have only `1` as their common divisor. Eg. 4 and 9 are prime to each other.\n",
        "\n",
        "5. Create a `tableMult()` method which creates and displays the multiplication table of a given integer. Then create an `allTablesMult()` method to display all the integer multiplication tables 1, 2, 3, ..., 9.\n",
        "\n",
        "6. Create a static `listDiv()` method that gets all the divisors of a given integer on new list called  Ldiv. Create another `listDivPrim()` method that gets all the prime divisors of a given integer."
      ],
      "metadata": {
        "id": "QovcQAZTrgGU"
      }
    },
    {
      "cell_type": "markdown",
      "source": [
        "Sure! Here’s the same example **in short**, combining all the iterations neatly:\n",
        "\n",
        "We want `gcd(48, 18)`\n",
        "\n",
        "| Step | a  | b  | a % b | New (a, b) |\n",
        "| ---- | -- | -- | ----- | ---------- |\n",
        "| 1    | 48 | 18 | 12    | (18, 12)   |\n",
        "| 2    | 18 | 12 | 6     | (12, 6)    |\n",
        "| 3    | 12 | 6  | 0     | (6, 0)     |\n",
        "\n",
        "When `b = 0`, stop → **GCD = 6**\n",
        "\n",
        "✅ **Answer:** `gcd(48, 18) = 6`\n"
      ],
      "metadata": {
        "id": "QYuTc3uC0ZWl"
      }
    },
    {
      "cell_type": "code",
      "source": [
        "class Computation:\n",
        "    def __init__(self):\n",
        "        pass  # Nothing here except variable setup if needed\n",
        "\n",
        "# Factorial()\n",
        "    def Factorial(self, n):\n",
        "        fact = 1\n",
        "        while n > 0:\n",
        "            fact *= n\n",
        "            n -= 1\n",
        "        return f\"Factorial is: {fact}\"\n",
        "\n",
        "# naturalSum()\n",
        "    def naturalSum(self, n):\n",
        "        total = 0\n",
        "        for i in range(1, n+1):\n",
        "            total += i\n",
        "        print(f\"Natural sum of numbers from 1 to {n} is {total}\")\n",
        "\n",
        "# testPrime()\n",
        "    def testPrime(self, n):\n",
        "        if n <= 1:\n",
        "            print(\"Not a prime number.\")\n",
        "        else:\n",
        "            for i in range(2, int(n**0.5) + 1):\n",
        "                if n % i == 0:\n",
        "                    print(n, \"is not a prime number.\")\n",
        "                    break\n",
        "            else:\n",
        "                print(n, \"is a prime number.\")\n",
        "\n",
        "# testPrims()\n",
        "    def testPrims(self, n1, n2):\n",
        "        def gcd(a, b):\n",
        "            while b:\n",
        "                a, b = b, a % b\n",
        "            return a\n",
        "\n",
        "        if gcd(n1, n2) == 1:\n",
        "            print(n1, \"and\", n2, \"are prime to each other.\")\n",
        "        else:\n",
        "            print(n1, \"and\", n2, \"are not prime to each other.\")\n",
        "\n",
        "# tableMult()\n",
        "    def tableMult(self, n):\n",
        "        for i in range(1, 11):\n",
        "            print(n, \"X\", i, \"=\", n * i)\n",
        "\n",
        "# allTablesMult()\n",
        "    def allTablesMult(self):\n",
        "        for i in range(1, 10):\n",
        "            for j in range(1, 11):\n",
        "                print(j, \"X\", i, \"=\", j * i)\n",
        "            print()\n",
        "\n",
        "# listDiv()\n",
        "    def listDiv(self, n):\n",
        "        Ldiv = []\n",
        "        for i in range(1, n):\n",
        "            if n % i == 0:\n",
        "                Ldiv.append(i)\n",
        "        return Ldiv\n",
        "\n",
        "# listDivPrim()\n",
        "    def listDivPrim(self, n):\n",
        "        Ldiv = []\n",
        "        for i in range(2, n + 1):\n",
        "            if n % i == 0:\n",
        "                # check if i is prime\n",
        "                is_prime = True\n",
        "                for j in range(2, int(i**0.5) + 1):\n",
        "                    if i % j == 0:\n",
        "                        is_prime = False\n",
        "                        break\n",
        "                if is_prime:\n",
        "                    Ldiv.append(i)\n",
        "        return Ldiv\n",
        "\n",
        "\n",
        "# Main program loop\n",
        "def main():\n",
        "    comp = Computation()\n",
        "\n",
        "    while True:\n",
        "        choice = int(input(\"\"\"\n",
        "        Enter 1: To find factorials.\n",
        "        Enter 2: To find sum of n natural numbers.\n",
        "        Enter 3: To find if a number is prime or not.\n",
        "        Enter 4: To find if two numbers are co-prime or not\n",
        "        Enter 5: To get the table of a number.\n",
        "        Enter 6: To get the table of integers.\n",
        "        Enter 7: To find divisors of a number.\n",
        "        Enter 8: To find the prime divisors of a number.\n",
        "        Enter 9: Exit\n",
        "        \"\"\"))\n",
        "\n",
        "        if choice == 1:\n",
        "            n = int(input(\"Enter number: \"))\n",
        "            print(comp.Factorial(n))\n",
        "        elif choice == 2:\n",
        "            n = int(input(\"Enter number: \"))\n",
        "            comp.naturalSum(n)\n",
        "        elif choice == 3:\n",
        "            n = int(input(\"Enter number: \"))\n",
        "            comp.testPrime(n)\n",
        "        elif choice == 4:\n",
        "            n1 = int(input(\"Enter first number: \"))\n",
        "            n2 = int(input(\"Enter second number: \"))\n",
        "            comp.testPrims(n1, n2)\n",
        "        elif choice == 5:\n",
        "            n = int(input(\"Enter number: \"))\n",
        "            comp.tableMult(n)\n",
        "        elif choice == 6:\n",
        "            comp.allTablesMult()\n",
        "        elif choice == 7:\n",
        "            n = int(input(\"Enter number: \"))\n",
        "            print(\"Divisors:\", comp.listDiv(n))\n",
        "        elif choice == 8:\n",
        "            n = int(input(\"Enter number: \"))\n",
        "            print(\"Prime Divisors:\", comp.listDivPrim(n))\n",
        "        elif choice == 9:\n",
        "            print(\"Exiting program.\")\n",
        "            break\n",
        "        else:\n",
        "            print(\"Invalid choice! Try again.\")\n",
        "\n",
        "main()"
      ],
      "metadata": {
        "id": "YEkPH70l6Z-o",
        "colab": {
          "base_uri": "https://localhost:8080/"
        },
        "outputId": "0d7f727e-6fda-4ae3-e96d-e42272d44af8"
      },
      "execution_count": 4,
      "outputs": [
        {
          "output_type": "stream",
          "name": "stdout",
          "text": [
            "\n",
            "        Enter 1: To find factorials.\n",
            "        Enter 2: To find sum of n natural numbers.\n",
            "        Enter 3: To find if a number is prime or not.\n",
            "        Enter 4: To find if two numbers are co-prime or not\n",
            "        Enter 5: To get the table of a number.\n",
            "        Enter 6: To get the table of integers.\n",
            "        Enter 7: To find divisors of a number.\n",
            "        Enter 8: To find the prime divisors of a number.\n",
            "        Enter 9: Exit\n",
            "        9\n",
            "Exiting program.\n"
          ]
        }
      ]
    },
    {
      "cell_type": "markdown",
      "source": [
        "##`Q-4`: Build flashcard using class in Python.\n",
        "\n",
        "Build a flashcard using class in python. A flashcard is a card having information on both sides, which can be used as an aid in memoization. Flashcards usually have a question on one side and an answer on the other.\n",
        "\n",
        "**Example 1:**\n",
        "\n",
        "Approach:\n",
        "\n",
        "- Create a class named FlashCard.\n",
        "- Initialize dictionary fruits using __init__() method. Here you have to define fruit name as key and it's color as value. E.g., {\"Banana\": \"yellow\", \"Strawberries\": \"pink\"}\n",
        "- Now randomly choose a pair from fruits by using _random_ module and store the key in variable _fruit_ and _value_ in variable color.\n",
        "- Now prompt the user to answer the color of the randomly chosen fruit.\n",
        "- If correct print correct else print wrong.\n",
        "\n",
        "Output:\n",
        "```bash\n",
        "welcome to fruit quiz\n",
        "What is the color of Strawberries\n",
        "pink\n",
        "Correct answer\n",
        "Enter 0, if you want to play again: 0\n",
        "What is the color of watermelon\n",
        "green\n",
        "Correct answer\n",
        "Enter 0, if you want to play again: 1\n",
        "```"
      ],
      "metadata": {
        "id": "0yn23_oEriXa"
      }
    },
    {
      "cell_type": "code",
      "source": [
        "import random\n",
        "\n",
        "class FlashCard:\n",
        "  def __init__(self):\n",
        "    print(\"Welcome to fruit quiz\")\n",
        "    self.fruits = {\"Apple\": \"Red\", \"Banana\": \"Yellow\", \"Chikoo\": \"Brown\", \"Dragon Fruit\": \"Pink\", \"Grapes\": \"Green\", \"Mango\": \"Yellow\", \"Orange\": \"Orange\", \"Pear\": \"Green\"}\n",
        "\n",
        "    choice = 1\n",
        "\n",
        "    while(choice == 1):\n",
        "      self.fruit, self.value = random.choice(list(self.fruits.items()))\n",
        "\n",
        "      print(f\"What is the color of {self.fruit}: \")\n",
        "      self.user_entered = input(\"Enter your answer: \")\n",
        "\n",
        "      if self.user_entered == self.value:\n",
        "        print(\"Woohooo!!! Correct answer.\")\n",
        "      else:\n",
        "        print(\"Boooooo!!! Wrong answer.\")\n",
        "\n",
        "      choice = int(input(\"Enter 1, if you want to play again else 0: \"))\n",
        "\n",
        "game_begins = FlashCard()"
      ],
      "metadata": {
        "id": "vCrUF6VU6l6w",
        "outputId": "15182f38-9de7-49c3-9d64-6114f1e25a5c",
        "colab": {
          "base_uri": "https://localhost:8080/"
        }
      },
      "execution_count": 5,
      "outputs": [
        {
          "name": "stdout",
          "output_type": "stream",
          "text": [
            "Welcome to fruit quiz\n",
            "What is the color of Pear: \n",
            "Enter your answer: Green\n",
            "Woohooo!!! Correct answer.\n",
            "Enter 1, if you want to play again else 0: 0\n"
          ]
        }
      ]
    },
    {
      "cell_type": "code",
      "source": [
        "# Better practice\n",
        "import random\n",
        "\n",
        "class FlashCard:\n",
        "    def __init__(self):\n",
        "        print(\"Welcome to fruit quiz\")\n",
        "        self.fruits = {\n",
        "            \"Apple\": \"Red\",\n",
        "            \"Banana\": \"Yellow\",\n",
        "            \"Chikoo\": \"Brown\",\n",
        "            \"Dragon Fruit\": \"Pink\",\n",
        "            \"Grapes\": \"Green\",\n",
        "            \"Mango\": \"Yellow\",\n",
        "            \"Orange\": \"Orange\",\n",
        "            \"Pear\": \"Green\"\n",
        "        }\n",
        "        self.play_game()  # Start the game loop\n",
        "\n",
        "    def play_game(self):\n",
        "        choice = 1\n",
        "        while choice == 1:\n",
        "            fruit, color = random.choice(list(self.fruits.items()))\n",
        "            print(f\"What is the color of {fruit}?\")\n",
        "            user_entered = input(\"Enter your answer: \")\n",
        "\n",
        "            if user_entered.strip().lower() == color.lower():\n",
        "                print(\"Woohooo!!! Correct answer.\")\n",
        "            else:\n",
        "                print(f\"Boooooo!!! Wrong answer. Correct answer is {color}.\")\n",
        "\n",
        "            choice = int(input(\"Enter 1 to play again, or 0 to quit: \"))\n",
        "\n",
        "\n",
        "# Start the game\n",
        "game_begins = FlashCard()"
      ],
      "metadata": {
        "id": "7TrI_CuCDUey",
        "outputId": "b3eac74c-0974-4441-c92b-585ae4848077",
        "colab": {
          "base_uri": "https://localhost:8080/"
        }
      },
      "execution_count": 7,
      "outputs": [
        {
          "name": "stdout",
          "output_type": "stream",
          "text": [
            "Welcome to fruit quiz\n",
            "What is the color of Chikoo?\n",
            "Enter your answer: Brown\n",
            "Woohooo!!! Correct answer.\n",
            "Enter 1 to play again, or 0 to quit: 0\n"
          ]
        }
      ]
    },
    {
      "cell_type": "markdown",
      "source": [
        "## `Q-5:` Problem 5 based on OOP Python.\n",
        "\n",
        "TechWorld, a technology training center, wants to allocate courses for instructors. An instructor is identified by name, technology skills, experience and average feedback. An instructor is allocated a course, if he/she satisfies the below two conditions:\n",
        "- eligibility criteria:\n",
        "    - if experience is more than 3 years, average feedback should be 4.5 or more\n",
        "    - if experience is 3 years or less, average feedback should be 4 or more\n",
        "- he/she should posses the technology skill for the course\n",
        "\n",
        "Identify the class name and attributes to represent instructors. Write a Python program to implement the class chosen with its attributes and methods.\n",
        "\n",
        "**Note:**\n",
        "- Consider all instance variables to be private and methods to be public.\n",
        "- An instructor may have multiple technology skills, so consider instance variable, technology_skill to be a list.\n",
        "- *check_eligibility()*: Return true if eligibility criteria is satisfied by the instructor. Else, return false\n",
        "- *allocate_course(technology)*: Return true if the course which requires the given technology can be allocated to the instructor. Else, return false.\n",
        "\n",
        "Represent a few objects of the class, initialize instance variables using setter methods, invoke\n",
        "appropriate methods and test your program."
      ],
      "metadata": {
        "id": "GN2r0jbRewYr"
      }
    },
    {
      "cell_type": "code",
      "source": [
        "class Instructor:\n",
        "    def __init__(self):\n",
        "        self._name = \"\"\n",
        "        self._exp = 0\n",
        "        self._skills = []\n",
        "        self._feedback = 0.0\n",
        "\n",
        "    # Setter methods\n",
        "    def set_name(self, name):\n",
        "        self._name = name\n",
        "\n",
        "    def set_experience(self, exp):\n",
        "        self._exp = exp\n",
        "\n",
        "    def set_skills(self, skills_list):\n",
        "        self._skills = skills_list\n",
        "\n",
        "    def set_feedback(self, feedback):\n",
        "        self._feedback = feedback\n",
        "\n",
        "    # Check eligibility\n",
        "    def check_eligibility(self):\n",
        "        if self._exp > 3 and self._feedback >= 4.5:\n",
        "            return True\n",
        "        elif self._exp <= 3 and self._feedback >= 4:\n",
        "            return True\n",
        "        else:\n",
        "            return False\n",
        "\n",
        "    # Allocate course\n",
        "    def allocate_course(self, technology):\n",
        "        if self.check_eligibility() and technology in self._skills:\n",
        "            return True\n",
        "        return False\n",
        "\n",
        "\n",
        "inst1 = Instructor()\n",
        "inst1.set_name(\"Rohan\")\n",
        "inst1.set_experience(4)\n",
        "inst1.set_skills([\"Python\", \"Data Science\", \"SQL\"])\n",
        "inst1.set_feedback(4.6)\n",
        "\n",
        "inst2 = Instructor()\n",
        "inst2.set_name(\"Akash\")\n",
        "inst2.set_experience(2)\n",
        "inst2.set_skills([\"Java\", \"C++\"])\n",
        "inst2.set_feedback(3.9)\n",
        "\n",
        "print(f\"{inst1._name} Eligible? {inst1.check_eligibility()}\")\n",
        "print(f\"Can allocate Python? {inst1.allocate_course('Python')}\")\n",
        "\n",
        "print(f\"{inst2._name} Eligible? {inst2.check_eligibility()}\")\n",
        "print(f\"Can allocate Java? {inst2.allocate_course('Java')}\")"
      ],
      "metadata": {
        "id": "pdMFuVFnlvKL",
        "colab": {
          "base_uri": "https://localhost:8080/"
        },
        "outputId": "0bd7ca8f-ee51-417d-ab20-bfd4ad616134"
      },
      "execution_count": 8,
      "outputs": [
        {
          "output_type": "stream",
          "name": "stdout",
          "text": [
            "Rohan Eligible? True\n",
            "Can allocate Python? True\n",
            "Akash Eligible? False\n",
            "Can allocate Java? False\n"
          ]
        }
      ]
    },
    {
      "cell_type": "code",
      "source": [],
      "metadata": {
        "id": "lXcQ-2BBQmJB"
      },
      "execution_count": null,
      "outputs": []
    }
  ]
}