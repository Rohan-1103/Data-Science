{
  "cells": [
    {
      "cell_type": "markdown",
      "metadata": {
        "id": "view-in-github",
        "colab_type": "text"
      },
      "source": [
        "<a href=\"https://colab.research.google.com/github/Rohan-1103/Data-Science/blob/main/Session12_generators_demo.ipynb\" target=\"_parent\"><img src=\"https://colab.research.google.com/assets/colab-badge.svg\" alt=\"Open In Colab\"/></a>"
      ]
    },
    {
      "cell_type": "markdown",
      "id": "905a4e72",
      "metadata": {
        "id": "905a4e72"
      },
      "source": [
        "## What is a Generator\n",
        "\n",
        "Python generators are a simple way of creating iterators."
      ]
    },
    {
      "cell_type": "code",
      "execution_count": 1,
      "id": "478a2bbc",
      "metadata": {
        "id": "478a2bbc"
      },
      "outputs": [],
      "source": [
        "# iterable\n",
        "class mera_range:\n",
        "    def __init__(self,start,end):\n",
        "        self.start = start\n",
        "        self.end = end\n",
        "\n",
        "    def __iter__(self):\n",
        "        return mera_iterator(self)\n",
        "\n",
        "\n",
        "# iterator\n",
        "class mera_iterator:\n",
        "    def __init__(self,iterable_obj):\n",
        "        self.iterable = iterable_obj\n",
        "\n",
        "    def __iter__(self):\n",
        "        return self\n",
        "\n",
        "    def __next__(self):\n",
        "\n",
        "        if self.iterable.start >= self.iterable.end:\n",
        "            raise StopIteration\n",
        "\n",
        "        current = self.iterable.start\n",
        "        self.iterable.start+=1\n",
        "        return current"
      ]
    },
    {
      "cell_type": "markdown",
      "id": "fd44bc77",
      "metadata": {
        "id": "fd44bc77"
      },
      "source": [
        "## The Why"
      ]
    },
    {
      "cell_type": "code",
      "execution_count": 4,
      "id": "ea3d5fa3",
      "metadata": {
        "colab": {
          "base_uri": "https://localhost:8080/"
        },
        "id": "ea3d5fa3",
        "outputId": "3e2b3829-9817-4901-bb57-a67b44645f3b"
      },
      "outputs": [
        {
          "output_type": "stream",
          "name": "stdout",
          "text": [
            "781.4478048780488\n"
          ]
        },
        {
          "output_type": "execute_result",
          "data": {
            "text/plain": [
              "48"
            ]
          },
          "metadata": {},
          "execution_count": 4
        }
      ],
      "source": [
        "L = [x for x in range(100000)]\n",
        "\n",
        "#for i in L:\n",
        "    #print(i**2)\n",
        "\n",
        "import sys\n",
        "print(sys.getsizeof(L)/1025)\n",
        "\n",
        "x = range(10000000)\n",
        "\n",
        "#for i in x:\n",
        "    #print(i**2)\n",
        "sys.getsizeof(x)"
      ]
    },
    {
      "cell_type": "markdown",
      "id": "b22fe091",
      "metadata": {
        "id": "b22fe091"
      },
      "source": [
        "## A Simple Example"
      ]
    },
    {
      "cell_type": "code",
      "execution_count": 5,
      "id": "43d4ce12",
      "metadata": {
        "id": "43d4ce12"
      },
      "outputs": [],
      "source": [
        "def gen_demo():\n",
        "    yield \"first statement\"\n",
        "    yield \"second statement\"\n",
        "    yield \"third statement\""
      ]
    },
    {
      "cell_type": "code",
      "execution_count": 6,
      "id": "92d9a52e",
      "metadata": {
        "colab": {
          "base_uri": "https://localhost:8080/"
        },
        "id": "92d9a52e",
        "outputId": "92555f26-6f52-491b-93f2-da32664fb00e"
      },
      "outputs": [
        {
          "output_type": "stream",
          "name": "stdout",
          "text": [
            "first statement\n",
            "second statement\n",
            "third statement\n"
          ]
        }
      ],
      "source": [
        "gen = gen_demo()\n",
        "\n",
        "for i in gen:\n",
        "    print(i)"
      ]
    },
    {
      "cell_type": "markdown",
      "id": "75eb3d2b",
      "metadata": {
        "id": "75eb3d2b"
      },
      "source": [
        "## Python Tutor Demo (yield vs return)"
      ]
    },
    {
      "cell_type": "markdown",
      "id": "f86e2b35",
      "metadata": {
        "id": "f86e2b35"
      },
      "source": [
        "## Example 2"
      ]
    },
    {
      "cell_type": "code",
      "execution_count": 7,
      "id": "2f8dd2d8",
      "metadata": {
        "id": "2f8dd2d8"
      },
      "outputs": [],
      "source": [
        "def square(num):\n",
        "    for i in range(1,num+1):\n",
        "        yield i**2"
      ]
    },
    {
      "cell_type": "code",
      "execution_count": 9,
      "id": "aff6cee4",
      "metadata": {
        "colab": {
          "base_uri": "https://localhost:8080/"
        },
        "id": "aff6cee4",
        "outputId": "ea98202a-3373-4f44-9ca9-e01373209b8d"
      },
      "outputs": [
        {
          "output_type": "stream",
          "name": "stdout",
          "text": [
            "alag se 1\n",
            "alag se 4\n",
            "alag se 9\n",
            "16\n",
            "25\n",
            "36\n",
            "49\n",
            "64\n",
            "81\n",
            "100\n"
          ]
        }
      ],
      "source": [
        "gen = square(10)\n",
        "\n",
        "print(\"alag se\", next(gen))\n",
        "print(\"alag se\", next(gen))\n",
        "print(\"alag se\", next(gen))\n",
        "\n",
        "for i in gen:\n",
        "    print(i)"
      ]
    },
    {
      "cell_type": "markdown",
      "id": "875edb12",
      "metadata": {
        "id": "875edb12"
      },
      "source": [
        "## Range Function using Generator"
      ]
    },
    {
      "cell_type": "code",
      "execution_count": 10,
      "id": "14721877",
      "metadata": {
        "id": "14721877"
      },
      "outputs": [],
      "source": [
        "def mera_range(start,end):\n",
        "    for i in range(start,end):\n",
        "        yield i"
      ]
    },
    {
      "cell_type": "code",
      "execution_count": 11,
      "id": "7f438fad",
      "metadata": {
        "colab": {
          "base_uri": "https://localhost:8080/"
        },
        "id": "7f438fad",
        "outputId": "5bdc5497-6bbd-4b3b-8c2e-13c688a5d215"
      },
      "outputs": [
        {
          "output_type": "stream",
          "name": "stdout",
          "text": [
            "15\n",
            "16\n",
            "17\n",
            "18\n",
            "19\n",
            "20\n",
            "21\n",
            "22\n",
            "23\n",
            "24\n",
            "25\n"
          ]
        }
      ],
      "source": [
        "for i in mera_range(15,26):\n",
        "    print(i)"
      ]
    },
    {
      "cell_type": "markdown",
      "id": "406188e0",
      "metadata": {
        "id": "406188e0"
      },
      "source": [
        "## Generator Expression"
      ]
    },
    {
      "cell_type": "code",
      "execution_count": 12,
      "id": "722796db",
      "metadata": {
        "id": "722796db"
      },
      "outputs": [],
      "source": [
        "# list comprehension\n",
        "L = [i**2 for i in range(1,101)]"
      ]
    },
    {
      "cell_type": "code",
      "execution_count": 13,
      "id": "cc01bd9d",
      "metadata": {
        "colab": {
          "base_uri": "https://localhost:8080/"
        },
        "id": "cc01bd9d",
        "outputId": "53bddac5-4d42-4aab-941c-b22dab311c88"
      },
      "outputs": [
        {
          "output_type": "stream",
          "name": "stdout",
          "text": [
            "1\n",
            "4\n",
            "9\n",
            "16\n",
            "25\n",
            "36\n",
            "49\n",
            "64\n",
            "81\n",
            "100\n",
            "121\n",
            "144\n",
            "169\n",
            "196\n",
            "225\n",
            "256\n",
            "289\n",
            "324\n",
            "361\n",
            "400\n",
            "441\n",
            "484\n",
            "529\n",
            "576\n",
            "625\n",
            "676\n",
            "729\n",
            "784\n",
            "841\n",
            "900\n",
            "961\n",
            "1024\n",
            "1089\n",
            "1156\n",
            "1225\n",
            "1296\n",
            "1369\n",
            "1444\n",
            "1521\n",
            "1600\n",
            "1681\n",
            "1764\n",
            "1849\n",
            "1936\n",
            "2025\n",
            "2116\n",
            "2209\n",
            "2304\n",
            "2401\n",
            "2500\n",
            "2601\n",
            "2704\n",
            "2809\n",
            "2916\n",
            "3025\n",
            "3136\n",
            "3249\n",
            "3364\n",
            "3481\n",
            "3600\n",
            "3721\n",
            "3844\n",
            "3969\n",
            "4096\n",
            "4225\n",
            "4356\n",
            "4489\n",
            "4624\n",
            "4761\n",
            "4900\n",
            "5041\n",
            "5184\n",
            "5329\n",
            "5476\n",
            "5625\n",
            "5776\n",
            "5929\n",
            "6084\n",
            "6241\n",
            "6400\n",
            "6561\n",
            "6724\n",
            "6889\n",
            "7056\n",
            "7225\n",
            "7396\n",
            "7569\n",
            "7744\n",
            "7921\n",
            "8100\n",
            "8281\n",
            "8464\n",
            "8649\n",
            "8836\n",
            "9025\n",
            "9216\n",
            "9409\n",
            "9604\n",
            "9801\n",
            "10000\n"
          ]
        }
      ],
      "source": [
        "gen = (i**2 for i in range(1,101))\n",
        "\n",
        "for i in gen:\n",
        "    print(i)"
      ]
    },
    {
      "cell_type": "markdown",
      "id": "0c7d14fc",
      "metadata": {
        "id": "0c7d14fc"
      },
      "source": [
        "## Practical Example"
      ]
    },
    {
      "cell_type": "code",
      "execution_count": 14,
      "id": "b03eb0a7",
      "metadata": {
        "id": "b03eb0a7"
      },
      "outputs": [],
      "source": [
        "import os\n",
        "import cv2\n",
        "\n",
        "def image_data_reader(folder_path):\n",
        "    for file in os.listdir(folder_path):\n",
        "        f_array = cv2.imread(os.path.join(folder_path,file))\n",
        "        yield f_array"
      ]
    },
    {
      "cell_type": "code",
      "execution_count": 18,
      "id": "c0ccdc67",
      "metadata": {
        "id": "c0ccdc67"
      },
      "outputs": [],
      "source": [
        "# gen = image_data_reader('C:/Users/Rohan/Pictures/Screenshots')\n",
        "\n",
        "# next(gen)\n",
        "# next(gen)\n",
        "\n",
        "# next(gen)\n",
        "# next(gen)"
      ]
    },
    {
      "cell_type": "markdown",
      "id": "8cb79570",
      "metadata": {
        "id": "8cb79570"
      },
      "source": [
        "## Benefits of using a Generator"
      ]
    },
    {
      "cell_type": "markdown",
      "id": "3329b0d1",
      "metadata": {
        "id": "3329b0d1"
      },
      "source": [
        "#### 1. Ease of Implementation"
      ]
    },
    {
      "cell_type": "code",
      "execution_count": 19,
      "id": "a1cae9cd",
      "metadata": {
        "id": "a1cae9cd"
      },
      "outputs": [],
      "source": [
        "class mera_range:\n",
        "\n",
        "    def __init__(self,start,end):\n",
        "        self.start = start\n",
        "        self.end = end\n",
        "\n",
        "    def __iter__(self):\n",
        "        return mera_iterator(self)"
      ]
    },
    {
      "cell_type": "code",
      "execution_count": 20,
      "id": "a16123e0",
      "metadata": {
        "id": "a16123e0"
      },
      "outputs": [],
      "source": [
        "# iterator\n",
        "class mera_iterator:\n",
        "\n",
        "    def __init__(self,iterable_obj):\n",
        "        self.iterable = iterable_obj\n",
        "\n",
        "    def __iter__(self):\n",
        "        return self\n",
        "\n",
        "    def __next__(self):\n",
        "\n",
        "        if self.iterable.start >= self.iterable.end:\n",
        "            raise StopIteration\n",
        "\n",
        "        current = self.iterable.start\n",
        "        self.iterable.start+=1\n",
        "        return current"
      ]
    },
    {
      "cell_type": "code",
      "execution_count": 21,
      "id": "999b118f",
      "metadata": {
        "id": "999b118f"
      },
      "outputs": [],
      "source": [
        "def mera_range(start,end):\n",
        "\n",
        "    for i in range(start,end):\n",
        "        yield i"
      ]
    },
    {
      "cell_type": "markdown",
      "id": "1cee95cb",
      "metadata": {
        "id": "1cee95cb"
      },
      "source": [
        "#### 2. Memory Efficient"
      ]
    },
    {
      "cell_type": "code",
      "execution_count": 22,
      "id": "d9886270",
      "metadata": {
        "colab": {
          "base_uri": "https://localhost:8080/"
        },
        "id": "d9886270",
        "outputId": "7d2ebd5f-0362-493a-fd40-b7969fbdf58b"
      },
      "outputs": [
        {
          "output_type": "stream",
          "name": "stdout",
          "text": [
            "Size of L in memory 800984\n",
            "Size of gen in memory 200\n"
          ]
        }
      ],
      "source": [
        "L = [x for x in range(100000)]\n",
        "gen = (x for x in range(100000))\n",
        "\n",
        "import sys\n",
        "\n",
        "print('Size of L in memory',sys.getsizeof(L))\n",
        "print('Size of gen in memory',sys.getsizeof(gen))"
      ]
    },
    {
      "cell_type": "markdown",
      "id": "5d7c5229",
      "metadata": {
        "id": "5d7c5229"
      },
      "source": [
        "#### 3. Representing Infinite Streams"
      ]
    },
    {
      "cell_type": "code",
      "execution_count": 23,
      "id": "a144da66",
      "metadata": {
        "id": "a144da66"
      },
      "outputs": [],
      "source": [
        "def all_even():\n",
        "    n = 0\n",
        "    while True:\n",
        "        yield n\n",
        "        n += 2"
      ]
    },
    {
      "cell_type": "code",
      "execution_count": 24,
      "id": "04b11520",
      "metadata": {
        "colab": {
          "base_uri": "https://localhost:8080/"
        },
        "id": "04b11520",
        "outputId": "e3f9d466-299e-480d-ad2b-45f1cd722d57"
      },
      "outputs": [
        {
          "output_type": "execute_result",
          "data": {
            "text/plain": [
              "2"
            ]
          },
          "metadata": {},
          "execution_count": 24
        }
      ],
      "source": [
        "even_num_gen = all_even()\n",
        "next(even_num_gen)\n",
        "next(even_num_gen)"
      ]
    },
    {
      "cell_type": "markdown",
      "id": "e80fec2f",
      "metadata": {
        "id": "e80fec2f"
      },
      "source": [
        "#### 4. Chaining Generators"
      ]
    },
    {
      "cell_type": "code",
      "execution_count": 25,
      "id": "fc9972b1",
      "metadata": {
        "colab": {
          "base_uri": "https://localhost:8080/"
        },
        "id": "fc9972b1",
        "outputId": "670ae685-031e-42e9-d3b6-1a287bb8496c"
      },
      "outputs": [
        {
          "output_type": "stream",
          "name": "stdout",
          "text": [
            "4895\n"
          ]
        }
      ],
      "source": [
        "def fibonacci_numbers(nums):\n",
        "    x, y = 0, 1\n",
        "    for _ in range(nums):\n",
        "        x, y = y, x+y\n",
        "        yield x\n",
        "\n",
        "def square(nums):\n",
        "    for num in nums:\n",
        "        yield num**2\n",
        "\n",
        "print(sum(square(fibonacci_numbers(10))))"
      ]
    },
    {
      "cell_type": "code",
      "execution_count": null,
      "id": "0558f0f9",
      "metadata": {
        "id": "0558f0f9"
      },
      "outputs": [],
      "source": []
    }
  ],
  "metadata": {
    "kernelspec": {
      "display_name": "Python 3",
      "language": "python",
      "name": "python3"
    },
    "language_info": {
      "codemirror_mode": {
        "name": "ipython",
        "version": 3
      },
      "file_extension": ".py",
      "mimetype": "text/x-python",
      "name": "python",
      "nbconvert_exporter": "python",
      "pygments_lexer": "ipython3",
      "version": "3.8.8"
    },
    "colab": {
      "provenance": [],
      "include_colab_link": true
    }
  },
  "nbformat": 4,
  "nbformat_minor": 5
}