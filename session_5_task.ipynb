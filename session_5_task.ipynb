{
  "nbformat": 4,
  "nbformat_minor": 0,
  "metadata": {
    "colab": {
      "provenance": [],
      "include_colab_link": true
    },
    "kernelspec": {
      "name": "python3",
      "display_name": "Python 3"
    },
    "language_info": {
      "name": "python"
    }
  },
  "cells": [
    {
      "cell_type": "markdown",
      "metadata": {
        "id": "view-in-github",
        "colab_type": "text"
      },
      "source": [
        "<a href=\"https://colab.research.google.com/github/Rohan-1103/Data-Science/blob/main/session_5_task.ipynb\" target=\"_parent\"><img src=\"https://colab.research.google.com/assets/colab-badge.svg\" alt=\"Open In Colab\"/></a>"
      ]
    },
    {
      "cell_type": "markdown",
      "source": [
        "# Tuple\n"
      ],
      "metadata": {
        "id": "limD5IAfl-tz"
      }
    },
    {
      "cell_type": "markdown",
      "source": [
        "###`Q1:` Join Tuples if similar initial element\n",
        "While working with Python tuples, we can have a problem in which we need to perform concatenation of records from the similarity of initial element. This problem can have applications in data domains such as Data Science.\n",
        "\n",
        "For eg.\n",
        "```\n",
        "Input  : test_list = [(5, 6), (5, 7), (5, 8), (6, 10), (7, 13)]\n",
        "Output : [(5, 6, 7, 8), (6, 10), (7, 13)]\n",
        "```"
      ],
      "metadata": {
        "id": "nSTn3CjbmB7q"
      }
    },
    {
      "cell_type": "code",
      "source": [
        "test_list = [(5, 6), (5, 7), (5, 8), (6, 10), (7, 13)]\n",
        "result_list = []\n",
        "\n",
        "for i in range(len(test_list)):\n",
        "  result_list.append(test_list[i])\n",
        "  if result_list[-1][0] == test_list[i][0]:\n",
        "    # result_list[i] += (test_list[i+1])\n",
        "    result_list[-1] += (test_list[i][1],)\n",
        "print(result_list)"
      ],
      "metadata": {
        "id": "hwVeEvH9rJzU",
        "colab": {
          "base_uri": "https://localhost:8080/"
        },
        "outputId": "2ec5854a-ea27-4b67-85e5-fa47e83a1f1a"
      },
      "execution_count": 3,
      "outputs": [
        {
          "output_type": "stream",
          "name": "stdout",
          "text": [
            "[(5, 6, 6), (5, 7, 7), (5, 8, 8), (6, 10, 10), (7, 13, 13)]\n"
          ]
        }
      ]
    },
    {
      "cell_type": "code",
      "source": [
        "test_list = [(5, 6), (5, 7), (5, 8), (6, 10), (7, 13)]\n",
        "result_list = []\n",
        "\n",
        "for i in range(len(test_list)):\n",
        "    if result_list and result_list[-1][0] == test_list[i][0]:\n",
        "        # merge with the last tuple in result_list\n",
        "        result_list[-1] += (test_list[i][1],)\n",
        "    else:\n",
        "        # start a new group\n",
        "        result_list.append(test_list[i])\n",
        "\n",
        "print(result_list)"
      ],
      "metadata": {
        "colab": {
          "base_uri": "https://localhost:8080/"
        },
        "id": "hGJIuJe-X42J",
        "outputId": "25d43d6e-c838-4817-f78b-dd2097c6157f"
      },
      "execution_count": 4,
      "outputs": [
        {
          "output_type": "stream",
          "name": "stdout",
          "text": [
            "[(5, 6, 7, 8), (6, 10), (7, 13)]\n"
          ]
        }
      ]
    },
    {
      "cell_type": "markdown",
      "source": [
        "###`Q2:` Multiply Adjacent elements (both side) and take sum of right and lest side multiplication result.\n",
        "\n",
        "\n",
        "For eg.\n",
        "```\n",
        "The original tuple : (1, 5, 7, 8, 10)\n",
        "Resultant tuple after multiplication :\n",
        "\n",
        "(1*5, 1*5+5*7, 7*5 + 7*8, 8*7 + 8*10, 10*8) -> (5, 40, 91, 136, 80)\n",
        "\n",
        "output-(5, 40, 91, 136, 80)\n",
        "```"
      ],
      "metadata": {
        "id": "ujQpZOFFmeha"
      }
    },
    {
      "cell_type": "code",
      "source": [
        "tup = (1, 5, 7, 8, 10)\n",
        "\n",
        "sum = 1\n",
        "result = []\n",
        "\n",
        "for i in range(len(tup)-1):\n",
        "  if(tup[i+1]):\n",
        "    sum = tup[i]*tup[i+1] + tup[i-1] * tup[i]\n",
        "    result.append(sum)\n",
        "  elif(tup[i-1]):\n",
        "    # sum = tup[i-1]*tup[i] + tup[i]*tup[i+1]\n",
        "    sum = tup[i-1]*tup[i]\n",
        "    result.append(sum)\n",
        "  else:\n",
        "    sum = tup[i-1]*tup[i]\n",
        "    # result += sum\n",
        "    result.append(sum)\n",
        "\n",
        "print(result)"
      ],
      "metadata": {
        "colab": {
          "base_uri": "https://localhost:8080/"
        },
        "id": "pAPeoVKyeQdO",
        "outputId": "a8b77fe1-251a-4829-ffda-a2642a8985c7"
      },
      "execution_count": 5,
      "outputs": [
        {
          "output_type": "stream",
          "name": "stdout",
          "text": [
            "[15, 40, 91, 136]\n"
          ]
        }
      ]
    },
    {
      "cell_type": "code",
      "source": [
        "tup = (1, 5, 7, 8, 10)\n",
        "result = []\n",
        "\n",
        "for i in range(len(tup)):\n",
        "    if i == 0:  # first element\n",
        "        result.append(tup[i] * tup[i+1])\n",
        "    elif i == len(tup) - 1:  # last element\n",
        "        result.append(tup[i] * tup[i-1])\n",
        "    else:  # middle elements\n",
        "        result.append(tup[i] * tup[i-1] + tup[i] * tup[i+1])\n",
        "\n",
        "print(tuple(result))"
      ],
      "metadata": {
        "id": "N9lveEsArNVc",
        "colab": {
          "base_uri": "https://localhost:8080/"
        },
        "outputId": "5377f5a1-8057-4761-b80c-ea5380e0fc76"
      },
      "execution_count": 6,
      "outputs": [
        {
          "output_type": "stream",
          "name": "stdout",
          "text": [
            "(5, 40, 91, 136, 80)\n"
          ]
        }
      ]
    },
    {
      "cell_type": "markdown",
      "source": [
        "###`Q3`: Check is tuples are same or not?\n",
        "Two tuples would be same if both tuples have same element at same index\n",
        "```\n",
        "t1 = (1,2,3,0)\n",
        "t2 = (0,1,2,3)\n",
        "\n",
        "t1 and t2 are not same\n",
        "```"
      ],
      "metadata": {
        "id": "x0psnUiu2ZVp"
      }
    },
    {
      "cell_type": "code",
      "source": [
        "t1 = (1,2,3,0)\n",
        "t2 = (0,1,2,3)\n",
        "if t1 == t2:\n",
        "  print(\"t1 and t2 are same.\")\n",
        "else:\n",
        "  print(\"t1 and t2 are not same.\")"
      ],
      "metadata": {
        "id": "JMVw9EhSrPEc",
        "colab": {
          "base_uri": "https://localhost:8080/"
        },
        "outputId": "20a7254a-41a1-4391-dc7a-269caecf6716"
      },
      "execution_count": 7,
      "outputs": [
        {
          "output_type": "stream",
          "name": "stdout",
          "text": [
            "t1 and t2 are not same.\n"
          ]
        }
      ]
    },
    {
      "cell_type": "markdown",
      "source": [
        "###`Q4`: Count no of tuples, list and set from a list\n",
        "```\n",
        "list1 = [{'hi', 'bye'},{'Geeks', 'forGeeks'},('a', 'b'),['hi', 'bye'],['a', 'b']]\n",
        "\n",
        "```\n",
        "`Output:`\n",
        "\n",
        "```\n",
        "List-2\n",
        "Set-2\n",
        "Tuples-1\n",
        "```"
      ],
      "metadata": {
        "id": "aZ4rObHK4fCN"
      }
    },
    {
      "cell_type": "code",
      "source": [
        "list1 = [{'hi', 'bye'},{'Geeks', 'forGeeks'},('a', 'b'),['hi', 'bye'],['a', 'b']]\n",
        "\n",
        "List, Set, Tuples = (0, 0, 0)\n",
        "\n",
        "for i in list1:\n",
        "  if type(i) == tuple:\n",
        "    Tuples += 1\n",
        "  if type(i) == list:\n",
        "    List += 1\n",
        "  if type(i) == set:\n",
        "    Set += 1\n",
        "\n",
        "print(\"List-\",List)\n",
        "print(\"Set-\",Set)\n",
        "print(\"Tuples-\",Tuples)"
      ],
      "metadata": {
        "id": "g_Bnuczk69tG",
        "colab": {
          "base_uri": "https://localhost:8080/"
        },
        "outputId": "b9a1da7e-7f88-4bec-a911-f5bba089617a"
      },
      "execution_count": 8,
      "outputs": [
        {
          "output_type": "stream",
          "name": "stdout",
          "text": [
            "List- 2\n",
            "Set- 2\n",
            "Tuples- 1\n"
          ]
        }
      ]
    },
    {
      "cell_type": "markdown",
      "source": [
        "###`Q5`: Shortlist Students for a Job role\n",
        "Ask user to input students record and store in tuples for each record. Then Ask user to input three things he wants in the candidate- Primary Skill, Higher Education, Year of Graduation.\n",
        "\n",
        "Show every students record in form of tuples if matches all required criteria.\n",
        "\n",
        "It is assumed that there will be only one primry skill.\n",
        "\n",
        "If no such candidate found, print `No such candidate`\n",
        "\n",
        "`Input:`\n",
        "```\n",
        "Enter No of records- 2\n",
        "Enter Details of student-1\n",
        "Enter Student name- Manohar\n",
        "Enter Higher Education- B.Tech\n",
        "Enter Primary Skill- Python\n",
        "Enter Year of Graduation- 2022\n",
        "Enter Details of student-2\n",
        "Enter Student name- Ponian\n",
        "Enter Higher Education- B.Sc.\n",
        "Enter Primary Skill- C++\n",
        "Enter Year of Graduation- 2020\n",
        "\n",
        "Enter Job Role Requirement\n",
        "Enter Skill- Python\n",
        "Enter Higher Education- B.Tech\n",
        "Enter Year of Graduation- 2022\n",
        "```\n",
        "\n",
        "`Output`\n",
        "```\n",
        "('Manohar', 'B.tech', 'Python', '2022')\n",
        "```\n"
      ],
      "metadata": {
        "id": "jInFNuit8hf1"
      }
    },
    {
      "cell_type": "code",
      "source": [
        "# Input number of student records\n",
        "n = int(input(\"Enter No of records- \"))\n",
        "\n",
        "students = []\n",
        "\n",
        "# Taking student records\n",
        "for i in range(1, n+1):\n",
        "    print(f\"Enter Details of student-{i}\")\n",
        "    name = input(\"Enter Student name- \")\n",
        "    edu = input(\"Enter Higher Education- \")\n",
        "    skill = input(\"Enter Primary Skill- \")\n",
        "    grad_year = input(\"Enter Year of Graduation- \")\n",
        "\n",
        "    students.append((name, edu, skill, grad_year))\n",
        "\n",
        "# Job role requirement\n",
        "print(\"\\nEnter Job Role Requirement\")\n",
        "req_skill = input(\"Enter Skill- \")\n",
        "req_edu = input(\"Enter Higher Education- \")\n",
        "req_grad_year = input(\"Enter Year of Graduation- \")\n",
        "\n",
        "# Filtering students\n",
        "matches = [\n",
        "    student for student in students\n",
        "    if student[1].lower() == req_edu.lower()\n",
        "    and student[2].lower() == req_skill.lower()\n",
        "    and student[3] == req_grad_year\n",
        "]\n",
        "\n",
        "# Output results\n",
        "if matches:\n",
        "    for match in matches:\n",
        "        print(match)\n",
        "else:\n",
        "    print(\"No such candidate\")\n"
      ],
      "metadata": {
        "id": "erh9QZaerSHk",
        "colab": {
          "base_uri": "https://localhost:8080/"
        },
        "outputId": "14d356c2-d49d-4e49-e86c-6399560919db"
      },
      "execution_count": 9,
      "outputs": [
        {
          "output_type": "stream",
          "name": "stdout",
          "text": [
            "Enter No of records- 0\n",
            "\n",
            "Enter Job Role Requirement\n",
            "Enter Skill- 0\n",
            "Enter Higher Education- 0\n",
            "Enter Year of Graduation- 0\n",
            "No such candidate\n"
          ]
        }
      ]
    },
    {
      "cell_type": "markdown",
      "source": [
        "# Set"
      ],
      "metadata": {
        "id": "l4hLvwD2BeIN"
      }
    },
    {
      "cell_type": "markdown",
      "source": [
        "###`Q1:` Write a program to find set of common elements in three lists using sets.\n",
        "```\n",
        "Input : ar1 = [1, 5, 10, 20, 40, 80]\n",
        "        ar2 = [6, 7, 20, 80, 100]\n",
        "        ar3 = [3, 4, 15, 20, 30, 70, 80, 120]\n",
        "\n",
        "Output : [80, 20]\n",
        "```"
      ],
      "metadata": {
        "id": "zCX0Sk2IBfu8"
      }
    },
    {
      "cell_type": "code",
      "source": [
        "ar1 = [1, 5, 10, 20, 40, 80]\n",
        "ar2 = [6, 7, 20, 80, 100]\n",
        "ar3 = [3, 4, 15, 20, 30, 70, 80, 120]\n",
        "\n",
        "print(set(ar1) & set(ar2) & set(ar3))"
      ],
      "metadata": {
        "id": "rqATYpBUrUQU",
        "colab": {
          "base_uri": "https://localhost:8080/"
        },
        "outputId": "3ec0b2aa-6753-46dd-bbb5-2c4be30866a2"
      },
      "execution_count": 10,
      "outputs": [
        {
          "output_type": "stream",
          "name": "stdout",
          "text": [
            "{80, 20}\n"
          ]
        }
      ]
    },
    {
      "cell_type": "markdown",
      "source": [
        "###`Q2:` Write a program to count unique number of vowels using sets in a given string. Lowercase and upercase vowels will be taken as different.\n",
        "\n",
        "`Input:`\n",
        "```\n",
        "Str1 = \"hands-on data science mentorship progrAm with live classes at affordable fee only on CampusX\"\n",
        "```\n",
        "`Output:`\n",
        "```\n",
        "No of unique vowels-6\n",
        "```"
      ],
      "metadata": {
        "id": "0gOVS-0yCYrK"
      }
    },
    {
      "cell_type": "code",
      "source": [
        "Str1 = \"hands-on data science mentorship progrAm with live classes at affordable fee only on CampusX\"\n",
        "\n",
        "count = 0\n",
        "\n",
        "for i in set(Str1):\n",
        "  if i in [\"a\", \"e\", \"i\", \"o\", \"u\", \"A\", \"E\", \"I\", \"O\", \"U\"]:\n",
        "    count += 1\n",
        "\n",
        "print(\"No of unique vowels-\", count)"
      ],
      "metadata": {
        "id": "0vAlEAOzDihm",
        "colab": {
          "base_uri": "https://localhost:8080/"
        },
        "outputId": "6881affe-e7c5-4b44-e65f-28d54a12ba05"
      },
      "execution_count": 11,
      "outputs": [
        {
          "output_type": "stream",
          "name": "stdout",
          "text": [
            "No of unique vowels- 6\n"
          ]
        }
      ]
    },
    {
      "cell_type": "markdown",
      "source": [
        "### `Q3:` Write a program to Check if a given string is binary string of or not.\n",
        "\n",
        "A string is said to be binary if it's consists of only two unique characters.\n",
        "\n",
        "Take string input from user.\n",
        "\n",
        "```\n",
        "Input: str = \"01010101010\"\n",
        "Output: Yes\n",
        "\n",
        "Input: str = \"1222211\"\n",
        "Output: Yes\n",
        "\n",
        "Input: str = \"Campusx\"\n",
        "Output: No\n",
        "```"
      ],
      "metadata": {
        "id": "fqLZxiarEne5"
      }
    },
    {
      "cell_type": "code",
      "source": [
        "str2 = \"Campusx\"\n",
        "if len({i for i in (str2)}) == 2:\n",
        "  print(\"Yes\")\n",
        "else:\n",
        "  print(\"No\")"
      ],
      "metadata": {
        "id": "5M5v8LoYrXkE",
        "colab": {
          "base_uri": "https://localhost:8080/"
        },
        "outputId": "e6f61400-0119-4adb-f6a1-8287331339e1"
      },
      "execution_count": 12,
      "outputs": [
        {
          "output_type": "stream",
          "name": "stdout",
          "text": [
            "No\n"
          ]
        }
      ]
    },
    {
      "cell_type": "markdown",
      "source": [
        "### `Q4`: find union of n arrays.\n",
        "\n",
        "**Example 1:**\n",
        "\n",
        "Input:\n",
        "```bash\n",
        "[[1, 2, 2, 4, 3, 6],\n",
        " [5, 1, 3, 4],\n",
        " [9, 5, 7, 1],\n",
        " [2, 4, 1, 3]]\n",
        "```\n",
        "\n",
        "Output:\n",
        "\n",
        "```bash\n",
        "[1, 2, 3, 4, 5, 6, 7, 9]\n",
        "```"
      ],
      "metadata": {
        "id": "xXS8wYH1mDqx"
      }
    },
    {
      "cell_type": "code",
      "source": [
        "arr = [\n",
        "    [1, 2, 2, 4, 3, 6],\n",
        "    [5, 1, 3, 4],\n",
        "    [9, 5, 7, 1],\n",
        "    [2, 4, 1, 3]\n",
        "]\n",
        "\n",
        "union_set = set()\n",
        "\n",
        "for sublist in arr:\n",
        "    union_set.update(sublist)  # Add all elements from current sublist\n",
        "\n",
        "print(union_set)"
      ],
      "metadata": {
        "id": "FVNyK6MbncU8",
        "colab": {
          "base_uri": "https://localhost:8080/"
        },
        "outputId": "451fe8f5-acb9-46f4-858e-fee0d35e2029"
      },
      "execution_count": 13,
      "outputs": [
        {
          "output_type": "stream",
          "name": "stdout",
          "text": [
            "{1, 2, 3, 4, 5, 6, 7, 9}\n"
          ]
        }
      ]
    },
    {
      "cell_type": "markdown",
      "source": [
        "### `Q5`: Intersection of two lists. Intersection of two list means we need to take all those elements which are common to both of the initial lists and store them into another list. Only use using **list-comprehension**.\n",
        "\n",
        "**Example 1:**\n",
        "\n",
        "Input:\n",
        "```bash\n",
        "lst1 = {15, 9, 10, 56, 23, 78, 5, 4, 9}\n",
        "lst2 = {9, 4, 5, 36, 47, 26, 10, 45, 87}\n",
        "```\n",
        "\n",
        "Output:\n",
        "```bash\n",
        "[9, 10, 4, 5]\n",
        "```\n",
        "\n",
        "**Example 2:**\n",
        "\n",
        "Input:\n",
        "```bash\n",
        "lst1 = {4, 9, 1, 17, 11, 26, 28, 54, 69}\n",
        "lst2 = {9, 9, 74, 21, 45, 11, 63, 28, 26}\n",
        "```\n",
        "\n",
        "Output:\n",
        "```bash\n",
        "[9, 11, 26, 28]\n",
        "```"
      ],
      "metadata": {
        "id": "T_Re21BdndOz"
      }
    },
    {
      "cell_type": "code",
      "source": [
        "lst1 = {15, 9, 10, 56, 23, 78, 5, 4, 9}\n",
        "lst2 = {9, 4, 5, 36, 47, 26, 10, 45, 87}\n",
        "\n",
        "lst3 = {4, 9, 1, 17, 11, 26, 28, 54, 69}\n",
        "lst4 = {9, 9, 74, 21, 45, 11, 63, 28, 26}\n",
        "\n",
        "print(set(lst1) & set(lst2))\n",
        "print(set(lst3) & set(lst4))"
      ],
      "metadata": {
        "id": "nWnL25ftoLVT",
        "colab": {
          "base_uri": "https://localhost:8080/"
        },
        "outputId": "a7e573ce-7329-4ee0-c563-9483ddd9be79"
      },
      "execution_count": 14,
      "outputs": [
        {
          "output_type": "stream",
          "name": "stdout",
          "text": [
            "{9, 10, 4, 5}\n",
            "{9, 26, 11, 28}\n"
          ]
        }
      ]
    },
    {
      "cell_type": "markdown",
      "source": [
        "# Dictionary"
      ],
      "metadata": {
        "id": "tD2RSYn1a8oA"
      }
    },
    {
      "cell_type": "markdown",
      "source": [
        "### `Q1`: Key with maximum unique values\n",
        "\n",
        "Given a dictionary with values list, extract key whose value has most unique values.\n",
        "\n",
        "**Example 1:**\n",
        "\n",
        "Input:\n",
        "\n",
        "```bash\n",
        "test_dict = {\"CampusX\" : [5, 7, 9, 4, 0], \"is\" : [6, 7, 4, 3, 3], \"Best\" : [9, 9, 6, 5, 5]}\n",
        "```\n",
        "\n",
        "Output:\n",
        "```bash\n",
        "CampusX\n",
        "```\n",
        "\n",
        "**Example 2:**\n",
        "\n",
        "Input:\n",
        "```bash\n",
        "test_dict = {\"CampusX\" : [5, 7, 7, 7, 7], \"is\" : [6, 7, 7, 7], \"Best\" : [9, 9, 6, 5, 5]}\n",
        "```\n",
        "\n",
        "Output:\n",
        "```bash\n",
        "Best\n",
        "```"
      ],
      "metadata": {
        "id": "7tUjHhcPbQzQ"
      }
    },
    {
      "cell_type": "code",
      "source": [
        "test_dict = {\"CampusX\" : [5, 7, 7, 7, 7], \"is\" : [6, 7, 7, 7], \"Best\" : [9, 9, 6, 5, 5]}\n",
        "\n",
        "# {i for i, j in test_dict.items() if max(len(set(j)))}\n",
        "\n",
        "# max_unique = max(len(set(v)) for v in test_dict.values())\n",
        "# result = {k for k, v in test_dict.items() if len(set(v)) == max_unique}\n",
        "# print(result)\n",
        "\n",
        "result = max(test_dict, key=lambda k: len(set(test_dict[k])))\n",
        "print(result)"
      ],
      "metadata": {
        "id": "N8KHX863lNxL",
        "colab": {
          "base_uri": "https://localhost:8080/"
        },
        "outputId": "a91f8ee9-ae65-4225-d71e-40e43a8e0434"
      },
      "execution_count": 15,
      "outputs": [
        {
          "output_type": "stream",
          "name": "stdout",
          "text": [
            "Best\n"
          ]
        }
      ]
    },
    {
      "cell_type": "markdown",
      "source": [
        "### `Q2`: Replace words from Dictionary. Given String, replace it’s words from lookup dictionary.\n",
        "\n",
        "**Example 1:**\n",
        "\n",
        "Input:\n",
        "\n",
        "```bash\n",
        "test_str = 'CampusX best for DS students.'\n",
        "repl_dict = {\"best\" : \"is the best channel\", \"DS\" : \"Data-Science\"}\n",
        "```\n",
        "\n",
        "Output:\n",
        "\n",
        "```bash\n",
        "CampusX is the best channel for Data-Science students.\n",
        "```\n",
        "\n",
        "**Example 2:**\n",
        "\n",
        "Input:\n",
        "```bash\n",
        "test_str = 'CampusX best for DS students.'\n",
        "repl_dict = {\"good\" : \"is the best channel\", \"ds\" : \"Data-Science\"}\n",
        "```\n",
        "\n",
        "Output:\n",
        "```bash\n",
        "CampusX best for DS students.\n",
        "```"
      ],
      "metadata": {
        "id": "_S5X6C84dWdJ"
      }
    },
    {
      "cell_type": "code",
      "source": [
        "test_str = 'CampusX best for DS students.'\n",
        "repl_dict = {\"best\": \"is the best channel\", \"DS\": \"Data-Science\"}\n",
        "\n",
        "updated = \"\"\n",
        "\n",
        "for word in test_str.split(\" \"):\n",
        "    if word in repl_dict:\n",
        "        updated += repl_dict[word] + \" \"\n",
        "    else:\n",
        "        updated += word + \" \"\n",
        "\n",
        "print(updated)"
      ],
      "metadata": {
        "id": "BTAQ8qnrlOxr",
        "colab": {
          "base_uri": "https://localhost:8080/"
        },
        "outputId": "c9463a9f-b575-4e27-b013-b1e0f5080161"
      },
      "execution_count": 16,
      "outputs": [
        {
          "output_type": "stream",
          "name": "stdout",
          "text": [
            "CampusX is the best channel for Data-Science students. \n"
          ]
        }
      ]
    },
    {
      "cell_type": "markdown",
      "source": [
        "### `Q3`: Convert List to List of dictionaries. Given list values and keys list, convert these values to key value pairs in form of list of dictionaries.\n",
        "\n",
        "**Example 1:**\n",
        "\n",
        "Input:\n",
        "```bash\n",
        "test_list = [\"DataScience\", 3, \"is\", 8]\n",
        "key_list = [\"name\", \"id\"]\n",
        "```\n",
        "\n",
        "Output:\n",
        "\n",
        "```bash\n",
        "[{'name': 'DataScience', 'id': 3}, {'name': 'is', 'id': 8}]\n",
        "```\n",
        "\n",
        "**Example 2:**\n",
        "\n",
        "Input:\n",
        "```bash\n",
        "test_list = [\"CampusX\", 10]\n",
        "key_list = [\"name\", \"id\"]\n",
        "```\n",
        "\n",
        "Output:\n",
        "\n",
        "```bash\n",
        "[{'name': 'CampusX', 'id': 10}]\n",
        "```"
      ],
      "metadata": {
        "id": "55xgap3zfbcR"
      }
    },
    {
      "cell_type": "code",
      "source": [
        "test_list1 = [\"CampusX\", 10]\n",
        "key_list1 = [\"name\", \"id\"]\n",
        "\n",
        "# Works only for equal length of lists\n",
        "print({i:j for i,j in zip(key_list1, test_list1)})\n",
        "\n",
        "\n",
        "\n",
        "test_list = [\"DataScience\", 3, \"is\", 8]\n",
        "key_list = [\"name\", \"id\"]\n",
        "\n",
        "# Group values into chunks matching key_list length\n",
        "result = [\n",
        "    dict(zip(key_list, test_list[i:i+len(key_list)]))\n",
        "    for i in range(0, len(test_list), len(key_list))\n",
        "]\n",
        "\n",
        "print(result)\n"
      ],
      "metadata": {
        "id": "jbCajI87lQFr",
        "colab": {
          "base_uri": "https://localhost:8080/"
        },
        "outputId": "258fc619-d2b7-47d4-a4c3-5c02c5fc92b4"
      },
      "execution_count": 17,
      "outputs": [
        {
          "output_type": "stream",
          "name": "stdout",
          "text": [
            "{'name': 'CampusX', 'id': 10}\n",
            "[{'name': 'DataScience', 'id': 3}, {'name': 'is', 'id': 8}]\n"
          ]
        }
      ]
    },
    {
      "cell_type": "markdown",
      "source": [
        "### `Q4`: Convert a list of Tuples into Dictionary.\n",
        "\n",
        "**Example 1:**\n",
        "\n",
        "Input:\n",
        "```bash\n",
        "[(\"akash\", 10), (\"gaurav\", 12), (\"anand\", 14), (\"suraj\", 20), (\"akhil\", 25), (\"ashish\", 30)]\n",
        "```\n",
        "\n",
        "Output:\n",
        "```bash\n",
        "{'akash': [10], 'gaurav': [12], 'anand': [14], 'suraj': [20], 'akhil': [25], 'ashish': [30]}\n",
        "```\n",
        "\n",
        "**Example 2:**\n",
        "\n",
        "Input:\n",
        "```bash\n",
        "[('A', 1), ('B', 2), ('C', 3)]\n",
        "```\n",
        "\n",
        "Output:\n",
        "```bash\n",
        "{'A': [1], 'B': [2], 'C': [3]}\n",
        "```"
      ],
      "metadata": {
        "id": "5RxBlLQahLkB"
      }
    },
    {
      "cell_type": "code",
      "source": [
        "list_tups = [(\"akash\", 10), (\"gaurav\", 12), (\"anand\", 14), (\"suraj\", 20), (\"akhil\", 25), (\"ashish\", 30)]\n",
        "dict_tups = {}\n",
        "for items in list_tups:\n",
        "  dict_tups[items[0]] = items[1]\n",
        "  # dict_tups[items[0]] = items[1]\n",
        "print(dict_tups)"
      ],
      "metadata": {
        "id": "f1yz7inMlQ5N",
        "colab": {
          "base_uri": "https://localhost:8080/"
        },
        "outputId": "c5d5390e-692e-49ac-b880-df2903858b13"
      },
      "execution_count": 18,
      "outputs": [
        {
          "output_type": "stream",
          "name": "stdout",
          "text": [
            "{'akash': 10, 'gaurav': 12, 'anand': 14, 'suraj': 20, 'akhil': 25, 'ashish': 30}\n"
          ]
        }
      ]
    },
    {
      "cell_type": "markdown",
      "source": [
        "### `Q5`: Sort Dictionary key and values List.\n",
        "\n",
        "**Example 1:**\n",
        "\n",
        "Input:\n",
        "\n",
        "```bash\n",
        "{'c': [3], 'b': [12, 10], 'a': [19, 4]}\n",
        "```\n",
        "\n",
        "Output:\n",
        "\n",
        "```bash\n",
        "{'a': [4, 19], 'b': [10, 12], 'c': [3]}\n",
        "```\n",
        "\n",
        "**Example 2:**\n",
        "\n",
        "Input:\n",
        "\n",
        "```bash\n",
        "{'c': [10, 34, 3]}\n",
        "```\n",
        "\n",
        "Output:\n",
        "\n",
        "```bash\n",
        "{'c': [3, 10, 34]}\n",
        "```"
      ],
      "metadata": {
        "id": "Fz8EzJD-kBkS"
      }
    },
    {
      "cell_type": "code",
      "source": [
        "test_dict = {'c': [3], 'b': [12, 10], 'a': [19, 4]}\n",
        "\n",
        "# Sort dictionary by keys, and sort each value list\n",
        "result = {k: sorted(v) for k, v in sorted(test_dict.items())}\n",
        "\n",
        "print(result)"
      ],
      "metadata": {
        "id": "x9UmJ4EQk7Pp",
        "colab": {
          "base_uri": "https://localhost:8080/"
        },
        "outputId": "7ba7f169-c231-4bc8-ea99-1eba1a0c404e"
      },
      "execution_count": 19,
      "outputs": [
        {
          "output_type": "stream",
          "name": "stdout",
          "text": [
            "{'a': [4, 19], 'b': [10, 12], 'c': [3]}\n"
          ]
        }
      ]
    },
    {
      "cell_type": "code",
      "source": [],
      "metadata": {
        "id": "8JoLKywbUo-l"
      },
      "execution_count": null,
      "outputs": []
    }
  ]
}