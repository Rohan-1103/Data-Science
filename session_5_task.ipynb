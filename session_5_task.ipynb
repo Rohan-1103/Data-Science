{
  "nbformat": 4,
  "nbformat_minor": 0,
  "metadata": {
    "colab": {
      "provenance": [],
      "include_colab_link": true
    },
    "kernelspec": {
      "name": "python3",
      "display_name": "Python 3"
    },
    "language_info": {
      "name": "python"
    }
  },
  "cells": [
    {
      "cell_type": "markdown",
      "metadata": {
        "id": "view-in-github",
        "colab_type": "text"
      },
      "source": [
        "<a href=\"https://colab.research.google.com/github/Rohan-1103/Data-Science/blob/main/session_5_task.ipynb\" target=\"_parent\"><img src=\"https://colab.research.google.com/assets/colab-badge.svg\" alt=\"Open In Colab\"/></a>"
      ]
    },
    {
      "cell_type": "markdown",
      "source": [
        "# Tuple\n"
      ],
      "metadata": {
        "id": "limD5IAfl-tz"
      }
    },
    {
      "cell_type": "markdown",
      "source": [
        "###`Q1:` Join Tuples if similar initial element\n",
        "While working with Python tuples, we can have a problem in which we need to perform concatenation of records from the similarity of initial element. This problem can have applications in data domains such as Data Science.\n",
        "\n",
        "For eg.\n",
        "```\n",
        "Input  : test_list = [(5, 6), (5, 7), (5, 8), (6, 10), (7, 13)]\n",
        "Output : [(5, 6, 7, 8), (6, 10), (7, 13)]\n",
        "```"
      ],
      "metadata": {
        "id": "nSTn3CjbmB7q"
      }
    },
    {
      "cell_type": "code",
      "source": [
        "test_list = [(5, 6), (5, 7), (5, 8), (6, 10), (7, 13)]\n",
        "result_list = []\n",
        "\n",
        "for i in range(len(test_list)):\n",
        "  result_list.append(test_list[i])\n",
        "  if result_list[-1][0] == test_list[i][0]:\n",
        "    # result_list[i] += (test_list[i+1])\n",
        "    result_list[-1] += (test_list[i][1],)\n",
        "print(result_list)"
      ],
      "metadata": {
        "id": "hwVeEvH9rJzU",
        "colab": {
          "base_uri": "https://localhost:8080/"
        },
        "outputId": "8527170f-a65f-42fc-80b3-5f07b6dc283b"
      },
      "execution_count": 22,
      "outputs": [
        {
          "output_type": "stream",
          "name": "stdout",
          "text": [
            "[(5, 6, 6), (5, 7, 7), (5, 8, 8), (6, 10, 10), (7, 13, 13)]\n"
          ]
        }
      ]
    },
    {
      "cell_type": "code",
      "source": [
        "test_list = [(5, 6), (5, 7), (5, 8), (6, 10), (7, 13)]\n",
        "result_list = []\n",
        "\n",
        "for i in range(len(test_list)):\n",
        "    if result_list and result_list[-1][0] == test_list[i][0]:\n",
        "        # merge with the last tuple in result_list\n",
        "        result_list[-1] += (test_list[i][1],)\n",
        "    else:\n",
        "        # start a new group\n",
        "        result_list.append(test_list[i])\n",
        "\n",
        "print(result_list)"
      ],
      "metadata": {
        "colab": {
          "base_uri": "https://localhost:8080/"
        },
        "id": "hGJIuJe-X42J",
        "outputId": "595d683b-dd2d-493a-b625-3cf6ee3309d9"
      },
      "execution_count": 23,
      "outputs": [
        {
          "output_type": "stream",
          "name": "stdout",
          "text": [
            "[(5, 6, 7, 8), (6, 10), (7, 13)]\n"
          ]
        }
      ]
    },
    {
      "cell_type": "markdown",
      "source": [
        "###`Q2:` Multiply Adjacent elements (both side) and take sum of right and lest side multiplication result.\n",
        "\n",
        "\n",
        "For eg.\n",
        "```\n",
        "The original tuple : (1, 5, 7, 8, 10)\n",
        "Resultant tuple after multiplication :\n",
        "\n",
        "(1*5, 1*5+5*7, 7*5 + 7*8, 8*7 + 8*10, 10*8) -> (5, 40, 91, 136, 80)\n",
        "\n",
        "output-(5, 40, 91, 136, 80)\n",
        "```"
      ],
      "metadata": {
        "id": "ujQpZOFFmeha"
      }
    },
    {
      "cell_type": "code",
      "source": [
        "tup = (1, 5, 7, 8, 10)\n",
        "\n",
        "sum = 1\n",
        "result = []\n",
        "\n",
        "for i in range(len(tup)-1):\n",
        "  if(tup[i+1]):\n",
        "    sum = tup[i]*tup[i+1] + tup[i-1] * tup[i]\n",
        "    result.append(sum)\n",
        "  elif(tup[i-1]):\n",
        "    # sum = tup[i-1]*tup[i] + tup[i]*tup[i+1]\n",
        "    sum = tup[i-1]*tup[i]\n",
        "    result.append(sum)\n",
        "  else:\n",
        "    sum = tup[i-1]*tup[i]\n",
        "    # result += sum\n",
        "    result.append(sum)\n",
        "\n",
        "print(result)"
      ],
      "metadata": {
        "colab": {
          "base_uri": "https://localhost:8080/"
        },
        "id": "pAPeoVKyeQdO",
        "outputId": "e16eb360-c443-41b6-f2a2-8f0d3a84d90d"
      },
      "execution_count": 45,
      "outputs": [
        {
          "output_type": "stream",
          "name": "stdout",
          "text": [
            "[15, 40, 91, 136]\n"
          ]
        }
      ]
    },
    {
      "cell_type": "code",
      "source": [
        "tup = (1, 5, 7, 8, 10)\n",
        "result = []\n",
        "\n",
        "for i in range(len(tup)):\n",
        "    if i == 0:  # first element\n",
        "        result.append(tup[i] * tup[i+1])\n",
        "    elif i == len(tup) - 1:  # last element\n",
        "        result.append(tup[i] * tup[i-1])\n",
        "    else:  # middle elements\n",
        "        result.append(tup[i] * tup[i-1] + tup[i] * tup[i+1])\n",
        "\n",
        "print(tuple(result))"
      ],
      "metadata": {
        "id": "N9lveEsArNVc",
        "colab": {
          "base_uri": "https://localhost:8080/"
        },
        "outputId": "2bcef6d3-3da1-4ccb-da33-42a340514355"
      },
      "execution_count": 46,
      "outputs": [
        {
          "output_type": "stream",
          "name": "stdout",
          "text": [
            "(5, 40, 91, 136, 80)\n"
          ]
        }
      ]
    },
    {
      "cell_type": "markdown",
      "source": [
        "###`Q3`: Check is tuples are same or not?\n",
        "Two tuples would be same if both tuples have same element at same index\n",
        "```\n",
        "t1 = (1,2,3,0)\n",
        "t2 = (0,1,2,3)\n",
        "\n",
        "t1 and t2 are not same\n",
        "```"
      ],
      "metadata": {
        "id": "x0psnUiu2ZVp"
      }
    },
    {
      "cell_type": "code",
      "source": [
        "t1 = (1,2,3,0)\n",
        "t2 = (0,1,2,3)\n",
        "if t1 == t2:\n",
        "  print(\"t1 and t2 are same.\")\n",
        "else:\n",
        "  print(\"t1 and t2 are not same.\")"
      ],
      "metadata": {
        "id": "JMVw9EhSrPEc",
        "colab": {
          "base_uri": "https://localhost:8080/"
        },
        "outputId": "84475b21-6f04-42f8-990f-2ec2fb5d697a"
      },
      "execution_count": 24,
      "outputs": [
        {
          "output_type": "stream",
          "name": "stdout",
          "text": [
            "t1 and t2 are not same.\n"
          ]
        }
      ]
    },
    {
      "cell_type": "markdown",
      "source": [
        "###`Q4`: Count no of tuples, list and set from a list\n",
        "```\n",
        "list1 = [{'hi', 'bye'},{'Geeks', 'forGeeks'},('a', 'b'),['hi', 'bye'],['a', 'b']]\n",
        "\n",
        "```\n",
        "`Output:`\n",
        "\n",
        "```\n",
        "List-2\n",
        "Set-2\n",
        "Tuples-1\n",
        "```"
      ],
      "metadata": {
        "id": "aZ4rObHK4fCN"
      }
    },
    {
      "cell_type": "code",
      "source": [
        "list1 = [{'hi', 'bye'},{'Geeks', 'forGeeks'},('a', 'b'),['hi', 'bye'],['a', 'b']]\n",
        "\n",
        "List, Set, Tuples = (0, 0, 0)\n",
        "\n",
        "for i in list1:\n",
        "  if type(i) == tuple:\n",
        "    Tuples += 1\n",
        "  if type(i) == list:\n",
        "    List += 1\n",
        "  if type(i) == set:\n",
        "    Set += 1\n",
        "\n",
        "print(\"List-\",List)\n",
        "print(\"Set-\",Set)\n",
        "print(\"Tuples-\",Tuples)"
      ],
      "metadata": {
        "id": "g_Bnuczk69tG",
        "colab": {
          "base_uri": "https://localhost:8080/"
        },
        "outputId": "5d9da192-ee99-4f05-edc6-ad730417fbe9"
      },
      "execution_count": 48,
      "outputs": [
        {
          "output_type": "stream",
          "name": "stdout",
          "text": [
            "List- 2\n",
            "Set- 2\n",
            "Tuples- 1\n"
          ]
        }
      ]
    },
    {
      "cell_type": "markdown",
      "source": [
        "###`Q5`: Shortlist Students for a Job role\n",
        "Ask user to input students record and store in tuples for each record. Then Ask user to input three things he wants in the candidate- Primary Skill, Higher Education, Year of Graduation.\n",
        "\n",
        "Show every students record in form of tuples if matches all required criteria.\n",
        "\n",
        "It is assumed that there will be only one primry skill.\n",
        "\n",
        "If no such candidate found, print `No such candidate`\n",
        "\n",
        "`Input:`\n",
        "```\n",
        "Enter No of records- 2\n",
        "Enter Details of student-1\n",
        "Enter Student name- Manohar\n",
        "Enter Higher Education- B.Tech\n",
        "Enter Primary Skill- Python\n",
        "Enter Year of Graduation- 2022\n",
        "Enter Details of student-2\n",
        "Enter Student name- Ponian\n",
        "Enter Higher Education- B.Sc.\n",
        "Enter Primary Skill- C++\n",
        "Enter Year of Graduation- 2020\n",
        "\n",
        "Enter Job Role Requirement\n",
        "Enter Skill- Python\n",
        "Enter Higher Education- B.Tech\n",
        "Enter Year of Graduation- 2022\n",
        "```\n",
        "\n",
        "`Output`\n",
        "```\n",
        "('Manohar', 'B.tech', 'Python', '2022')\n",
        "```\n"
      ],
      "metadata": {
        "id": "jInFNuit8hf1"
      }
    },
    {
      "cell_type": "code",
      "source": [
        "# Input number of student records\n",
        "n = int(input(\"Enter No of records- \"))\n",
        "\n",
        "students = []\n",
        "\n",
        "# Taking student records\n",
        "for i in range(1, n+1):\n",
        "    print(f\"Enter Details of student-{i}\")\n",
        "    name = input(\"Enter Student name- \")\n",
        "    edu = input(\"Enter Higher Education- \")\n",
        "    skill = input(\"Enter Primary Skill- \")\n",
        "    grad_year = input(\"Enter Year of Graduation- \")\n",
        "\n",
        "    students.append((name, edu, skill, grad_year))\n",
        "\n",
        "# Job role requirement\n",
        "print(\"\\nEnter Job Role Requirement\")\n",
        "req_skill = input(\"Enter Skill- \")\n",
        "req_edu = input(\"Enter Higher Education- \")\n",
        "req_grad_year = input(\"Enter Year of Graduation- \")\n",
        "\n",
        "# Filtering students\n",
        "matches = [\n",
        "    student for student in students\n",
        "    if student[1].lower() == req_edu.lower()\n",
        "    and student[2].lower() == req_skill.lower()\n",
        "    and student[3] == req_grad_year\n",
        "]\n",
        "\n",
        "# Output results\n",
        "if matches:\n",
        "    for match in matches:\n",
        "        print(match)\n",
        "else:\n",
        "    print(\"No such candidate\")\n"
      ],
      "metadata": {
        "id": "erh9QZaerSHk",
        "colab": {
          "base_uri": "https://localhost:8080/"
        },
        "outputId": "9b7174e8-910a-4bfc-d363-82e502bc4e08"
      },
      "execution_count": 49,
      "outputs": [
        {
          "output_type": "stream",
          "name": "stdout",
          "text": [
            "Enter No of records- 3\n",
            "Enter Details of student-1\n",
            "Enter Student name- Rohan Goswami\n",
            "Enter Higher Education- MCA\n",
            "Enter Primary Skill- Data Visualization\n",
            "Enter Year of Graduation- 2026\n",
            "Enter Details of student-2\n",
            "Enter Student name- Kiran Goswami\n",
            "Enter Higher Education- MSC\n",
            "Enter Primary Skill- Pledgerism\n",
            "Enter Year of Graduation- 2022\n",
            "Enter Details of student-3\n",
            "Enter Student name- Mahek Jhangiani\n",
            "Enter Higher Education- Bcom\n",
            "Enter Primary Skill- Customer Service\n",
            "Enter Year of Graduation- 2027\n",
            "\n",
            "Enter Job Role Requirement\n",
            "Enter Skill- Data Visualization\n",
            "Enter Higher Education- MCA\n",
            "Enter Year of Graduation- 2026\n",
            "('Rohan Goswami', 'MCA', 'Data Visualization', '2026')\n"
          ]
        }
      ]
    },
    {
      "cell_type": "markdown",
      "source": [
        "# Set"
      ],
      "metadata": {
        "id": "l4hLvwD2BeIN"
      }
    },
    {
      "cell_type": "markdown",
      "source": [
        "###`Q1:` Write a program to find set of common elements in three lists using sets.\n",
        "```\n",
        "Input : ar1 = [1, 5, 10, 20, 40, 80]\n",
        "        ar2 = [6, 7, 20, 80, 100]\n",
        "        ar3 = [3, 4, 15, 20, 30, 70, 80, 120]\n",
        "\n",
        "Output : [80, 20]\n",
        "```"
      ],
      "metadata": {
        "id": "zCX0Sk2IBfu8"
      }
    },
    {
      "cell_type": "code",
      "source": [
        "ar1 = [1, 5, 10, 20, 40, 80]\n",
        "ar2 = [6, 7, 20, 80, 100]\n",
        "ar3 = [3, 4, 15, 20, 30, 70, 80, 120]\n",
        "\n",
        "print(set(ar1) & set(ar2) & set(ar3))"
      ],
      "metadata": {
        "id": "rqATYpBUrUQU",
        "colab": {
          "base_uri": "https://localhost:8080/"
        },
        "outputId": "53006794-9e09-4f79-8f3f-ad09f86f109a"
      },
      "execution_count": 51,
      "outputs": [
        {
          "output_type": "stream",
          "name": "stdout",
          "text": [
            "{80, 20}\n"
          ]
        }
      ]
    },
    {
      "cell_type": "markdown",
      "source": [
        "###`Q2:` Write a program to count unique number of vowels using sets in a given string. Lowercase and upercase vowels will be taken as different.\n",
        "\n",
        "`Input:`\n",
        "```\n",
        "Str1 = \"hands-on data science mentorship progrAm with live classes at affordable fee only on CampusX\"\n",
        "```\n",
        "`Output:`\n",
        "```\n",
        "No of unique vowels-6\n",
        "```"
      ],
      "metadata": {
        "id": "0gOVS-0yCYrK"
      }
    },
    {
      "cell_type": "code",
      "source": [
        "Str1 = \"hands-on data science mentorship progrAm with live classes at affordable fee only on CampusX\"\n",
        "\n",
        "count = 0\n",
        "\n",
        "for i in set(Str1):\n",
        "  if i in [\"a\", \"e\", \"i\", \"o\", \"u\", \"A\", \"E\", \"I\", \"O\", \"U\"]:\n",
        "    count += 1\n",
        "\n",
        "print(\"No of unique vowels-\", count)"
      ],
      "metadata": {
        "id": "0vAlEAOzDihm",
        "colab": {
          "base_uri": "https://localhost:8080/"
        },
        "outputId": "80fd0211-f663-4de9-f432-9e99400f610c"
      },
      "execution_count": 54,
      "outputs": [
        {
          "output_type": "stream",
          "name": "stdout",
          "text": [
            "No of unique vowels- 28\n"
          ]
        }
      ]
    },
    {
      "cell_type": "markdown",
      "source": [
        "### `Q3:` Write a program to Check if a given string is binary string of or not.\n",
        "\n",
        "A string is said to be binary if it's consists of only two unique characters.\n",
        "\n",
        "Take string input from user.\n",
        "\n",
        "```\n",
        "Input: str = \"01010101010\"\n",
        "Output: Yes\n",
        "\n",
        "Input: str = \"1222211\"\n",
        "Output: Yes\n",
        "\n",
        "Input: str = \"Campusx\"\n",
        "Output: No\n",
        "```"
      ],
      "metadata": {
        "id": "fqLZxiarEne5"
      }
    },
    {
      "cell_type": "code",
      "source": [
        "str2 = \"Campusx\"\n",
        "if len({i for i in (str2)}) == 2:\n",
        "  print(\"Yes\")\n",
        "else:\n",
        "  print(\"No\")"
      ],
      "metadata": {
        "id": "5M5v8LoYrXkE",
        "colab": {
          "base_uri": "https://localhost:8080/"
        },
        "outputId": "c32799b6-00dd-4bff-a151-6e28cf4df98a"
      },
      "execution_count": 56,
      "outputs": [
        {
          "output_type": "stream",
          "name": "stdout",
          "text": [
            "No\n"
          ]
        }
      ]
    },
    {
      "cell_type": "markdown",
      "source": [
        "### `Q4`: find union of n arrays.\n",
        "\n",
        "**Example 1:**\n",
        "\n",
        "Input:\n",
        "```bash\n",
        "[[1, 2, 2, 4, 3, 6],\n",
        " [5, 1, 3, 4],\n",
        " [9, 5, 7, 1],\n",
        " [2, 4, 1, 3]]\n",
        "```\n",
        "\n",
        "Output:\n",
        "\n",
        "```bash\n",
        "[1, 2, 3, 4, 5, 6, 7, 9]\n",
        "```"
      ],
      "metadata": {
        "id": "xXS8wYH1mDqx"
      }
    },
    {
      "cell_type": "code",
      "source": [
        "arr = [\n",
        "    [1, 2, 2, 4, 3, 6],\n",
        "    [5, 1, 3, 4],\n",
        "    [9, 5, 7, 1],\n",
        "    [2, 4, 1, 3]\n",
        "]\n",
        "\n",
        "union_set = set()\n",
        "\n",
        "for sublist in arr:\n",
        "    union_set.update(sublist)  # Add all elements from current sublist\n",
        "\n",
        "print(union_set)"
      ],
      "metadata": {
        "id": "FVNyK6MbncU8",
        "colab": {
          "base_uri": "https://localhost:8080/"
        },
        "outputId": "da5fe1dc-d2a7-411a-bbcc-632a12718f93"
      },
      "execution_count": 65,
      "outputs": [
        {
          "output_type": "stream",
          "name": "stdout",
          "text": [
            "{1, 2, 3, 4, 5, 6, 7, 9}\n"
          ]
        }
      ]
    },
    {
      "cell_type": "markdown",
      "source": [
        "### `Q5`: Intersection of two lists. Intersection of two list means we need to take all those elements which are common to both of the initial lists and store them into another list. Only use using **list-comprehension**.\n",
        "\n",
        "**Example 1:**\n",
        "\n",
        "Input:\n",
        "```bash\n",
        "lst1 = {15, 9, 10, 56, 23, 78, 5, 4, 9}\n",
        "lst2 = {9, 4, 5, 36, 47, 26, 10, 45, 87}\n",
        "```\n",
        "\n",
        "Output:\n",
        "```bash\n",
        "[9, 10, 4, 5]\n",
        "```\n",
        "\n",
        "**Example 2:**\n",
        "\n",
        "Input:\n",
        "```bash\n",
        "lst1 = {4, 9, 1, 17, 11, 26, 28, 54, 69}\n",
        "lst2 = {9, 9, 74, 21, 45, 11, 63, 28, 26}\n",
        "```\n",
        "\n",
        "Output:\n",
        "```bash\n",
        "[9, 11, 26, 28]\n",
        "```"
      ],
      "metadata": {
        "id": "T_Re21BdndOz"
      }
    },
    {
      "cell_type": "code",
      "source": [
        "lst1 = {15, 9, 10, 56, 23, 78, 5, 4, 9}\n",
        "lst2 = {9, 4, 5, 36, 47, 26, 10, 45, 87}\n",
        "\n",
        "lst3 = {4, 9, 1, 17, 11, 26, 28, 54, 69}\n",
        "lst4 = {9, 9, 74, 21, 45, 11, 63, 28, 26}\n",
        "\n",
        "print(set(lst1) & set(lst2))\n",
        "print(set(lst3) & set(lst4))"
      ],
      "metadata": {
        "id": "nWnL25ftoLVT",
        "colab": {
          "base_uri": "https://localhost:8080/"
        },
        "outputId": "282f8580-0d0c-4c0b-b36f-4cf4c1fd5371"
      },
      "execution_count": 66,
      "outputs": [
        {
          "output_type": "stream",
          "name": "stdout",
          "text": [
            "{9, 10, 4, 5}\n",
            "{9, 26, 11, 28}\n"
          ]
        }
      ]
    },
    {
      "cell_type": "markdown",
      "source": [
        "# Dictionary"
      ],
      "metadata": {
        "id": "tD2RSYn1a8oA"
      }
    },
    {
      "cell_type": "markdown",
      "source": [
        "### `Q1`: Key with maximum unique values\n",
        "\n",
        "Given a dictionary with values list, extract key whose value has most unique values.\n",
        "\n",
        "**Example 1:**\n",
        "\n",
        "Input:\n",
        "\n",
        "```bash\n",
        "test_dict = {\"CampusX\" : [5, 7, 9, 4, 0], \"is\" : [6, 7, 4, 3, 3], \"Best\" : [9, 9, 6, 5, 5]}\n",
        "```\n",
        "\n",
        "Output:\n",
        "```bash\n",
        "CampusX\n",
        "```\n",
        "\n",
        "**Example 2:**\n",
        "\n",
        "Input:\n",
        "```bash\n",
        "test_dict = {\"CampusX\" : [5, 7, 7, 7, 7], \"is\" : [6, 7, 7, 7], \"Best\" : [9, 9, 6, 5, 5]}\n",
        "```\n",
        "\n",
        "Output:\n",
        "```bash\n",
        "Best\n",
        "```"
      ],
      "metadata": {
        "id": "7tUjHhcPbQzQ"
      }
    },
    {
      "cell_type": "code",
      "source": [
        "# write your code here"
      ],
      "metadata": {
        "id": "N8KHX863lNxL"
      },
      "execution_count": null,
      "outputs": []
    },
    {
      "cell_type": "markdown",
      "source": [
        "### `Q2`: Replace words from Dictionary. Given String, replace it’s words from lookup dictionary.\n",
        "\n",
        "**Example 1:**\n",
        "\n",
        "Input:\n",
        "\n",
        "```bash\n",
        "test_str = 'CampusX best for DS students.'\n",
        "repl_dict = {\"best\" : \"is the best channel\", \"DS\" : \"Data-Science\"}\n",
        "```\n",
        "\n",
        "Output:\n",
        "\n",
        "```bash\n",
        "CampusX is the best channel for Data-Science students.\n",
        "```\n",
        "\n",
        "**Example 2:**\n",
        "\n",
        "Input:\n",
        "```bash\n",
        "test_str = 'CampusX best for DS students.'\n",
        "repl_dict = {\"good\" : \"is the best channel\", \"ds\" : \"Data-Science\"}\n",
        "```\n",
        "\n",
        "Output:\n",
        "```bash\n",
        "CampusX best for DS students.\n",
        "```"
      ],
      "metadata": {
        "id": "_S5X6C84dWdJ"
      }
    },
    {
      "cell_type": "code",
      "source": [
        "# write your code here"
      ],
      "metadata": {
        "id": "BTAQ8qnrlOxr"
      },
      "execution_count": null,
      "outputs": []
    },
    {
      "cell_type": "markdown",
      "source": [
        "### `Q3`: Convert List to List of dictionaries. Given list values and keys list, convert these values to key value pairs in form of list of dictionaries.\n",
        "\n",
        "**Example 1:**\n",
        "\n",
        "Input:\n",
        "```bash\n",
        "test_list = [\"DataScience\", 3, \"is\", 8]\n",
        "key_list = [\"name\", \"id\"]\n",
        "```\n",
        "\n",
        "Output:\n",
        "\n",
        "```bash\n",
        "[{'name': 'DataScience', 'id': 3}, {'name': 'is', 'id': 8}]\n",
        "```\n",
        "\n",
        "**Example 2:**\n",
        "\n",
        "Input:\n",
        "```bash\n",
        "test_list = [\"CampusX\", 10]\n",
        "key_list = [\"name\", \"id\"]\n",
        "```\n",
        "\n",
        "Output:\n",
        "\n",
        "```bash\n",
        "[{'name': 'CampusX', 'id': 10}]\n",
        "```"
      ],
      "metadata": {
        "id": "55xgap3zfbcR"
      }
    },
    {
      "cell_type": "code",
      "source": [
        "# write your code here"
      ],
      "metadata": {
        "id": "jbCajI87lQFr"
      },
      "execution_count": null,
      "outputs": []
    },
    {
      "cell_type": "markdown",
      "source": [
        "### `Q4`: Convert a list of Tuples into Dictionary.\n",
        "\n",
        "**Example 1:**\n",
        "\n",
        "Input:\n",
        "```bash\n",
        "[(\"akash\", 10), (\"gaurav\", 12), (\"anand\", 14), (\"suraj\", 20), (\"akhil\", 25), (\"ashish\", 30)]\n",
        "```\n",
        "\n",
        "Output:\n",
        "```bash\n",
        "{'akash': [10], 'gaurav': [12], 'anand': [14], 'suraj': [20], 'akhil': [25], 'ashish': [30]}\n",
        "```\n",
        "\n",
        "**Example 2:**\n",
        "\n",
        "Input:\n",
        "```bash\n",
        "[('A', 1), ('B', 2), ('C', 3)]\n",
        "```\n",
        "\n",
        "Output:\n",
        "```bash\n",
        "{'A': [1], 'B': [2], 'C': [3]}\n",
        "```"
      ],
      "metadata": {
        "id": "5RxBlLQahLkB"
      }
    },
    {
      "cell_type": "code",
      "source": [
        "# write your code here"
      ],
      "metadata": {
        "id": "f1yz7inMlQ5N"
      },
      "execution_count": null,
      "outputs": []
    },
    {
      "cell_type": "markdown",
      "source": [
        "### `Q5`: Sort Dictionary key and values List.\n",
        "\n",
        "**Example 1:**\n",
        "\n",
        "Input:\n",
        "\n",
        "```bash\n",
        "{'c': [3], 'b': [12, 10], 'a': [19, 4]}\n",
        "```\n",
        "\n",
        "Output:\n",
        "\n",
        "```bash\n",
        "{'a': [4, 19], 'b': [10, 12], 'c': [3]}\n",
        "```\n",
        "\n",
        "**Example 2:**\n",
        "\n",
        "Input:\n",
        "\n",
        "```bash\n",
        "{'c': [10, 34, 3]}\n",
        "```\n",
        "\n",
        "Output:\n",
        "\n",
        "```bash\n",
        "{'c': [3, 10, 34]}\n",
        "```"
      ],
      "metadata": {
        "id": "Fz8EzJD-kBkS"
      }
    },
    {
      "cell_type": "code",
      "source": [
        "# write your code here"
      ],
      "metadata": {
        "id": "x9UmJ4EQk7Pp"
      },
      "execution_count": null,
      "outputs": []
    }
  ]
}